{
 "cells": [
  {
   "cell_type": "markdown",
   "metadata": {},
   "source": [
    "# Experimentation notebook\n",
    "\n",
    "Here, I have performed experiements with the data, models and techniques that could be added to the model. Some techniques need further testing before integrating into the model. Hence, for POC purpose and understanding the key ideas I have utilised this notebook. \n",
    "\n",
    "- FINGPT [Project link](https://github.com/xandie985/RAGFinanceChatBot/tree/main)\n",
    "- Developed by: Sandeep Kumar Kushwaha [LinkedIn](https://www.linkedin.com/in/xandie985/)\n",
    "\n",
    "\n"
   ]
  },
  {
   "cell_type": "markdown",
   "metadata": {},
   "source": [
    "## Data Ingestion"
   ]
  },
  {
   "cell_type": "code",
   "execution_count": null,
   "metadata": {},
   "outputs": [],
   "source": [
    "!brew install x265 libjpeg libde265 libheif\n",
    "!pip install --upgrade pip\n",
    "!pip install --upgrade pillow-heif --no-binary :all:\n",
    "!pip install unstructured-inference\n",
    "!pip install -qU langchain-text-splitters\n",
    "!pip install unstructured\n",
    "!pip install pdfminer.six\n",
    "!pip install pdf2img\n",
    "!pip install opencv-python"
   ]
  },
  {
   "cell_type": "code",
   "execution_count": 18,
   "metadata": {},
   "outputs": [
    {
     "name": "stdout",
     "output_type": "stream",
     "text": [
      "The autoreload extension is already loaded. To reload it, use:\n",
      "  %reload_ext autoreload\n"
     ]
    }
   ],
   "source": [
    "import os\n",
    "from typing import List\n",
    "from langchain.document_loaders import PyPDFLoader\n",
    "from langchain_text_splitters import RecursiveCharacterTextSplitter\n",
    "from langchain.vectorstores import Chroma\n",
    "from langchain_community.embeddings import OpenAIEmbeddings\n",
    "\n",
    "from pyprojroot import here\n",
    "import warnings; warnings.filterwarnings(\"ignore\")\n",
    "import time\n",
    "\n",
    "%load_ext autoreload\n",
    "%autoreload 2"
   ]
  },
  {
   "cell_type": "code",
   "execution_count": 43,
   "metadata": {},
   "outputs": [
    {
     "data": {
      "text/plain": [
       "True"
      ]
     },
     "execution_count": 43,
     "metadata": {},
     "output_type": "execute_result"
    }
   ],
   "source": [
    "from dotenv import load_dotenv\n",
    "load_dotenv(dotenv_path=here(\".env\"))"
   ]
  },
  {
   "cell_type": "code",
   "execution_count": 44,
   "metadata": {},
   "outputs": [],
   "source": [
    "api_key = os.getenv(\"OPENAI_API_KEY\")\n",
    "if api_key is None:\n",
    "    raise ValueError(\"The OPENAI_API_KEY environment variable is not set.\")\n",
    "os.environ[\"OPENAI_API_KEY\"] = api_key"
   ]
  },
  {
   "cell_type": "markdown",
   "metadata": {},
   "source": [
    "#### Setting Prompts for LLM"
   ]
  },
  {
   "cell_type": "code",
   "execution_count": 167,
   "metadata": {},
   "outputs": [],
   "source": [
    "system_prompt = \"\"\"You are the The Best Financial Research Analyst. \\\n",
    "    You are expert in analyzing financial statements, forecasting financial performance, \\\n",
    "    valuing the company, assessing investment opportunities and preparing research reports. \\\n",
    "    You will recieve a chat history, retrieved content from the vectorDB based on the user's question, and the source.\\ \n",
    "    Your task is to respond to the user's question using the information \\\n",
    "    from the vectorDB and Chat history, without relying on your own knowledge. \\\n",
    "    Your output should contain only your response, and if you can't find relevant context say that you don't know. \\\n",
    "    You will receive a input prompt enclosed in triple backtics:\n",
    "\n",
    "    # Retrieved content number:\\n\n",
    "    Content\\n\\n\n",
    "    Source\\n\\n\n",
    "\n",
    "    # User question:\\n \n",
    "    \"\"\"\n",
    "\n",
    "query_rewriting_prompt = \"\"\"You are an AI specializing in financial analysis, trained to enhance query precision for retrieving information from financial databases.\\\n",
    "    Your task is to rewrite queries to be more specific and focused on financial concepts, terminology, and metrics relevant to a senior analyst.\\\n",
    "    Consider the following when rewriting:\n",
    "    * Specificity: Clarify ambiguous terms or abbreviations (e.g., \"EPS\" to \"Earnings Per Share\").\n",
    "    * Financial Metrics:  Incorporate relevant financial metrics or ratios (e.g., \"profit\" to \"net income\" or \"ROE\").\n",
    "    * Time Period:  If not specified, include a relevant time frame (e.g., \"last quarter,\" \"fiscal year 2023\").\n",
    "    * Company/Industry Context:  Add company names or industry terms if relevant (e.g., \"tech company valuations\").\n",
    "    * Financial Statement Focus: Specify the financial statement if applicable (e.g., \"balance sheet,\" \"income statement,\" \"cash flow statement\").\n",
    "\n",
    "    Examples:\n",
    "\n",
    "    Original Query: \"How did the company Google do last year?\"\n",
    "    Rewritten Query: \"What was the Google's net income and revenue growth in the last fiscal year?\"\n",
    "\n",
    "    Original Query: \"NVIDIA Stock performance?\"\n",
    "    Rewritten Query: \"What was the NVIDIA's stock price performance (e.g., year-to-date return, 52-week high/low) and trading volume?\"\n",
    "\n",
    "    Original Query: \"Profit margin Q2 2024 Microsoft companies?\"\n",
    "    Rewritten Query: \"What is the average net profit margin for Microsoft in Q2 2024?\"\n",
    "\n",
    "    Original Query: \"Debt level NVIDIA?\"\n",
    "    Rewritten Query: \"What is the NVIDIA's total debt-to-equity ratio as of the most recent quarter?\"\n",
    "\n",
    "    Original Query: \"Cash flow from operations?\"\n",
    "    Rewritten Query: \"What was the company's cash flow from operations in the last fiscal year, and how does it compare to the prior year?\"\n",
    "\n",
    "    Your goal is to rewrite queries to be clear, unambiguous, and aligned with the analytical needs of a senior financial professional. \"\"\"\n",
    "\n",
    "query_expansion_prompt= \"\"\" You are a financial analyst assistant that breaks down a user's financial analysis query into sub-queries.\\\n",
    "    The sub-queries should be mutually exclusive and collectively exhaustive, focusing on different aspects of financial analysis.\\\n",
    "    Your response will be a JSON object with a `queries` field, which is a list of `query` objects, each detailing a specific aspect of the financial analysis.\\\n",
    "    \"\"\"\n",
    "\n",
    "# user queries examples\n",
    "incomplete_messg = \"Revenue NVIDIA?\"\n",
    "message = \"Who is the CEO of Alphabet Inc?\" \n",
    "message1 = \"What is the Commission file number on Alphabet's report?\" #APLHABET: 001-37580  | pg1\n",
    "message2 = \"What was the balance at Beginning at Year December 31, 2021 for Alphabet?\" # ALPHABET: USD 1,344 | pg 91\n",
    "message4 = \"What was the Total Fees Billed by the Independent Registered Public Accounting Firm in Fiscal 2023 for NVIDIA?\" # [NVIDIA: USD 8,308,800 |pg 68]\n",
    "message3 = \"What was the balance at End at Year December 31, 2021 for Alphabet and by what margin did the Revenue increased $13.6 billion for Microsoft in 2023 compare to fiscal 2022?\" #[GOOGL: USD 1,389 | pg 91] [MSFT: 7% | pg31]"
   ]
  },
  {
   "cell_type": "code",
   "execution_count": 22,
   "metadata": {},
   "outputs": [],
   "source": [
    "# settings for models and other config\n",
    "\n",
    "llm_model=\"gpt-4o-mini\"\n",
    "temperature = 0.2\n",
    "embeddings = OpenAIEmbeddings()"
   ]
  },
  {
   "cell_type": "markdown",
   "metadata": {},
   "source": [
    "### Setting up Directory Paths, Loading and processing docs"
   ]
  },
  {
   "cell_type": "code",
   "execution_count": 23,
   "metadata": {},
   "outputs": [],
   "source": [
    "\n",
    "directory_path = here(\"data/docs\")"
   ]
  },
  {
   "cell_type": "code",
   "execution_count": 24,
   "metadata": {},
   "outputs": [],
   "source": [
    "def load_docs(directory_path):\n",
    "    \"\"\"Loads all PDF files from the directory and splits them into chunks.\"\"\"\n",
    "    pdf_files = [f for f in os.listdir(directory_path) if f.endswith(\".pdf\")]\n",
    "    print(\"Number of PDF files:\", len(pdf_files))\n",
    "    \n",
    "    docs = []\n",
    "    document_file_paths = []  # Initialize the list to store file paths\n",
    "    \n",
    "    for pdf_file in pdf_files:\n",
    "        file_path = os.path.join(directory_path, pdf_file)\n",
    "        loader = PyPDFLoader(file_path)\n",
    "        docs.extend(loader.load())\n",
    "        document_file_paths.append(file_path)  # Add the file path to the list\n",
    "    \n",
    "    print(\"Number of documents:\", len(docs))\n",
    "\n",
    "    return docs, document_file_paths"
   ]
  },
  {
   "cell_type": "code",
   "execution_count": 25,
   "metadata": {},
   "outputs": [
    {
     "name": "stdout",
     "output_type": "stream",
     "text": [
      "Number of PDF files: 3\n",
      "Number of documents: 351\n"
     ]
    }
   ],
   "source": [
    "doc_pages, doc_file_paths =load_docs(directory_path)"
   ]
  },
  {
   "cell_type": "markdown",
   "metadata": {},
   "source": [
    "### Splitting documents via Recursive Character Text Splitter"
   ]
  },
  {
   "cell_type": "code",
   "execution_count": 26,
   "metadata": {},
   "outputs": [],
   "source": [
    "import matplotlib.pyplot as plt\n",
    "\n",
    "def split_documentsRCTS(docs: List, chunk_size: int = 1000, chunk_overlap: int = 200):\n",
    "    \"\"\"Splits documents into chunks of specified size.\"\"\"\n",
    "    text_splitter = RecursiveCharacterTextSplitter(\n",
    "        chunk_size=chunk_size,\n",
    "        chunk_overlap=chunk_overlap,\n",
    "        separators=[\"\\n\\n\", \"\\n\", \" \", \"\"]\n",
    "    )\n",
    "    chunked_documents = text_splitter.split_documents(docs)\n",
    "    len_chunk = []\n",
    "    word_count = []\n",
    "    for chunk in chunked_documents:\n",
    "        word_count.append(len(chunk.page_content.split()))\n",
    "        len_chunk.append(len(chunk.page_content))\n",
    "    return chunked_documents, len_chunk, word_count\n",
    "\n",
    "import matplotlib.pyplot as plt\n",
    "\n",
    "def plot_chunks_and_words(len_chunk, word_count, heading, num_bins=100):\n",
    "    \"\"\"Plots histograms of chunk lengths and word counts with descriptive statistics.\"\"\"\n",
    "\n",
    "    fig, axes = plt.subplots(1, 2, figsize=(15, 6))  # Create two subplots side-by-side\n",
    "\n",
    "    # Plot Chunk Lengths\n",
    "    axes[0].hist(len_chunk, bins=num_bins, color='skyblue', alpha=0.7, label='Chunk Length')\n",
    "    axes[0].set_title(f\"{heading} - Chunk Lengths\")\n",
    "    axes[0].set_xlabel(\"Chunk Length (Characters)\")\n",
    "    axes[0].set_ylabel(\"Frequency\")\n",
    "\n",
    "    # Add chunk length statistics\n",
    "    min_len = min(len_chunk)\n",
    "    max_len = max(len_chunk)\n",
    "    mean_len = sum(len_chunk) / len(len_chunk)\n",
    "    axes[0].text(0.95, 0.95, f'Min: {min_len}', transform=axes[0].transAxes, verticalalignment='top', horizontalalignment='right', color='red', bbox=dict(boxstyle='round', facecolor='wheat', alpha=0.5))\n",
    "    axes[0].text(0.95, 0.90, f'Max: {max_len}', transform=axes[0].transAxes, verticalalignment='top', horizontalalignment='right', color='red', bbox=dict(boxstyle='round', facecolor='wheat', alpha=0.5))\n",
    "    axes[0].text(0.95, 0.85, f'Mean: {mean_len:.2f}', transform=axes[0].transAxes, verticalalignment='top', horizontalalignment='right', color='red', bbox=dict(boxstyle='round', facecolor='wheat', alpha=0.5))\n",
    "\n",
    "    # Plot Word Counts\n",
    "    axes[1].hist(word_count, bins=num_bins, color='lightgreen', alpha=0.7, label='Word Count')\n",
    "    axes[1].set_title(f\"{heading} - Word Counts\")\n",
    "    axes[1].set_xlabel(\"Word Count\")\n",
    "    axes[1].set_ylabel(\"Frequency\")\n",
    "\n",
    "    # Add word count statistics\n",
    "    min_words = min(word_count)\n",
    "    max_words = max(word_count)\n",
    "    mean_words = sum(word_count) / len(word_count)\n",
    "    axes[1].text(0.95, 0.95, f'Min: {min_words}', transform=axes[1].transAxes, verticalalignment='top', horizontalalignment='right', color='red', bbox=dict(boxstyle='round', facecolor='wheat', alpha=0.5))\n",
    "    axes[1].text(0.95, 0.90, f'Max: {max_words}', transform=axes[1].transAxes, verticalalignment='top', horizontalalignment='right', color='red', bbox=dict(boxstyle='round', facecolor='wheat', alpha=0.5))\n",
    "    axes[1].text(0.95, 0.85, f'Mean: {mean_words:.2f}', transform=axes[1].transAxes, verticalalignment='top', horizontalalignment='right', color='red', bbox=dict(boxstyle='round', facecolor='wheat', alpha=0.5))\n",
    "   \n",
    "    plt.show()\n"
   ]
  },
  {
   "cell_type": "code",
   "execution_count": 27,
   "metadata": {},
   "outputs": [
    {
     "data": {
      "image/png": "[encoded data removed]",
      "text/plain": [
       "<Figure size 1500x600 with 2 Axes>"
      ]
     },
     "metadata": {},
     "output_type": "display_data"
    }
   ],
   "source": [
    "RCTS_chunked_documents, RCTS_len_chunks, RCTS_word_count = split_documentsRCTS(doc_pages, chunk_size=1000, chunk_overlap=200)\n",
    "plot_chunks_and_words(RCTS_len_chunks, RCTS_word_count, \"Chunks created by RecursiveCharacterTextSplitter\")"
   ]
  },
  {
   "cell_type": "markdown",
   "metadata": {},
   "source": [
    "### Chunking and Processing data with UNStRCUCTRED.io"
   ]
  },
  {
   "cell_type": "markdown",
   "metadata": {},
   "source": [
    "Will be processing a single pdf file here. \n",
    "- It's able to extract tables, and read within the images in pdf too. \n",
    "- It incorporated the OCR features to achieve this feat. For complex and high quality data preparation `unstrcutured.io` can be used. \n",
    "- Lets see how Unstructured.io extracts infromation from pdfs. "
   ]
  },
  {
   "cell_type": "code",
   "execution_count": 41,
   "metadata": {},
   "outputs": [
    {
     "name": "stdout",
     "output_type": "stream",
     "text": [
      "/Users/wenda/Downloads/RAGFinanceChatBot-main/data/docs/alphabet-2023.pdf\n"
     ]
    }
   ],
   "source": [
    "path_to_pdf = doc_file_paths[0]\n",
    "print(path_to_pdf)"
   ]
  },
  {
   "cell_type": "code",
   "execution_count": 52,
   "metadata": {},
   "outputs": [
    {
     "ename": "ModuleNotFoundError",
     "evalue": "No module named 'unstructured_inference.inference.ordering'",
     "output_type": "error",
     "traceback": [
      "\u001b[0;31m---------------------------------------------------------------------------\u001b[0m",
      "\u001b[0;31mModuleNotFoundError\u001b[0m                       Traceback (most recent call last)",
      "\u001b[0;32m/var/folders/9z/1zsbrjl17xj_76sy78736hmr0000gn/T/ipykernel_78977/1804154233.py\u001b[0m in \u001b[0;36m<module>\u001b[0;34m\u001b[0m\n\u001b[0;32m----> 1\u001b[0;31m \u001b[0;32mfrom\u001b[0m \u001b[0munstructured\u001b[0m\u001b[0;34m.\u001b[0m\u001b[0mpartition\u001b[0m\u001b[0;34m.\u001b[0m\u001b[0mpdf\u001b[0m \u001b[0;32mimport\u001b[0m \u001b[0mpartition_pdf\u001b[0m\u001b[0;34m\u001b[0m\u001b[0;34m\u001b[0m\u001b[0m\n\u001b[0m\u001b[1;32m      2\u001b[0m \u001b[0melements\u001b[0m \u001b[0;34m=\u001b[0m \u001b[0mpartition_pdf\u001b[0m\u001b[0;34m(\u001b[0m\u001b[0mdoc_file_paths\u001b[0m\u001b[0;34m[\u001b[0m\u001b[0;36m0\u001b[0m\u001b[0;34m]\u001b[0m\u001b[0;34m)\u001b[0m\u001b[0;34m\u001b[0m\u001b[0;34m\u001b[0m\u001b[0m\n",
      "\u001b[0;32m~/anaconda3/lib/python3.8/site-packages/unstructured/partition/pdf.py\u001b[0m in \u001b[0;36m<module>\u001b[0;34m\u001b[0m\n\u001b[1;32m     79\u001b[0m     \u001b[0msave_elements\u001b[0m\u001b[0;34m,\u001b[0m\u001b[0;34m\u001b[0m\u001b[0;34m\u001b[0m\u001b[0m\n\u001b[1;32m     80\u001b[0m )\n\u001b[0;32m---> 81\u001b[0;31m from unstructured.partition.pdf_image.pdfminer_processing import (\n\u001b[0m\u001b[1;32m     82\u001b[0m     \u001b[0mmerge_inferred_with_extracted_layout\u001b[0m\u001b[0;34m,\u001b[0m\u001b[0;34m\u001b[0m\u001b[0;34m\u001b[0m\u001b[0m\n\u001b[1;32m     83\u001b[0m )\n",
      "\u001b[0;32m~/anaconda3/lib/python3.8/site-packages/unstructured/partition/pdf_image/pdfminer_processing.py\u001b[0m in \u001b[0;36m<module>\u001b[0;34m\u001b[0m\n\u001b[1;32m     10\u001b[0m     \u001b[0mmerge_inferred_layout_with_extracted_layout\u001b[0m \u001b[0;32mas\u001b[0m \u001b[0mmerge_inferred_with_extracted_page\u001b[0m\u001b[0;34m,\u001b[0m\u001b[0;34m\u001b[0m\u001b[0;34m\u001b[0m\u001b[0m\n\u001b[1;32m     11\u001b[0m )\n\u001b[0;32m---> 12\u001b[0;31m \u001b[0;32mfrom\u001b[0m \u001b[0munstructured_inference\u001b[0m\u001b[0;34m.\u001b[0m\u001b[0minference\u001b[0m\u001b[0;34m.\u001b[0m\u001b[0mordering\u001b[0m \u001b[0;32mimport\u001b[0m \u001b[0morder_layout\u001b[0m\u001b[0;34m\u001b[0m\u001b[0;34m\u001b[0m\u001b[0m\n\u001b[0m\u001b[1;32m     13\u001b[0m \u001b[0;32mfrom\u001b[0m \u001b[0munstructured_inference\u001b[0m\u001b[0;34m.\u001b[0m\u001b[0mmodels\u001b[0m\u001b[0;34m.\u001b[0m\u001b[0mdetectron2onnx\u001b[0m \u001b[0;32mimport\u001b[0m \u001b[0mUnstructuredDetectronONNXModel\u001b[0m\u001b[0;34m\u001b[0m\u001b[0;34m\u001b[0m\u001b[0m\n\u001b[1;32m     14\u001b[0m \u001b[0;34m\u001b[0m\u001b[0m\n",
      "\u001b[0;31mModuleNotFoundError\u001b[0m: No module named 'unstructured_inference.inference.ordering'"
     ]
    }
   ],
   "source": [
    "from unstructured.partition.pdf import partition_pdf\n",
    "elements = partition_pdf(doc_file_paths[0])"
   ]
  },
  {
   "cell_type": "markdown",
   "metadata": {},
   "source": [
    "For Unstrucuted.io chunking and visualization, I wont be running next cells, because of libraries, time-boundations and my mental stability.  \n",
    "\n",
    "Apologies, but below you can see the output of previous version of code that represents the chunking process. "
   ]
  },
  {
   "cell_type": "code",
   "execution_count": 22,
   "metadata": {},
   "outputs": [
    {
     "name": "stdout",
     "output_type": "stream",
     "text": [
      "Numer of elements formed from the document:  4187\n"
     ]
    }
   ],
   "source": [
    "print(\"Numer of elements formed from the document: \", len(elements))"
   ]
  },
  {
   "cell_type": "code",
   "execution_count": 44,
   "metadata": {},
   "outputs": [
    {
     "data": {
      "text/plain": [
       "{'type': 'ListItem',\n",
       " 'coordinates': ((61.2, 465.85913059999996),\n",
       "  (61.2, 475.85913059999996),\n",
       "  (64.7, 475.85913059999996),\n",
       "  (64.7, 465.85913059999996)),\n",
       " 'coordinate_system': 'PixelSpace',\n",
       " 'layout_width': 612.0,\n",
       " 'layout_height': 792.0,\n",
       " 'element_id': 'e3b0c44298fc1c149afbf4c8996fb924',\n",
       " 'metadata': {'filename': 'alphabet-2023.pdf',\n",
       "  'file_directory': '/Users/wenda/Documents/github/case_study_financialReport/data/docs',\n",
       "  'filetype': 'application/pdf',\n",
       "  'page_number': 4},\n",
       " 'text': ''}"
      ]
     },
     "execution_count": 44,
     "metadata": {},
     "output_type": "execute_result"
    }
   ],
   "source": [
    "elements[100].to_dict()"
   ]
  },
  {
   "cell_type": "code",
   "execution_count": 66,
   "metadata": {},
   "outputs": [
    {
     "data": {
      "image/png": "[encoded data removed]",
      "text/plain": [
       "<Figure size 1000x500 with 1 Axes>"
      ]
     },
     "metadata": {},
     "output_type": "display_data"
    }
   ],
   "source": [
    "chunk_len = []\n",
    "for element in elements:\n",
    "    chunk_len.append(len(str(element)))\n",
    "\n",
    "plot_chunks(chunk_len, \"Chunks created by UNSTRUCTURED.io\")"
   ]
  },
  {
   "cell_type": "markdown",
   "metadata": {},
   "source": [
    "### Splitting documents via SemanticChunker\n",
    "At a high level, this splits into sentences, then groups into groups of 3 sentences, and then merges one that are similar in the embedding space.\n",
    "\n",
    "Note: Langchain Experimental library, versioning issues persist. Code for reference"
   ]
  },
  {
   "cell_type": "code",
   "execution_count": null,
   "metadata": {},
   "outputs": [],
   "source": [
    "!pip install --quiet langchain_experimental langchain_openai\n",
    "from langchain_experimental.text_splitter import SemanticChunker\n",
    "\n",
    "text_splitter = SemanticChunker(embeddings)\n",
    "\n",
    "semantic_docs = text_splitter.create_documents(doc_pages)\n",
    "print(semantic_docs[0].page_content)\n",
    "print(len(semantic_docs))"
   ]
  },
  {
   "cell_type": "markdown",
   "metadata": {},
   "source": [
    "### Embeddings and Vectordb"
   ]
  },
  {
   "cell_type": "code",
   "execution_count": 60,
   "metadata": {},
   "outputs": [
    {
     "name": "stdout",
     "output_type": "stream",
     "text": [
      "Loading existing Chroma database...\n",
      "Vector database loaded successfully!\n"
     ]
    }
   ],
   "source": [
    "import shutil\n",
    "\n",
    "chroma_persist_directory = \"processed_data\"\n",
    "db_path = os.path.join(chroma_persist_directory)\n",
    "\n",
    "# Create or load Chroma Vector Database, checking is location is empty\n",
    "if os.path.exists(db_path) and not os.listdir(db_path): \n",
    "    print(\"Creating new Chroma database...\")\n",
    "    vectordb = Chroma.from_documents(\n",
    "            documents=RCTS_chunked_documents,\n",
    "            embedding=embeddings,\n",
    "            persist_directory=chroma_persist_directory\n",
    "        )\n",
    "    vectordb.persist()\n",
    "else:\n",
    "    print(\"Loading existing Chroma database...\")\n",
    "    vectordb = Chroma(persist_directory=chroma_persist_directory, \n",
    "                      embedding_function= embeddings)\n",
    "    \n",
    "\n",
    "print(\"Vector database loaded successfully!\")"
   ]
  },
  {
   "cell_type": "code",
   "execution_count": 164,
   "metadata": {},
   "outputs": [],
   "source": [
    "import re\n",
    "def retrieve_merge_docs(message,vectordb, k=5):\n",
    "    \"\"\"\n",
    "    Retrieves similar documents from a vector database, merges them into a single string, and removes extra spaces and newlines.\n",
    "\n",
    "    Args:\n",
    "        message (str): The message to search for similar documents.\n",
    "        vectordb (Chroma): The vector database to search.\n",
    "        k (int, optional): The number of similar documents to retrieve. Defaults to 5.\n",
    "    Returns:\n",
    "        tuple: A string containing the merged documents and the list of retrieved documents.\n",
    "    \"\"\"\n",
    "    docs = vectordb.similarity_search(message, k)\n",
    "\n",
    "    # Printing document metadata (for debugging/understanding)\n",
    "    print(\"Printing page content and metadata of first document:\")\n",
    "    print(\"=\"*20)\n",
    "    print(type(docs[1].page_content))\n",
    "    print(docs[1].page_content)\n",
    "    print(\"=\"*20)\n",
    "    print(type(docs[1].metadata))\n",
    "    print(docs[1].metadata)\n",
    "    \n",
    "\n",
    "    merged_docs = \"\\n\".join([doc.page_content for doc in docs])\n",
    "    #merged_docs = re.sub(r'\\s+', ' ', merged_docs)  # Remove extra spaces\n",
    "    return merged_docs, docs"
   ]
  },
  {
   "cell_type": "markdown",
   "metadata": {},
   "source": [
    "testing retrieval with message4"
   ]
  },
  {
   "cell_type": "code",
   "execution_count": 62,
   "metadata": {},
   "outputs": [
    {
     "name": "stdout",
     "output_type": "stream",
     "text": [
      "<class 'str'>\n",
      "Fees Billed by the Independent Registered Public Accounting Firm \n",
      "The following is a summary of fees billed by PwC for Fiscal 2023 and 2022 for audit, tax and other professional services \n",
      "during each fiscal year: \n",
      "Fiscal 2023 Fiscal 2022\n",
      "Audit Fees (1)\n",
      "$ 6,858,279 $ 6,762,002 \n",
      "Audit Related Fees (2)\n",
      " 243,400  491,100 \n",
      "Tax Fees (3)\n",
      " 1,189,263  708,680 \n",
      "All Other Fees (4)\n",
      " 17,858  12,900 \n",
      "Total Fees$ 8,308,800 $ 7,974,682 \n",
      "(1)For the audit of our consolidated financial statements, including business combination activities during the year, the audit of our internal control over \n",
      "financial reporting, review of our quarterly financial statements and annual reports, review of SEC registration statements and related consents, review \n",
      "of SEC filings for public debt financing and related comfort letters, and fees related to statutory audits of some of our international entities.\n",
      "<class 'dict'>\n",
      "{'page': 86, 'source': '/Users/wenda/Downloads/RAGFinanceChatBot-main/data/docs/nvidia-2023.pdf'}\n",
      "Report of Independent Registered Public Accounting Firm\n",
      "To the Board of Directors and Shareholders of NVIDIA Corporation\n",
      "Opinions on the Financial Statements and Internal Control over Financial Reporting\n",
      "We have audited the accompanying consolidated balance sheets of NVIDIA Corporation and its subsidiaries (the \n",
      "“Company”) as of January 29, 2023 and January 30, 2022, and the related consolidated statements of income, \n",
      "comprehensive income, shareholders' equity and cash flows for each of the three years in the period ended January 29, \n",
      "2023, including the related notes and financial statement schedule listed in the index appearing under Item 15(a)(2) \n",
      "(collectively referred to as the “consolidated financial statements”). We also have audited the Company's internal control \n",
      "over financial reporting as of January 29, 2023, based on criteria established in Internal Control - Integrated Framewor k \n",
      "(2013) issued by the Committee of Sponsoring Organizations of the Treadway Commission (COSO).\n",
      "Fees Billed by the Independent Registered Public Accounting Firm \n",
      "The following is a summary of fees billed by PwC for Fiscal 2023 and 2022 for audit, tax and other professional services \n",
      "during each fiscal year: \n",
      "Fiscal 2023 Fiscal 2022\n",
      "Audit Fees (1)\n",
      "$ 6,858,279 $ 6,762,002 \n",
      "Audit Related Fees (2)\n",
      " 243,400  491,100 \n",
      "Tax Fees (3)\n",
      " 1,189,263  708,680 \n",
      "All Other Fees (4)\n",
      " 17,858  12,900 \n",
      "Total Fees$ 8,308,800 $ 7,974,682 \n",
      "(1)For the audit of our consolidated financial statements, including business combination activities during the year, the audit of our internal control over \n",
      "financial reporting, review of our quarterly financial statements and annual reports, review of SEC registration statements and related consents, review \n",
      "of SEC filings for public debt financing and related comfort letters, and fees related to statutory audits of some of our international entities.\n",
      "Gross margin for fiscal year 2023 declined from a year ago, driven by $2.17 billion of inventory charges largely relating to \n",
      "excess supply of NVIDIA Ampere architecture Gaming and Data Center products as compared to the demand \n",
      "expectations for these products, particularly for the expected demand in China. The inventory charges were comprised of \n",
      "$1.04 billion for inventory on hand and $1.13 billion for inventory purchase obligations in excess of our demand \n",
      "expectations.\n",
      "Operating expenses, which included a $1.35 billion acquisition termination charge related to the Arm transaction, were up \n",
      "50% from a year ago. The increase also reflected compensation, data center infrastructure, and engineering development \n",
      "costs.\n",
      "Cash, cash equivalents and marketable securities were $13.30 billion.\n",
      "During fiscal year 2023, we returned $10.44 billion to shareholders in the form of share repurchases and cash dividends.\n",
      "accounting policies followed by NVIDIA prior to the issuance of the financial statements with both management and the \n",
      "independent registered public accounting firm.\n",
      "Management is responsible for the financial reporting process, the preparation of consolidated financial statements in \n",
      "accordance with accounting principles generally accepted in the United States, or GAAP, the system of internal control \n",
      "over financial reporting, and the procedures designed to facilitate compliance with accounting standards and applicable \n",
      "laws and regulations. PricewaterhouseCoopers LLP, or PwC, our independent registered public accounting firm for Fiscal \n",
      "2023, was responsible for performing an independent audit of the consolidated financial statements and issuing a report \n",
      "on the consolidated financial statements and of the effectiveness of our internal control over financial reporting as of\n",
      "concerning independence. The AC also considered whether the provision of certain permitted non-audit services by PwC \n",
      "is compatible with PwC’s independence and discussed PwC’s independence with PwC. \n",
      "Based on the AC’s review and discussions, the AC recommended to the Board of Directors that the audited consolidated \n",
      "financial statements be included in the Annual Report on Form 10-K of NVIDIA for the fiscal year ended January 29, 2023.\n",
      "Audit Committee\n",
      "Michael G. McCaffery, Mark L. Perry, A. Brooke Seawell, Aarti Shah and Mark A. Stevens\n",
      "69\n"
     ]
    }
   ],
   "source": [
    "# Example Usage (assuming you have a 'vectordb' instance):\n",
    "docs_str, _ = retrieve_merge_docs(message4,vectordb, 5)\n",
    "print(docs_str)"
   ]
  },
  {
   "cell_type": "markdown",
   "metadata": {},
   "source": [
    "Testing LLM outputs \n"
   ]
  },
  {
   "cell_type": "code",
   "execution_count": 63,
   "metadata": {},
   "outputs": [
    {
     "name": "stdout",
     "output_type": "stream",
     "text": [
      "For the Question:  What was the Total Fees Billed by the Independent Registered Public Accounting Firm in Fiscal 2023 for NVIDIA?\n"
     ]
    }
   ],
   "source": [
    "print(\"For the Question: \", message4)"
   ]
  },
  {
   "cell_type": "code",
   "execution_count": 69,
   "metadata": {},
   "outputs": [],
   "source": [
    "from openai import OpenAI\n",
    "client = OpenAI()\n",
    "def query_chatgpt(system_prompt: str, message: str, model: str = \"gpt-4o-mini\", temperature: float = 0.0) -> str:\n",
    "    \"\"\"\n",
    "    Sends a query to ChatGPT and returns the response.\n",
    "\n",
    "    Args:\n",
    "        system_prompt (str): The system prompt to send to ChatGPT.\n",
    "        message (str): The message to send to ChatGPT.\n",
    "        model (str, optional): The model to use for the query. Defaults to \"gpt-3.5-turbo\".\n",
    "        temperature (float, optional): The temperature to use for the query. Defaults to 0.0.\n",
    "\n",
    "    Returns:\n",
    "        str: The response from ChatGPT.\n",
    "    \"\"\"\n",
    "    response = client.chat.completions.create(\n",
    "        model=model,\n",
    "        messages=[\n",
    "            {\"role\": \"system\", \"content\": system_prompt},\n",
    "            {\"role\": \"user\", \"content\": message}\n",
    "        ],\n",
    "        temperature=temperature\n",
    "    )\n",
    "    print(f\"Running {model}...\")\n",
    "    return response.choices[0].message.content\n",
    "\n",
    "def format_retriver(docs_str: str, msg:str) -> str:\n",
    "    return f\"Retrieved Content: {docs_str}\\nUser Question: {msg}\""
   ]
  },
  {
   "cell_type": "code",
   "execution_count": 70,
   "metadata": {},
   "outputs": [
    {
     "name": "stdout",
     "output_type": "stream",
     "text": [
      "Running gpt-3.5-turbo...\n",
      "New question: \n",
      "\n",
      "The total fees billed by the Independent Registered Public Accounting Firm in Fiscal 2023 for NVIDIA was $8,308,800.\n",
      "\n",
      "Source\n"
     ]
    }
   ],
   "source": [
    "print(query_chatgpt(system_prompt,format_retriver(docs_str, message4)))"
   ]
  },
  {
   "cell_type": "markdown",
   "metadata": {},
   "source": [
    "### Testing Query Rewriting\n",
    "\n",
    "For demo purpose, I have used chatgpt itself to test the query re-writing process.\n",
    "We can use smaller models, that can achieve this task efficiently and process better prompts. "
   ]
  },
  {
   "cell_type": "code",
   "execution_count": 130,
   "metadata": {},
   "outputs": [
    {
     "name": "stdout",
     "output_type": "stream",
     "text": [
      "Original Query:  Revenue NVIDIA?\n"
     ]
    }
   ],
   "source": [
    "print(\"Original Query: \", incomplete_messg)"
   ]
  },
  {
   "cell_type": "code",
   "execution_count": 131,
   "metadata": {},
   "outputs": [
    {
     "name": "stdout",
     "output_type": "stream",
     "text": [
      "Running gpt-3.5-turbo...\n",
      "Updated query:  What was NVIDIA's total revenue in the last fiscal year, and how does it compare to the previous fiscal year?\n"
     ]
    }
   ],
   "source": [
    "print(\"Updated query: \", query_chatgpt(query_rewriting_prompt, incomplete_messg))"
   ]
  },
  {
   "cell_type": "markdown",
   "metadata": {},
   "source": [
    "**Observations:** The resulting query has broader context and is more relevant for our use case, this helps in retriving better docs.\n"
   ]
  },
  {
   "cell_type": "markdown",
   "metadata": {},
   "source": [
    "### Testing Reranking\n",
    "\n",
    "I am using Colbert to rerank the relvant docs. It is good for enhancing the relevance and quality of their RAG-based applications.\n",
    "- Advantages: ColBERT provides a competitive balance of performance and accuracy, making it suitable for large-scale RAG applications.\n",
    "- Other Reranking options: cross-encoders\n",
    "\n",
    "Having used Colbert here, instead other options could have been considered as well.\n",
    "other models to consider: \n",
    "- Rerank using GPT-4, mistral and cohere. "
   ]
  },
  {
   "cell_type": "code",
   "execution_count": 13,
   "metadata": {},
   "outputs": [],
   "source": [
    "!pip install --quiet transformers torch"
   ]
  },
  {
   "cell_type": "code",
   "execution_count": 101,
   "metadata": {},
   "outputs": [],
   "source": [
    "from transformers import AutoTokenizer, AutoModel\n",
    "\n",
    "# Load the tokenizer and the model\n",
    "tokenizer = AutoTokenizer.from_pretrained(\"colbert-ir/colbertv2.0\")\n",
    "model = AutoModel.from_pretrained(\"colbert-ir/colbertv2.0\")"
   ]
  },
  {
   "cell_type": "code",
   "execution_count": 117,
   "metadata": {},
   "outputs": [
    {
     "name": "stdout",
     "output_type": "stream",
     "text": [
      "<class 'str'>\n",
      "Alphabet Inc.\n",
      "CONSOLIDATED STATEMENTS OF INCOME\n",
      "(in millions, except per share amounts)\n",
      " Year Ended December 31,\n",
      " 2021 2022 2023\n",
      "Revenues $ 257,637 $ 282,836 $ 307,394 \n",
      "Costs and expenses:\n",
      "Cost of revenues  110,939  126,203  133,332 \n",
      "Research and development  31,562  39,500  45,427 \n",
      "Sales and marketing  22,912  26,567  27,917 \n",
      "General and administrative  13,510  15,724  16,425 \n",
      "Total costs and expenses  178,923  207,994  223,101 \n",
      "Income from operations  78,714  74,842  84,293 \n",
      "Other income (expense), net  12,020  (3,514)  1,424 \n",
      "Income before income taxes  90,734  71,328  85,717 \n",
      "Provision for income taxes  14,701  11,356  11,922 \n",
      "Net income $ 76,033 $ 59,972 $ 73,795 \n",
      "Basic net income per share of Class A, Class B, and Class C stock $ 5.69 $ 4.59 $ 5.84 \n",
      "Diluted net income per share of Class A, Class B, and Class C stock $ 5.61 $ 4.56 $ 5.80 \n",
      "See accompanying notes.Table of Contents Alphabet Inc.\n",
      "52.\n",
      "<class 'dict'>\n",
      "{'page': 52, 'source': '/Users/wenda/Downloads/RAGFinanceChatBot-main/data/docs/alphabet-2023.pdf'}\n",
      "Took 3.9407529830932617 seconds to re-rank documents with ColBERT.\n"
     ]
    }
   ],
   "source": [
    "import torch\n",
    "\n",
    "start = time.time()\n",
    "scores = []\n",
    "\n",
    "# Function to compute MaxSim\n",
    "def maxsim(query_embedding, document_embedding):\n",
    "    # Expand dimensions for broadcasting\n",
    "    expanded_query = query_embedding.unsqueeze(2)\n",
    "    expanded_doc = document_embedding.unsqueeze(1)\n",
    "\n",
    "    # Compute cosine similarity across the embedding dimension\n",
    "    sim_matrix = torch.nn.functional.cosine_similarity(expanded_query, expanded_doc, dim=-1)\n",
    "\n",
    "    # Take the maximum similarity for each query token (across all document tokens)\n",
    "    max_sim_scores, _ = torch.max(sim_matrix, dim=2)\n",
    "\n",
    "    # Average these maximum scores across all query tokens\n",
    "    avg_max_sim = torch.mean(max_sim_scores, dim=1)\n",
    "    return avg_max_sim\n",
    "\n",
    "# encodingthe query\n",
    "query_encoding = tokenizer(message3, return_tensors='pt')\n",
    "query_embedding = model(**query_encoding).last_hidden_state.mean(dim=1)\n",
    "\n",
    "_, docs = retrieve_merge_docs(message3, vectordb, 10)\n",
    "# Getting score for each document\n",
    "for document in docs:\n",
    "    document_encoding = tokenizer(document.page_content, return_tensors='pt', truncation=True, max_length=512)\n",
    "    document_embedding = model(**document_encoding).last_hidden_state\n",
    "\n",
    "    # Calculate MaxSim score\n",
    "    score = maxsim(query_embedding.unsqueeze(0), document_embedding)\n",
    "    scores.append({\n",
    "        \"score\": score.item(),\n",
    "        \"document\": document.page_content,\n",
    "    })\n",
    "\n",
    "print(f\"Took {time.time() - start} seconds to re-rank documents with ColBERT.\")"
   ]
  },
  {
   "cell_type": "code",
   "execution_count": 118,
   "metadata": {},
   "outputs": [
    {
     "name": "stdout",
     "output_type": "stream",
     "text": [
      "Without reranking: \n",
      "•Capital expenditures, which primarily reflected investments in technical infrastructure, were $32.3 billion  for the \n",
      "year ended December 31, 2023 .\n",
      "•As of December 31, 2023 , we had  182,502  employees.\n",
      "Financial Results\n",
      "Revenues\n",
      "The following table presents revenues by type (in millions):\n",
      "Year Ended December 31,\n",
      "2022 2023\n",
      "Google Search & other $ 162,450 $ 175,033 \n",
      "YouTube ads  29,243  31,510 \n",
      "Google Network  32,780  31,312 \n",
      "Google advertising  224,473  237,855 \n",
      "Google subscriptions, platforms, and devices  29,055  34,688 \n",
      "Google Services total  253,528  272,543 \n",
      "Google Cloud  26,280  33,088 \n",
      "Other Bets  1,068  1,527 \n",
      "Hedging gains (losses)  1,960  236 \n",
      "Total revenues $ 282,836 $ 307,394 \n",
      "Google Services\n",
      "Google advertising revenues\n",
      "Google Search & other\n",
      "Google Search & other revenues increased  $12.6 billion  from 2022  to 2023 . The overall growth was driven by \n",
      "interrelated factors including increases in search queries resulting from growth in user adoption and usage on mobile\n",
      "\n",
      "Alphabet Inc.\n",
      "CONSOLIDATED STATEMENTS OF INCOME\n",
      "(in millions, except per share amounts)\n",
      " Year Ended December 31,\n",
      " 2021 2022 2023\n",
      "Revenues $ 257,637 $ 282,836 $ 307,394 \n",
      "Costs and expenses:\n",
      "Cost of revenues  110,939  126,203  133,332 \n",
      "Research and development  31,562  39,500  45,427 \n",
      "Sales and marketing  22,912  26,567  27,917 \n",
      "General and administrative  13,510  15,724  16,425 \n",
      "Total costs and expenses  178,923  207,994  223,101 \n",
      "Income from operations  78,714  74,842  84,293 \n",
      "Other income (expense), net  12,020  (3,514)  1,424 \n",
      "Income before income taxes  90,734  71,328  85,717 \n",
      "Provision for income taxes  14,701  11,356  11,922 \n",
      "Net income $ 76,033 $ 59,972 $ 73,795 \n",
      "Basic net income per share of Class A, Class B, and Class C stock $ 5.69 $ 4.59 $ 5.84 \n",
      "Diluted net income per share of Class A, Class B, and Class C stock $ 5.61 $ 4.56 $ 5.80 \n",
      "See accompanying notes.Table of Contents Alphabet Inc.\n",
      "52.\n",
      "\n",
      "millions):\n",
      "Year Ended December 31,\n",
      " 2021 2022 2023\n",
      "United States $ 117,854  46 % $ 134,814  48 % $ 146,286  47 %\n",
      "EMEA(1) 79,107  31  82,062  29  91,038  30 \n",
      "APAC(1) 46,123  18  47,024  16  51,514  17 \n",
      "Other Americas(1) 14,404  5  16,976  6  18,320  6 \n",
      "Hedging gains (losses)  149  0  1,960  1  236  0 \n",
      "Total revenues $ 257,637  100 % $ 282,836  100 % $ 307,394  100 %\n",
      "(1)Regions represent Europe, the Middle East, and Africa (EMEA); Asia-Pacific (APAC); and Canada and Latin America (\"Other \n",
      "Americas\").\n",
      "Revenue Backlog\n",
      "As of December 31, 2023 , we had $74.1 billion  of remaining performance obligations (“revenue backlog”), \n",
      "primarily related to Google Cloud. Our revenue backlog represents commitments in customer contracts for future \n",
      "services that have not yet been recognized as revenue. The estimated revenue backlog and timing of revenue \n",
      "recognition for these commitments is largely driven by our ability to deliver in accordance with relevant contract terms\n",
      "\n",
      "2021 2022 2023\n",
      "Revenues:\n",
      "Google Services $ 237,529 $ 253,528 $ 272,543 \n",
      "Google Cloud  19,206  26,280  33,088 \n",
      "Other Bets  753  1,068  1,527 \n",
      "Hedging gains (losses)  149  1,960  236 \n",
      "Total revenues $ 257,637 $ 282,836 $ 307,394 \n",
      "Operating income (loss):\n",
      "Google Services $ 88,132 $ 82,699 $ 95,858 \n",
      "Google Cloud  (2,282)  (1,922)  1,716 \n",
      "Other Bets  (4,051)  (4,636)  (4,095) \n",
      "Alphabet-level activities  (3,085)  (1,299)  (9,186) \n",
      "Total income from operations $ 78,714 $ 74,842 $ 84,293 \n",
      "See Note 2  for information relating to revenues by geography.Table of Contents Alphabet Inc.\n",
      "86.\n",
      "\n",
      "31FiscalYear2023ComparedwithFiscalYear2022\n",
      "Revenueincreased$13.6billionor7%drivenbygrowthinIntelligentCloudandProductivityandBusinessProcesses,\n",
      "offsetinpartbyadeclineinMorePersonalComputing.IntelligentCloudrevenueincreaseddrivenbyAzureandother\n",
      "cloudservices.ProductivityandBusinessProcessesrevenueincreaseddrivenbyOffice365CommercialandLinkedIn.\n",
      "MorePersonalComputingrevenuedecreaseddrivenbyWindowsandDevices.\n",
      "Costofrevenueincreased$3.2billionor5%drivenbygrowthinMicrosoftCloud,offsetinpartbythechangein\n",
      "accountingestimate.\n",
      "Grossmarginincreased$10.4billionor8%drivenbygrowthinIntelligentCloudandProductivityandBusinessProcesses\n",
      "andthechangeinaccountingestimate,offsetinpartbyadeclineinMorePersonalComputing.\n",
      "•Grossmarginpercentageincreasedslightly.Excludingtheimpactofthechangeinaccountingestimate,\n",
      "grossmarginpercentagedecreased1pointdrivenbydeclinesinIntelligentCloudandMorePersonal\n",
      "Computing,offsetinpartbysalesmixshiftbetweenoursegments.\n",
      "\n",
      "Executive Overview\n",
      "The following table summarizes our consolidated financial results (in millions, except for per share information \n",
      "and percentages):\n",
      "Year Ended December 31,\n",
      "2022 2023 $ Change % Change\n",
      "Consolidated revenues $ 282,836 $ 307,394 $ 24,558  9 %\n",
      "Change in consolidated constant currency revenues(1) 10 %\n",
      "Cost of revenues $ 126,203 $ 133,332 $ 7,129  6 %\n",
      "Operating expenses $ 81,791 $ 89,769 $ 7,978  10 %\n",
      "Operating income $ 74,842 $ 84,293 $ 9,451  13 %\n",
      "Operating margin  26 %  27 %  1 %\n",
      "Other income (expense), net $ (3,514) $ 1,424 $ 4,938 NM\n",
      "Net income $ 59,972 $ 73,795 $ 13,823  23 %\n",
      "Diluted EPS $ 4.56 $ 5.80 $ 1.24  27 %\n",
      "NM = Not Meaningful\n",
      "(1) See \"Use of Non-GAAP Constant Currency Information \" below for details relating to our use of constant currency information. \n",
      "•Revenues were $307.4 billion , an increase  of 9% year over year, primarily driven by an increase  in Google\n",
      "\n",
      "2022 2023\n",
      "Operating income (loss):\n",
      "Google Services $ 82,699 $ 95,858 \n",
      "Google Cloud  (1,922)  1,716 \n",
      "Other Bets  (4,636)  (4,095) \n",
      "Alphabet-level activities(1) (1,299)  (9,186) \n",
      "Total income from operations $ 74,842 $ 84,293 \n",
      "(1)In addition to the costs included in Alphabet-level activities , hedging gains (losses) related to revenue were $2.0 billion  and \n",
      "$236 million  in 2022 and 2023 , respectively . For the year ended December 31, 2023, Alphabet-level activities include charges \n",
      "related to the reduction  in force and our office space optimization efforts  totaling  $3.9 billion . In addition, for the year ended \n",
      "December 31, 2023, we incurred $269 million  in accelerated rent and accelerated depreciation. For additional information \n",
      "relating to our workforce reduction and other initiatives, see Note 8  of the Notes to Consolidated Financial Statements included\n",
      "\n",
      "32•OfficeConsumerproductsandcloudservicesrevenueincreased$140millionor2%.Microsoft365\n",
      "Consumersubscribersgrew12%to67.0million.\n",
      "•LinkedInrevenueincreased$1.3billionor10%drivenbyTalentSolutions.\n",
      "•Dynamicsproductsandcloudservicesrevenueincreased$750millionor16%drivenbyDynamics365\n",
      "growthof24%.\n",
      "Operatingincomeincreased$4.5billionor15%.\n",
      "•Grossmarginincreased$5.8billionor12%drivenbygrowthinOffice365CommercialandLinkedIn,aswell\n",
      "asthechangeinaccountingestimate.Grossmarginpercentageincreased.Excludingtheimpactofthe\n",
      "changeinaccountingestimate,grossmarginpercentageincreasedslightlydrivenbyimprovementinOffice\n",
      "365Commercial,offsetinpartbysalesmixshifttocloudofferings.\n",
      "•Operatingexpensesincreased$1.3billionor7%drivenbyinvestmentinLinkedInandemployeeseverance\n",
      "expenses.\n",
      "Revenue,grossmargin,andoperatingincomeincludedanunfavorableforeigncurrencyimpactof5%,5%,and8%,\n",
      "respectively.\n",
      "IntelligentCloud\n",
      "Revenueincreased$12.9billionor17%.\n",
      "\n",
      "Year Ended\n",
      " January 29,\n",
      "2023January 30,\n",
      "2022January 31,\n",
      "2021\n",
      "Revenue: (In millions)\n",
      "United States $ 8,292 $ 4,349 $ 3,214 \n",
      "Taiwan  6,986  8,544  4,531 \n",
      "China (including Hong Kong)  5,785  7,111  3,886 \n",
      "Other countries  5,911  6,910  5,044 \n",
      "Total revenue $ 26,974 $ 26,914 $ 16,675 \n",
      "No customer represented 10% or more of total revenue for fiscal years  2023 , 2022  and 2021 .\n",
      "Two customers accounted for 14%  and 11%  of our accounts receivable balance as of  January 29, 2023 . Two customers \n",
      "each accounted for 11%  of our accounts receivable balance as of  January 30, 2022 .\n",
      "The following table summarizes information pertaining to our revenue by each of the specialized markets we serve:\n",
      "  Year Ended\n",
      " January 29,\n",
      "2023January 30,\n",
      "2022January 31,\n",
      "2021\n",
      "Revenue: (In millions)\n",
      "Data Center $ 15,005 $ 10,613 $ 6,696 \n",
      "Gaming  9,067  12,462  7,759 \n",
      "Professional Visualization  1,544  2,111  1,053 \n",
      "Automotive  903  566  536 \n",
      "OEM & Other  455  1,162  631 \n",
      "Total revenue $ 26,974 $ 26,914 $ 16,675\n",
      "\n",
      "marketing,andsellingourotherproductsandservices;andincometaxes.\n",
      "Highlightsfromfiscalyear2023comparedwithfiscalyear2022included:\n",
      "•MicrosoftCloudrevenueincreased22%to$111.6billion.\n",
      "•OfficeCommercialproductsandcloudservicesrevenueincreased10%drivenbyOffice365Commercial\n",
      "growthof13%.\n",
      "•OfficeConsumerproductsandcloudservicesrevenueincreased2%andMicrosoft365Consumer\n",
      "subscribersincreasedto67.0million.\n",
      "•LinkedInrevenueincreased10%.\n",
      "•Dynamicsproductsandcloudservicesrevenueincreased16%drivenbyDynamics365growthof24%.\n",
      "•Serverproductsandcloudservicesrevenueincreased19%drivenbyAzureandothercloudservicesgrowth\n",
      "of29%.\n",
      "•Windowsoriginalequipmentmanufacturerlicensing(“WindowsOEM”)revenuedecreased25%.\n",
      "•Devicesrevenuedecreased24%.\n",
      "•WindowsCommercialproductsandcloudservicesrevenueincreased5%.\n",
      "•Xboxcontentandservicesrevenuedecreased3%.\n",
      "•Searchandnewsadvertisingrevenueexcludingtrafficacquisitioncostsincreased11%.\n",
      "IndustryTrends\n",
      "\n"
     ]
    }
   ],
   "source": [
    "print(\"Without reranking: \")\n",
    "for doc in docs:\n",
    "    print(doc.page_content)\n",
    "    print()"
   ]
  },
  {
   "cell_type": "code",
   "execution_count": 119,
   "metadata": {},
   "outputs": [
    {
     "name": "stdout",
     "output_type": "stream",
     "text": [
      "[\n",
      "  {\n",
      "    \"score\": 0.7800108790397644,\n",
      "    \"document\": \"Executive Overview\\nThe following table summarizes our consolidated financial results (in millions, except for per share information \\nand percentages):\\nYear Ended December 31,\\n2022 2023 $ Change % Change\\nConsolidated revenues $ 282,836 $ 307,394 $ 24,558  9 %\\nChange in consolidated constant currency revenues(1) 10 %\\nCost of revenues $ 126,203 $ 133,332 $ 7,129  6 %\\nOperating expenses $ 81,791 $ 89,769 $ 7,978  10 %\\nOperating income $ 74,842 $ 84,293 $ 9,451  13 %\\nOperating margin  26 %  27 %  1 %\\nOther income (expense), net $ (3,514) $ 1,424 $ 4,938 NM\\nNet income $ 59,972 $ 73,795 $ 13,823  23 %\\nDiluted EPS $ 4.56 $ 5.80 $ 1.24  27 %\\nNM = Not Meaningful\\n(1) See \\\"Use of Non-GAAP Constant Currency Information \\\" below for details relating to our use of constant currency information. \\n\\u2022Revenues were $307.4 billion , an increase  of 9% year over year, primarily driven by an increase  in Google\"\n",
      "  },\n",
      "  {\n",
      "    \"score\": 0.7635637521743774,\n",
      "    \"document\": \"\\u2022Capital expenditures, which primarily reflected investments in technical infrastructure, were $32.3 billion  for the \\nyear ended December 31, 2023 .\\n\\u2022As of December 31, 2023 , we had  182,502  employees.\\nFinancial Results\\nRevenues\\nThe following table presents revenues by type (in millions):\\nYear Ended December 31,\\n2022 2023\\nGoogle Search & other $ 162,450 $ 175,033 \\nYouTube ads  29,243  31,510 \\nGoogle Network  32,780  31,312 \\nGoogle advertising  224,473  237,855 \\nGoogle subscriptions, platforms, and devices  29,055  34,688 \\nGoogle Services total  253,528  272,543 \\nGoogle Cloud  26,280  33,088 \\nOther Bets  1,068  1,527 \\nHedging gains (losses)  1,960  236 \\nTotal revenues $ 282,836 $ 307,394 \\nGoogle Services\\nGoogle advertising revenues\\nGoogle Search & other\\nGoogle Search & other revenues increased  $12.6 billion  from 2022  to 2023 . The overall growth was driven by \\ninterrelated factors including increases in search queries resulting from growth in user adoption and usage on mobile\"\n",
      "  },\n",
      "  {\n",
      "    \"score\": 0.76332026720047,\n",
      "    \"document\": \"2022 2023\\nOperating income (loss):\\nGoogle Services $ 82,699 $ 95,858 \\nGoogle Cloud  (1,922)  1,716 \\nOther Bets  (4,636)  (4,095) \\nAlphabet-level activities(1) (1,299)  (9,186) \\nTotal income from operations $ 74,842 $ 84,293 \\n(1)In addition to the costs included in Alphabet-level activities , hedging gains (losses) related to revenue were $2.0 billion  and \\n$236 million  in 2022 and 2023 , respectively . For the year ended December 31, 2023, Alphabet-level activities include charges \\nrelated to the reduction  in force and our office space optimization efforts  totaling  $3.9 billion . In addition, for the year ended \\nDecember 31, 2023, we incurred $269 million  in accelerated rent and accelerated depreciation. For additional information \\nrelating to our workforce reduction and other initiatives, see Note 8  of the Notes to Consolidated Financial Statements included\"\n",
      "  },\n",
      "  {\n",
      "    \"score\": 0.7552151679992676,\n",
      "    \"document\": \"millions):\\nYear Ended December 31,\\n 2021 2022 2023\\nUnited States $ 117,854  46 % $ 134,814  48 % $ 146,286  47 %\\nEMEA(1) 79,107  31  82,062  29  91,038  30 \\nAPAC(1) 46,123  18  47,024  16  51,514  17 \\nOther Americas(1) 14,404  5  16,976  6  18,320  6 \\nHedging gains (losses)  149  0  1,960  1  236  0 \\nTotal revenues $ 257,637  100 % $ 282,836  100 % $ 307,394  100 %\\n(1)Regions represent Europe, the Middle East, and Africa (EMEA); Asia-Pacific (APAC); and Canada and Latin America (\\\"Other \\nAmericas\\\").\\nRevenue Backlog\\nAs of December 31, 2023 , we had $74.1 billion  of remaining performance obligations (\\u201crevenue backlog\\u201d), \\nprimarily related to Google Cloud. Our revenue backlog represents commitments in customer contracts for future \\nservices that have not yet been recognized as revenue. The estimated revenue backlog and timing of revenue \\nrecognition for these commitments is largely driven by our ability to deliver in accordance with relevant contract terms\"\n",
      "  },\n",
      "  {\n",
      "    \"score\": 0.7530080676078796,\n",
      "    \"document\": \"Alphabet Inc.\\nCONSOLIDATED STATEMENTS OF INCOME\\n(in millions, except per share amounts)\\n Year Ended December 31,\\n 2021 2022 2023\\nRevenues $ 257,637 $ 282,836 $ 307,394 \\nCosts and expenses:\\nCost of revenues  110,939  126,203  133,332 \\nResearch and development  31,562  39,500  45,427 \\nSales and marketing  22,912  26,567  27,917 \\nGeneral and administrative  13,510  15,724  16,425 \\nTotal costs and expenses  178,923  207,994  223,101 \\nIncome from operations  78,714  74,842  84,293 \\nOther income (expense), net  12,020  (3,514)  1,424 \\nIncome before income taxes  90,734  71,328  85,717 \\nProvision for income taxes  14,701  11,356  11,922 \\nNet income $ 76,033 $ 59,972 $ 73,795 \\nBasic net income per share of Class A, Class B, and Class C stock $ 5.69 $ 4.59 $ 5.84 \\nDiluted net income per share of Class A, Class B, and Class C stock $ 5.61 $ 4.56 $ 5.80 \\nSee accompanying notes.Table of Contents Alphabet Inc.\\n52.\"\n",
      "  }\n",
      "]\n"
     ]
    }
   ],
   "source": [
    "import json\n",
    "# Sort the scores by highest to lowest and print\n",
    "sorted_data = sorted(scores, key=lambda x: x['score'], reverse=True)\n",
    "top5_data = sorted_data[:5]\n",
    "print(json.dumps(top5_data, indent=2))"
   ]
  },
  {
   "cell_type": "markdown",
   "metadata": {},
   "source": [
    "**Observations:**\n",
    "- The output obtained after reranking bas better scores and seems to aligns with the our query.\n",
    "- Can help in reducing the amount of irrelevant contextual text to LLM for processing, hence reducing  the costs and improving results."
   ]
  },
  {
   "cell_type": "markdown",
   "metadata": {},
   "source": [
    "### Performing prompt compression and rank relevant docs"
   ]
  },
  {
   "cell_type": "code",
   "execution_count": 144,
   "metadata": {},
   "outputs": [
    {
     "name": "stderr",
     "output_type": "stream",
     "text": [
      "huggingface/tokenizers: The current process just got forked, after parallelism has already been used. Disabling parallelism to avoid deadlocks...\n",
      "To disable this warning, you can either:\n",
      "\t- Avoid using `tokenizers` before the fork if possible\n",
      "\t- Explicitly set the environment variable TOKENIZERS_PARALLELISM=(true | false)\n"
     ]
    },
    {
     "name": "stdout",
     "output_type": "stream",
     "text": [
      "Requirement already satisfied: accelerate in /Users/wenda/anaconda3/envs/temus2/lib/python3.12/site-packages (0.32.1)\n",
      "Requirement already satisfied: numpy<2.0.0,>=1.17 in /Users/wenda/anaconda3/envs/temus2/lib/python3.12/site-packages (from accelerate) (1.26.4)\n",
      "Requirement already satisfied: packaging>=20.0 in /Users/wenda/anaconda3/envs/temus2/lib/python3.12/site-packages (from accelerate) (23.2)\n",
      "Requirement already satisfied: psutil in /Users/wenda/anaconda3/envs/temus2/lib/python3.12/site-packages (from accelerate) (5.9.0)\n",
      "Requirement already satisfied: pyyaml in /Users/wenda/anaconda3/envs/temus2/lib/python3.12/site-packages (from accelerate) (6.0.1)\n",
      "Requirement already satisfied: torch>=1.10.0 in /Users/wenda/anaconda3/envs/temus2/lib/python3.12/site-packages (from accelerate) (2.3.1)\n",
      "Requirement already satisfied: huggingface-hub in /Users/wenda/anaconda3/envs/temus2/lib/python3.12/site-packages (from accelerate) (0.23.4)\n",
      "Requirement already satisfied: safetensors>=0.3.1 in /Users/wenda/anaconda3/envs/temus2/lib/python3.12/site-packages (from accelerate) (0.4.3)\n",
      "Requirement already satisfied: filelock in /Users/wenda/anaconda3/envs/temus2/lib/python3.12/site-packages (from torch>=1.10.0->accelerate) (3.15.4)\n",
      "Requirement already satisfied: typing-extensions>=4.8.0 in /Users/wenda/anaconda3/envs/temus2/lib/python3.12/site-packages (from torch>=1.10.0->accelerate) (4.12.2)\n",
      "Requirement already satisfied: sympy in /Users/wenda/anaconda3/envs/temus2/lib/python3.12/site-packages (from torch>=1.10.0->accelerate) (1.13.0)\n",
      "Requirement already satisfied: networkx in /Users/wenda/anaconda3/envs/temus2/lib/python3.12/site-packages (from torch>=1.10.0->accelerate) (3.3)\n",
      "Requirement already satisfied: jinja2 in /Users/wenda/anaconda3/envs/temus2/lib/python3.12/site-packages (from torch>=1.10.0->accelerate) (3.1.4)\n",
      "Requirement already satisfied: fsspec in /Users/wenda/anaconda3/envs/temus2/lib/python3.12/site-packages (from torch>=1.10.0->accelerate) (2024.5.0)\n",
      "Requirement already satisfied: requests in /Users/wenda/anaconda3/envs/temus2/lib/python3.12/site-packages (from huggingface-hub->accelerate) (2.32.3)\n",
      "Requirement already satisfied: tqdm>=4.42.1 in /Users/wenda/anaconda3/envs/temus2/lib/python3.12/site-packages (from huggingface-hub->accelerate) (4.66.4)\n",
      "Requirement already satisfied: MarkupSafe>=2.0 in /Users/wenda/anaconda3/envs/temus2/lib/python3.12/site-packages (from jinja2->torch>=1.10.0->accelerate) (2.1.5)\n",
      "Requirement already satisfied: charset-normalizer<4,>=2 in /Users/wenda/anaconda3/envs/temus2/lib/python3.12/site-packages (from requests->huggingface-hub->accelerate) (3.3.2)\n",
      "Requirement already satisfied: idna<4,>=2.5 in /Users/wenda/anaconda3/envs/temus2/lib/python3.12/site-packages (from requests->huggingface-hub->accelerate) (3.7)\n",
      "Requirement already satisfied: urllib3<3,>=1.21.1 in /Users/wenda/anaconda3/envs/temus2/lib/python3.12/site-packages (from requests->huggingface-hub->accelerate) (2.2.2)\n",
      "Requirement already satisfied: certifi>=2017.4.17 in /Users/wenda/anaconda3/envs/temus2/lib/python3.12/site-packages (from requests->huggingface-hub->accelerate) (2024.7.4)\n",
      "Requirement already satisfied: mpmath<1.4,>=1.1.0 in /Users/wenda/anaconda3/envs/temus2/lib/python3.12/site-packages (from sympy->torch>=1.10.0->accelerate) (1.3.0)\n"
     ]
    },
    {
     "name": "stderr",
     "output_type": "stream",
     "text": [
      "huggingface/tokenizers: The current process just got forked, after parallelism has already been used. Disabling parallelism to avoid deadlocks...\n",
      "To disable this warning, you can either:\n",
      "\t- Avoid using `tokenizers` before the fork if possible\n",
      "\t- Explicitly set the environment variable TOKENIZERS_PARALLELISM=(true | false)\n"
     ]
    },
    {
     "name": "stdout",
     "output_type": "stream",
     "text": [
      "Requirement already satisfied: llmlingua in /Users/wenda/anaconda3/envs/temus2/lib/python3.12/site-packages (0.2.2)\n",
      "Requirement already satisfied: transformers>=4.26.0 in /Users/wenda/anaconda3/envs/temus2/lib/python3.12/site-packages (from llmlingua) (4.42.4)\n",
      "Requirement already satisfied: accelerate in /Users/wenda/anaconda3/envs/temus2/lib/python3.12/site-packages (from llmlingua) (0.32.1)\n",
      "Requirement already satisfied: torch in /Users/wenda/anaconda3/envs/temus2/lib/python3.12/site-packages (from llmlingua) (2.3.1)\n",
      "Requirement already satisfied: tiktoken in /Users/wenda/anaconda3/envs/temus2/lib/python3.12/site-packages (from llmlingua) (0.7.0)\n",
      "Requirement already satisfied: nltk in /Users/wenda/anaconda3/envs/temus2/lib/python3.12/site-packages (from llmlingua) (3.8.1)\n",
      "Requirement already satisfied: numpy in /Users/wenda/anaconda3/envs/temus2/lib/python3.12/site-packages (from llmlingua) (1.26.4)\n",
      "Requirement already satisfied: filelock in /Users/wenda/anaconda3/envs/temus2/lib/python3.12/site-packages (from transformers>=4.26.0->llmlingua) (3.15.4)\n",
      "Requirement already satisfied: huggingface-hub<1.0,>=0.23.2 in /Users/wenda/anaconda3/envs/temus2/lib/python3.12/site-packages (from transformers>=4.26.0->llmlingua) (0.23.4)\n",
      "Requirement already satisfied: packaging>=20.0 in /Users/wenda/anaconda3/envs/temus2/lib/python3.12/site-packages (from transformers>=4.26.0->llmlingua) (23.2)\n",
      "Requirement already satisfied: pyyaml>=5.1 in /Users/wenda/anaconda3/envs/temus2/lib/python3.12/site-packages (from transformers>=4.26.0->llmlingua) (6.0.1)\n",
      "Requirement already satisfied: regex!=2019.12.17 in /Users/wenda/anaconda3/envs/temus2/lib/python3.12/site-packages (from transformers>=4.26.0->llmlingua) (2024.5.15)\n",
      "Requirement already satisfied: requests in /Users/wenda/anaconda3/envs/temus2/lib/python3.12/site-packages (from transformers>=4.26.0->llmlingua) (2.32.3)\n",
      "Requirement already satisfied: safetensors>=0.4.1 in /Users/wenda/anaconda3/envs/temus2/lib/python3.12/site-packages (from transformers>=4.26.0->llmlingua) (0.4.3)\n",
      "Requirement already satisfied: tokenizers<0.20,>=0.19 in /Users/wenda/anaconda3/envs/temus2/lib/python3.12/site-packages (from transformers>=4.26.0->llmlingua) (0.19.1)\n",
      "Requirement already satisfied: tqdm>=4.27 in /Users/wenda/anaconda3/envs/temus2/lib/python3.12/site-packages (from transformers>=4.26.0->llmlingua) (4.66.4)\n",
      "Requirement already satisfied: psutil in /Users/wenda/anaconda3/envs/temus2/lib/python3.12/site-packages (from accelerate->llmlingua) (5.9.0)\n",
      "Requirement already satisfied: typing-extensions>=4.8.0 in /Users/wenda/anaconda3/envs/temus2/lib/python3.12/site-packages (from torch->llmlingua) (4.12.2)\n",
      "Requirement already satisfied: sympy in /Users/wenda/anaconda3/envs/temus2/lib/python3.12/site-packages (from torch->llmlingua) (1.13.0)\n",
      "Requirement already satisfied: networkx in /Users/wenda/anaconda3/envs/temus2/lib/python3.12/site-packages (from torch->llmlingua) (3.3)\n",
      "Requirement already satisfied: jinja2 in /Users/wenda/anaconda3/envs/temus2/lib/python3.12/site-packages (from torch->llmlingua) (3.1.4)\n",
      "Requirement already satisfied: fsspec in /Users/wenda/anaconda3/envs/temus2/lib/python3.12/site-packages (from torch->llmlingua) (2024.5.0)\n",
      "Requirement already satisfied: click in /Users/wenda/anaconda3/envs/temus2/lib/python3.12/site-packages (from nltk->llmlingua) (8.1.7)\n",
      "Requirement already satisfied: joblib in /Users/wenda/anaconda3/envs/temus2/lib/python3.12/site-packages (from nltk->llmlingua) (1.4.2)\n",
      "Requirement already satisfied: charset-normalizer<4,>=2 in /Users/wenda/anaconda3/envs/temus2/lib/python3.12/site-packages (from requests->transformers>=4.26.0->llmlingua) (3.3.2)\n",
      "Requirement already satisfied: idna<4,>=2.5 in /Users/wenda/anaconda3/envs/temus2/lib/python3.12/site-packages (from requests->transformers>=4.26.0->llmlingua) (3.7)\n",
      "Requirement already satisfied: urllib3<3,>=1.21.1 in /Users/wenda/anaconda3/envs/temus2/lib/python3.12/site-packages (from requests->transformers>=4.26.0->llmlingua) (2.2.2)\n",
      "Requirement already satisfied: certifi>=2017.4.17 in /Users/wenda/anaconda3/envs/temus2/lib/python3.12/site-packages (from requests->transformers>=4.26.0->llmlingua) (2024.7.4)\n",
      "Requirement already satisfied: MarkupSafe>=2.0 in /Users/wenda/anaconda3/envs/temus2/lib/python3.12/site-packages (from jinja2->torch->llmlingua) (2.1.5)\n",
      "Requirement already satisfied: mpmath<1.4,>=1.1.0 in /Users/wenda/anaconda3/envs/temus2/lib/python3.12/site-packages (from sympy->torch->llmlingua) (1.3.0)\n"
     ]
    }
   ],
   "source": [
    "!pip install accelerate\n",
    "!pip install llmlingua"
   ]
  },
  {
   "cell_type": "code",
   "execution_count": 84,
   "metadata": {},
   "outputs": [],
   "source": [
    "from llmlingua import PromptCompressor\n",
    "import json\n",
    "\n",
    "llm_lingua = PromptCompressor(\n",
    "    model_name=   \"microsoft/llmlingua-2-bert-base-multilingual-cased-meetingbank\", # can use microsoft/phi-2, TheBloke/Llama-2-7b-Chat-GPTQ (8GB GPU needed)\n",
    "    model_config={\"revision\": \"main\"},\n",
    "    use_llmlingua2=True,\n",
    "    device_map=\"cpu\",\n",
    ")\n",
    "\n",
    "def compress_query_prompt(demonstration_str,instruction , question):\n",
    "\n",
    "    # performing Compression now\n",
    "    compressed_prompt = llm_lingua.compress_prompt(\n",
    "        demonstration_str.split(\"\\n\"), \n",
    "        instruction=instruction,\n",
    "        question=question,\n",
    "        target_token=1000,\n",
    "        rank_method=\"longllmlingua\", \n",
    "        context_budget=\"+100\",\n",
    "        dynamic_context_compression_ratio=0.4,\n",
    "        reorder_context=\"sort\",\n",
    "    )\n",
    "\n",
    "    return json.dumps(compressed_prompt, indent=4)\n"
   ]
  },
  {
   "cell_type": "code",
   "execution_count": 96,
   "metadata": {},
   "outputs": [
    {
     "name": "stdout",
     "output_type": "stream",
     "text": [
      "<class 'str'>\n",
      "Fees Billed by the Independent Registered Public Accounting Firm \n",
      "The following is a summary of fees billed by PwC for Fiscal 2023 and 2022 for audit, tax and other professional services \n",
      "during each fiscal year: \n",
      "Fiscal 2023 Fiscal 2022\n",
      "Audit Fees (1)\n",
      "$ 6,858,279 $ 6,762,002 \n",
      "Audit Related Fees (2)\n",
      " 243,400  491,100 \n",
      "Tax Fees (3)\n",
      " 1,189,263  708,680 \n",
      "All Other Fees (4)\n",
      " 17,858  12,900 \n",
      "Total Fees$ 8,308,800 $ 7,974,682 \n",
      "(1)For the audit of our consolidated financial statements, including business combination activities during the year, the audit of our internal control over \n",
      "financial reporting, review of our quarterly financial statements and annual reports, review of SEC registration statements and related consents, review \n",
      "of SEC filings for public debt financing and related comfort letters, and fees related to statutory audits of some of our international entities.\n",
      "<class 'dict'>\n",
      "{'page': 86, 'source': '/Users/wenda/Downloads/RAGFinanceChatBot-main/data/docs/nvidia-2023.pdf'}\n",
      "Numebr of docs retrieved:  10\n"
     ]
    }
   ],
   "source": [
    "merged_docs, docs = retrieve_merge_docs(message4, vectordb, 10)\n",
    "print(\"Numebr of docs retrieved: \", len(docs))"
   ]
  },
  {
   "cell_type": "code",
   "execution_count": 97,
   "metadata": {},
   "outputs": [
    {
     "name": "stdout",
     "output_type": "stream",
     "text": [
      "Length of prompt with no compression: \n",
      "Characters in merged docs:  8783\n",
      "Characters in message4:  110\n",
      "Characters in system prompt:  790\n",
      "Total number of characters:  9683\n"
     ]
    }
   ],
   "source": [
    "print(\"Length of prompt with no compression: \")\n",
    "print(\"Characters in merged docs: \", len(merged_docs))\n",
    "print(\"Characters in message4: \", len(message4))\n",
    "print(\"Characters in system prompt: \", len(system_prompt))\n",
    "print(\"Total number of characters: \", len(merged_docs) + len(message4) + len(system_prompt))"
   ]
  },
  {
   "cell_type": "code",
   "execution_count": 98,
   "metadata": {},
   "outputs": [
    {
     "name": "stdout",
     "output_type": "stream",
     "text": [
      "{\n",
      "    \"compressed_prompt\": \"Report Independent Accounting\\n\\nBoard Directors Shareholders NVIDIA\\n\\nOpinions Financial Statements Control Financial\\n\\naudited balance sheets NVIDIA Corporation subsidiaries\\n\\nJanuary 29 2023 January 30 2022 consolidated statements income\\n\\nincome shareholders equity cash flows three years ended January 29\\n\\n2023 including related notes financial statement schedule index Item 15 ( a\\n\\nreferred consolidated financial statements audited Company ' s internal\\n\\nfinancial reporting January 29 2023 criteria Control Framewor\\n\\n2013 Committee Treadway Commission COSO\\n\\nBilled Independent Accounting\\n\\nsummary fees PwC Fiscal 2023 2022 audit tax professional\\n\\nfiscal year\\n\\nFiscal 2023\\n\\nAudit Fees\\n\\n6, 858 279 6 762\\n\\nAudit Fees\\n\\n243 400 491\\n\\nTax Fees\\n\\n1 189 263 708\\n\\nOther Fees\\n\\n17 858 12\\n\\nFees 8 308 800 7 974\\n\\naudit consolidated financial statements including business combination activities year audit internal control\\n\\nfinancial reporting quarterly statements annual reports SEC registration statements consents\\n\\nSEC public debt financing comfort letters fees audits international entities\\n\\nmargin fiscal year 2023 declined $ 2. 17 billion inventory charges\\n\\nNVIDIA Ampere architecture Gaming Data Center products\\n\\nexpectations products expected demand China inventory charges comprised\\n\\n1. 04 billion inventory 1. 13 billion obligations\\n\\n\\n\\nexpenses $ 1. 35 billion acquisition termination Arm transaction\\n\\n50 % year ago increase compensation data infrastructure engineering\\n\\n\\n\\nCash securities $ 13. 30 billion\\n\\n2023 returned $ 10. 44 billion repurchases dividends\\n\\naccounting policies NVIDIA issuance financial statements management\\n\\npublic accounting firm\\n\\nManagement responsible financial reporting consolidated statements\\n\\naccounting principles accepted United States GAAP system internal\\n\\nfinancial reporting procedures compliance accounting standards\\n\\nlaws regulations PricewaterhouseCoopers LLP accounting firm\\n\\n2023 responsible independent audit financial statements issuing\\n\\nconsolidated financial statements effectiveness control financial reporting\\n\\nindependence AC considered provision non - audit services PwC\\n\\ncompatible with PwC independence discussed\\n\\nAC review discussions AC recommended Board Directors audited\\n\\nstatements Annual Report Form 10 K NVIDIA fiscal January 29 2023\\n\\nAudit\\n\\nMcCaffery Mark Perry Brooke Seawell Aarti Shah Mark\\n\\n\\n\\ncost $ 1. 35 billion fiscal 2023 - off prepayment\\n\\nOur\\n\\nreport business results two\\n\\nCompute Networking segment includes Data Center computing networking\\n\\nAI Cockpit autonomous agreements vehicle solutions electric\\n\\nJetson robotics platforms NVIDIA AI Enterprise software\\n\\ncryptocurrency processors\\n\\nGraphics segment GeForce GPUs GeForce NOW game streaming\\n\\ninfrastructure gaming Quadro NVIDIA RTX GPUs graphics\\n\\nvirtual GPU vGPU cloud based visual computing automotive platforms\\n\\nNote 1 Organization Summary Accounting\\n\\nOur\\n\\nSanta Clara NVIDIA incorporated 1993\\n\\nApril 1998\\n\\nreferences NVIDIA we Company NVIDIA Corporation subsidiaries\\n\\n\\n\\noperate 52 53 week year last Sunday January Fiscal years 2023 2022 52\\n\\nFiscal 2021 53 - week\\n\\n\\n\\nprior fiscal year balances reclassified current fiscal\\n\\nPrior period asset amount amortization Note 7 adjusted\\n\\namortized assets January 30 2022\\n\\nPrinciples\\n\\nfinancial statements include NVIDIA Corporation subsidiaries\\n\\nFiscal 2023 $ 565, 305 residential security $ 90, 217 security monitoring $ 13, 483\\n\\nleased NVIDIA match 401 health savings $ 11, 500 imputed income life insurance\\n\\n$ 13 206\\n\\n4 Reflects contributions 401 savings plan imputed income life insurance benefits available\\n\\nNVIDIA Fiscal 2023 401 contributions $ 10, 500 Kress $ 9, 250 Puri $ 9, 000\\n\\n$ 10, 500 Teter insurance $ 37, 467 Puri $ 14, 478 Shoquist\\n\\n\\n\\nBUSINESS\\n\\nNVIDIA pioneered computing challenging problems specialize\\n\\nmarkets computing platforms provide acceleration applications\\n\\n2023\\n\\nGross Margin\\n\\n27. 0 56 9 % 4. 2 1\\n\\nflat year 8. 0 points 58 % year 55 % year\\n\\n2023\\n\\ntwo segments Compute Networking Graphics\\n\\nCompute Networking Graphics Other *\\n\\n15. 1 11. 9\\n\\n27. 0\\n\\n36 % year year 25 % flat year\\n\\n\\n\\nIncome 5. 1 billion 4 6\\n\\n5. 5 4. 2\\n\\nup 11 % year year 46 % 58 %\\n\\nIncludes expenses chief decision maker assign Compute & Networking or Graphics\\n\\n\\n\\nCash securities $ 13. 30 billion\\n\\n2023 returned $ 10. 44 billion repurchases dividends\\n\\nend fiscal 2023 $ 7. 23 billion repurchase\\n\\n2023\\n\\nPlatform\\n\\nData Center 2023 $ 15. 01 billion 41 % 2022 growth\\n\\nCenter revenue influenced hyperscaler cloud usage computing\\n\\nportfolio Data Center announced NVIDIA Hopper GPU architecture first\\n\\nNVIDIA H100 Tensor GPU NVIDIA OVX server\\n\\ndigital twins Omniverse applications completed two models cloud\",\n",
      "    \"compressed_prompt_list\": [\n",
      "        \"Report Independent Accounting\",\n",
      "        \"Board Directors Shareholders NVIDIA\",\n",
      "        \"Opinions Financial Statements Control Financial\",\n",
      "        \"audited balance sheets NVIDIA Corporation subsidiaries\",\n",
      "        \"January 29 2023 January 30 2022 consolidated statements income\",\n",
      "        \"income shareholders equity cash flows three years ended January 29\",\n",
      "        \"2023 including related notes financial statement schedule index Item 15 ( a\",\n",
      "        \"referred consolidated financial statements audited Company ' s internal\",\n",
      "        \"financial reporting January 29 2023 criteria Control Framewor\",\n",
      "        \"2013 Committee Treadway Commission COSO\",\n",
      "        \"Billed Independent Accounting\",\n",
      "        \"summary fees PwC Fiscal 2023 2022 audit tax professional\",\n",
      "        \"fiscal year\",\n",
      "        \"Fiscal 2023\",\n",
      "        \"Audit Fees\",\n",
      "        \"6, 858 279 6 762\",\n",
      "        \"Audit Fees\",\n",
      "        \"243 400 491\",\n",
      "        \"Tax Fees\",\n",
      "        \"1 189 263 708\",\n",
      "        \"Other Fees\",\n",
      "        \"17 858 12\",\n",
      "        \"Fees 8 308 800 7 974\",\n",
      "        \"audit consolidated financial statements including business combination activities year audit internal control\",\n",
      "        \"financial reporting quarterly statements annual reports SEC registration statements consents\",\n",
      "        \"SEC public debt financing comfort letters fees audits international entities\",\n",
      "        \"margin fiscal year 2023 declined $ 2. 17 billion inventory charges\",\n",
      "        \"NVIDIA Ampere architecture Gaming Data Center products\",\n",
      "        \"expectations products expected demand China inventory charges comprised\",\n",
      "        \"1. 04 billion inventory 1. 13 billion obligations\",\n",
      "        \"\",\n",
      "        \"expenses $ 1. 35 billion acquisition termination Arm transaction\",\n",
      "        \"50 % year ago increase compensation data infrastructure engineering\",\n",
      "        \"\",\n",
      "        \"Cash securities $ 13. 30 billion\",\n",
      "        \"2023 returned $ 10. 44 billion repurchases dividends\",\n",
      "        \"accounting policies NVIDIA issuance financial statements management\",\n",
      "        \"public accounting firm\",\n",
      "        \"Management responsible financial reporting consolidated statements\",\n",
      "        \"accounting principles accepted United States GAAP system internal\",\n",
      "        \"financial reporting procedures compliance accounting standards\",\n",
      "        \"laws regulations PricewaterhouseCoopers LLP accounting firm\",\n",
      "        \"2023 responsible independent audit financial statements issuing\",\n",
      "        \"consolidated financial statements effectiveness control financial reporting\",\n",
      "        \"independence AC considered provision non - audit services PwC\",\n",
      "        \"compatible with PwC independence discussed\",\n",
      "        \"AC review discussions AC recommended Board Directors audited\",\n",
      "        \"statements Annual Report Form 10 K NVIDIA fiscal January 29 2023\",\n",
      "        \"Audit\",\n",
      "        \"McCaffery Mark Perry Brooke Seawell Aarti Shah Mark\",\n",
      "        \"\",\n",
      "        \"cost $ 1. 35 billion fiscal 2023 - off prepayment\",\n",
      "        \"Our\",\n",
      "        \"report business results two\",\n",
      "        \"Compute Networking segment includes Data Center computing networking\",\n",
      "        \"AI Cockpit autonomous agreements vehicle solutions electric\",\n",
      "        \"Jetson robotics platforms NVIDIA AI Enterprise software\",\n",
      "        \"cryptocurrency processors\",\n",
      "        \"Graphics segment GeForce GPUs GeForce NOW game streaming\",\n",
      "        \"infrastructure gaming Quadro NVIDIA RTX GPUs graphics\",\n",
      "        \"virtual GPU vGPU cloud based visual computing automotive platforms\",\n",
      "        \"Note 1 Organization Summary Accounting\",\n",
      "        \"Our\",\n",
      "        \"Santa Clara NVIDIA incorporated 1993\",\n",
      "        \"April 1998\",\n",
      "        \"references NVIDIA we Company NVIDIA Corporation subsidiaries\",\n",
      "        \"\",\n",
      "        \"operate 52 53 week year last Sunday January Fiscal years 2023 2022 52\",\n",
      "        \"Fiscal 2021 53 - week\",\n",
      "        \"\",\n",
      "        \"prior fiscal year balances reclassified current fiscal\",\n",
      "        \"Prior period asset amount amortization Note 7 adjusted\",\n",
      "        \"amortized assets January 30 2022\",\n",
      "        \"Principles\",\n",
      "        \"financial statements include NVIDIA Corporation subsidiaries\",\n",
      "        \"Fiscal 2023 $ 565, 305 residential security $ 90, 217 security monitoring $ 13, 483\",\n",
      "        \"leased NVIDIA match 401 health savings $ 11, 500 imputed income life insurance\",\n",
      "        \"$ 13 206\",\n",
      "        \"4 Reflects contributions 401 savings plan imputed income life insurance benefits available\",\n",
      "        \"NVIDIA Fiscal 2023 401 contributions $ 10, 500 Kress $ 9, 250 Puri $ 9, 000\",\n",
      "        \"$ 10, 500 Teter insurance $ 37, 467 Puri $ 14, 478 Shoquist\",\n",
      "        \"\",\n",
      "        \"BUSINESS\",\n",
      "        \"NVIDIA pioneered computing challenging problems specialize\",\n",
      "        \"markets computing platforms provide acceleration applications\",\n",
      "        \"2023\",\n",
      "        \"Gross Margin\",\n",
      "        \"27. 0 56 9 % 4. 2 1\",\n",
      "        \"flat year 8. 0 points 58 % year 55 % year\",\n",
      "        \"2023\",\n",
      "        \"two segments Compute Networking Graphics\",\n",
      "        \"Compute Networking Graphics Other *\",\n",
      "        \"15. 1 11. 9\",\n",
      "        \"27. 0\",\n",
      "        \"36 % year year 25 % flat year\",\n",
      "        \"\",\n",
      "        \"Income 5. 1 billion 4 6\",\n",
      "        \"5. 5 4. 2\",\n",
      "        \"up 11 % year year 46 % 58 %\",\n",
      "        \"Includes expenses chief decision maker assign Compute & Networking or Graphics\",\n",
      "        \"\",\n",
      "        \"Cash securities $ 13. 30 billion\",\n",
      "        \"2023 returned $ 10. 44 billion repurchases dividends\",\n",
      "        \"end fiscal 2023 $ 7. 23 billion repurchase\",\n",
      "        \"2023\",\n",
      "        \"Platform\",\n",
      "        \"Data Center 2023 $ 15. 01 billion 41 % 2022 growth\",\n",
      "        \"Center revenue influenced hyperscaler cloud usage computing\",\n",
      "        \"portfolio Data Center announced NVIDIA Hopper GPU architecture first\",\n",
      "        \"NVIDIA H100 Tensor GPU NVIDIA OVX server\",\n",
      "        \"digital twins Omniverse applications completed two models cloud\"\n",
      "    ],\n",
      "    \"origin_tokens\": 1910,\n",
      "    \"compressed_tokens\": 921,\n",
      "    \"ratio\": \"2.1x\",\n",
      "    \"rate\": \"48.2%\",\n",
      "    \"saving\": \", Saving $0.1 in GPT-4.\"\n",
      "}\n"
     ]
    }
   ],
   "source": [
    "print(compress_query_prompt(merged_docs, system_prompt, message4))"
   ]
  },
  {
   "cell_type": "markdown",
   "metadata": {},
   "source": [
    "#### Observations: \n",
    "\n",
    "There is some reduction in hte token length that can be helpful to reduce the latency and cost while calling AI models with relevant context, user query and prompt. \n",
    "\n",
    "These can be cached and stored, that can be used as replacements in the future hence reducing the time and cost of prompt reduction. \n",
    "\n",
    "More testing is needed to verify to check if relevant data loss is happening. "
   ]
  },
  {
   "cell_type": "markdown",
   "metadata": {},
   "source": [
    "### Testing Query Expansion\n",
    "\n",
    "Query expansion is a useful tool for imprvoing the accuracy of search results. Especially,  when the original query is too broad and. When the query parser adds additional terms to the query, the system can narrow down the search and retrieve more relevant results.\n",
    "\n"
   ]
  },
  {
   "cell_type": "code",
   "execution_count": 67,
   "metadata": {},
   "outputs": [
    {
     "name": "stdout",
     "output_type": "stream",
     "text": [
      " You are a financial analyst assistant that breaks down a user's financial analysis query into sub-queries.    The sub-queries should be mutually exclusive and collectively exhaustive, focusing on different aspects of financial analysis.    Your response will be a JSON object with a `queries` field, which is a list of `query` objects, each detailing a specific aspect of the financial analysis.    Additionally, include examples (few-shot prompting) to guide the user on how to formulate their queries for optimal results.\n",
      "    \n"
     ]
    }
   ],
   "source": [
    "print(query_expansion_prompt)"
   ]
  },
  {
   "cell_type": "code",
   "execution_count": 74,
   "metadata": {},
   "outputs": [],
   "source": [
    "query_compressed = \"What was the revenue of Alphabet, NVIDIA, and Microsoft in the last fiscal year? Who are the CEOs of these companies?\""
   ]
  },
  {
   "cell_type": "code",
   "execution_count": 75,
   "metadata": {},
   "outputs": [
    {
     "name": "stdout",
     "output_type": "stream",
     "text": [
      "Running gpt-3.5-turbo...\n",
      "{\n",
      "    \"queries\": [\n",
      "        {\n",
      "            \"query\": \"What was the revenue of Alphabet in the last fiscal year?\",\n",
      "            \"company\": \"Alphabet\"\n",
      "        },\n",
      "        {\n",
      "            \"query\": \"What was the revenue of NVIDIA in the last fiscal year?\",\n",
      "            \"company\": \"NVIDIA\"\n",
      "        },\n",
      "        {\n",
      "            \"query\": \"What was the revenue of Microsoft in the last fiscal year?\",\n",
      "            \"company\": \"Microsoft\"\n",
      "        },\n",
      "        {\n",
      "            \"query\": \"Who is the CEO of Alphabet?\",\n",
      "            \"company\": \"Alphabet\"\n",
      "        },\n",
      "        {\n",
      "            \"query\": \"Who is the CEO of NVIDIA?\",\n",
      "            \"company\": \"NVIDIA\"\n",
      "        },\n",
      "        {\n",
      "            \"query\": \"Who is the CEO of Microsoft?\",\n",
      "            \"company\": \"Microsoft\"\n",
      "        }\n",
      "    ]\n",
      "}\n"
     ]
    }
   ],
   "source": [
    "print(query_chatgpt(query_expansion_prompt, query_compressed))"
   ]
  },
  {
   "cell_type": "markdown",
   "metadata": {},
   "source": [
    "#### Observations: \n",
    "\n",
    "The model is able to break complex queries into relevant queries, which will help in successful retrievals of complex and vague queries. \n",
    "We can utilise a smaller and inexpensive model for this task, in practise. \n",
    "- Retreival efficiency improves\n",
    "- Relevant information for each sub-query is extracted.\n",
    "\n",
    "Cons:\n",
    "- more queries to generated for LLM to process"
   ]
  },
  {
   "cell_type": "markdown",
   "metadata": {},
   "source": [
    "### Testing Nemo Gaurdrailings\n",
    "\n",
    "We can use any LLM provider that is supported by LangChain, e.g., `ai21`, `aleph_alpha`, `anthropic`, `anyscale`, `azure`, `cohere`, `huggingface_endpoint`, `huggingface_hub`, `openai`, `self_hosted`, `self_hosted_hugging_face`. \n",
    "\n"
   ]
  },
  {
   "cell_type": "code",
   "execution_count": 97,
   "metadata": {},
   "outputs": [],
   "source": [
    "from nemoguardrails import LLMRails, RailsConfig\n",
    "from nemoguardrails.integrations.langchain.runnable_rails import RunnableRails\n",
    "from langchain_core.runnables import Runnable\n",
    "from langchain_groq import ChatGroq\n",
    "import nest_asyncio\n",
    "\n",
    "nest_asyncio.apply()"
   ]
  },
  {
   "cell_type": "code",
   "execution_count": 94,
   "metadata": {},
   "outputs": [
    {
     "name": "stdout",
     "output_type": "stream",
     "text": [
      "True\n"
     ]
    }
   ],
   "source": [
    "config = RailsConfig.from_path(\"./config\")\n",
    "\n",
    "class CheckKeywordsRunnable(Runnable):\n",
    "    def invoke(self, input, config = None, **kwargs):\n",
    "        text = input[\"text\"]\n",
    "        keywords = input[\"keywords\"].split(\",\")\n",
    "        for keyword in keywords:\n",
    "            if keyword.strip() in text:\n",
    "                return True\n",
    "\n",
    "        return False\n",
    "\n",
    "print(CheckKeywordsRunnable().invoke({\"text\": \"This is a proprietary message\", \"keywords\": \"proprietary\"}))"
   ]
  },
  {
   "cell_type": "code",
   "execution_count": 95,
   "metadata": {},
   "outputs": [],
   "source": [
    "config = RailsConfig.from_path(\"config\")\n",
    "rails = LLMRails(config)\n",
    "\n",
    "rails.register_action(CheckKeywordsRunnable(), \"check_keywords\")"
   ]
  },
  {
   "cell_type": "code",
   "execution_count": 101,
   "metadata": {},
   "outputs": [
    {
     "name": "stdout",
     "output_type": "stream",
     "text": [
      "====================\n",
      "I'm sorry, I can't respond to that.\n"
     ]
    }
   ],
   "source": [
    "response = rails.generate(\"Give me some proprietary information.\")\n",
    "print(\"=\"*20)\n",
    "print(response)"
   ]
  },
  {
   "cell_type": "markdown",
   "metadata": {},
   "source": [
    "**Observations:**\n",
    "\n",
    "This setup allows the chatbot to use the custom action `CheckKeywordsRunnable` to check for specific keywords in text, enhancing its functionality based on the defined actions.\n",
    "\n",
    "This can be extended to the prompt being given to the model as well. This will ensure that the gaurrails are followed strictly and do not output unecessary, irrelevant and harmful content to the user. "
   ]
  },
  {
   "cell_type": "markdown",
   "metadata": {},
   "source": [
    "##  Evaluation\n",
    "- M1: We can use the chat history being collected at Langsmith for curatinging dataset for further enhancements and insights. \n",
    "- M2: First create a golden dataset, by using human annotators/large strong models (at par with human skills in terms of annotations and evaluations.)\n",
    "  - Later the results of our models can be evaluated against the golden set of responses.\n",
    "  - Domain-Specific Benchmarks can be used for evaluation.\n",
    "  - [Beir Benchmarking](https://github.com/beir-cellar/beir) for heterogeneous IR tasks. \n"
   ]
  },
  {
   "cell_type": "markdown",
   "metadata": {},
   "source": [
    "### Using RAGAS"
   ]
  },
  {
   "cell_type": "code",
   "execution_count": null,
   "metadata": {},
   "outputs": [],
   "source": [
    "!pip install ragas==0.1.0"
   ]
  },
  {
   "cell_type": "code",
   "execution_count": 155,
   "metadata": {},
   "outputs": [
    {
     "name": "stdout",
     "output_type": "stream",
     "text": [
      "Query: Who is the CEO of Alphabet?\n",
      "<class 'str'>\n",
      "Roger W. Ferguson Jr.\n",
      "/S/    J OHN L. H ENNESSY         Director, Chair January 30, 2024\n",
      "John L. Hennessy\n",
      "/S/    L ARRY  PAGE        Co-Founder and Director January 30, 2024\n",
      "Larry Page\n",
      "/S/    K. R AM SHRIRAM       Director January 30, 2024\n",
      "K. Ram Shriram\n",
      "/S/    R OBIN L. W ASHINGTON       Director January 30, 2024\n",
      "Robin L. WashingtonTable of Contents Alphabet Inc.\n",
      "96.\n",
      "<class 'dict'>\n",
      "{'page': 96, 'source': '/Users/wenda/Downloads/RAGFinanceChatBot-main/data/docs/alphabet-2023.pdf'}\n",
      "Running gpt-3.5-turbo...\n",
      "Answer: I'm sorry, but I couldn't find a specific question in the provided content. How can I assist you today?\n",
      "Context: [\"us to tackle big problems and invest in moonshots . It led us to be a pioneer in the development of AI and, since 2016, \\nan AI-first company. We continue this work under the leadership of Alphabet and Google CEO, Sundar Pichai.\\nAlphabet is a collection of businesses — the largest of which is Google. We report Google in two segments, \\nGoogle Services  and Google Cloud, and all non-Google businesses collectively as Other Bets. Alphabet's structure is \\nabout helping each of our businesses prosper through strong leaders and independence. \\nAccess and Technology for Everyone\\nThe Internet is one of the world’s most powerful equalizers; it propels ideas, people, and businesses large and \\nsmall. Our mission to organize the world’s information and make it universally accessible and useful is as relevant \\ntoday as it was when we were founded in 1998. Since then, we have evolved from a company that helps people find \\nanswers to a company that also helps people get things done.\", 'Roger W. Ferguson Jr.\\n/S/    J OHN L. H ENNESSY         Director, Chair January 30, 2024\\nJohn L. Hennessy\\n/S/    L ARRY  PAGE        Co-Founder and Director January 30, 2024\\nLarry Page\\n/S/    K. R AM SHRIRAM       Director January 30, 2024\\nK. Ram Shriram\\n/S/    R OBIN L. W ASHINGTON       Director January 30, 2024\\nRobin L. WashingtonTable of Contents Alphabet Inc.\\n96.', 'operate effectively. \\nOur performance and future success depends in large part upon the continued service of key technical leads as \\nwell as  members of our senior management team. For instance, Sundar Pichai is critical to the overall management of \\nAlphabet and its subsidiaries and plays an important role in the development of our technology, maintaining our \\nculture, and setting our strategic direction. \\nOur ability to compete effectively and our future success depend  on our continuing to identify, hire, develop, \\nmotivate, and retain highly skilled personnel for all areas of our organization. Competition in our industry for qualified \\nemployees is intense, and certain of our competitors have directly targeted, and may continue to target, our \\nemployees. In addition, our compensation arrangements, such as our equity award programs, may not always be \\nsuccessful in attracting new employees and retaining and motivating our existing employees. Restrictive immigration', \"Signature Title Date\\n/S/    S UNDAR  PICHAIChief Executive Officer and Director (Principal \\nExecutive Officer) January 30, 2024\\nSundar Pichai\\n/S/    R UTH M. P ORAT        President and Chief Investment Officer; Chief \\nFinancial Officer (Principal Financial Officer) January 30, 2024\\nRuth M. Porat\\n/S/    A MIE THUENER  O'T OOLE        Vice President, Corporate Controller and \\nPrincipal Accounting Officer January 30, 2024\\nAmie Thuener O'Toole\\n/S/    F RANCES H. A RNOLD        Director January 30, 2024\\nFrances H. Arnold\\n/S/    S ERGEY  BRIN        Co-Founder and Director January 30, 2024\\nSergey Brin\\n/S/   R. M ARTIN  CHAVEZ       Director January 30, 2024\\nR. Martin Chávez\\n/S/    L. J OHN DOERR        Director January 30, 2024\\nL. John Doerr\\n/S/    R OGER  W. F ERGUSON JR.       Director January 30, 2024\\nRoger W. Ferguson Jr.\\n/S/    J OHN L. H ENNESSY         Director, Chair January 30, 2024\\nJohn L. Hennessy\\n/S/    L ARRY  PAGE        Co-Founder and Director January 30, 2024\\nLarry Page\", 'required by law. Given these risks and uncertainties, readers are cautioned not to place undue reliance on such \\nforward-looking statements.\\nAs used herein, \"Alphabet,\" \"the company,\" \"we,\" \"us,\" \"our,\" and similar terms include Alphabet Inc. and its \\nsubsidiaries, unless the context indicates otherwise.\\n\"Alphabet,\" \"Google,\" and other trademarks of ours appearing in this report are our property. We do not intend our \\nuse or display of other companies\\' trade names or trademarks to imply an endorsement or sponsorship of us by such \\ncompanies, or any relationship with any of these companies.\\nPART I\\nITEM 1. BUSINESS\\nOverview\\nAs our founders Larry and Sergey wrote in the original founders\\' letter, \"Google is not a conventional company. \\nWe do not intend to become one.\" That unconventional spirit has been a driving force throughout our history, inspiring \\nus to tackle big problems and invest in moonshots . It led us to be a pioneer in the development of AI and, since 2016,', '82DIRECTORSANDEXECUTIVEOFFICERSOFMICROSOFTCORPORATION\\nDIRECTORS\\nSatyaNadella\\nChairmanandChiefExecutiveOfficer,\\nMicrosoftCorporationSandraE.Peterson2,3\\nLeadIndependentDirector,\\nMicrosoftCorporationJohnW.Stanton1,4\\nFounderandChairman,Trilogy\\nPartnerships\\nReidG.Hoffman4\\nPartner,GreylockPartnersPennyS.Pritzker4\\nFounderandChairman,PSPPartners,\\nLLCJohnW.Thompson3,4\\nPartner,LightspeedVenturePartners\\nHughF.Johnston1\\nViceChairmanandExecutiveVice\\nPresidentandChiefFinancialOfficer,\\nPepsiCo,Inc.CarlosA.Rodriguez1,2\\nExecutiveChair,ADP,Inc.EmmaN.Walmsley2,4\\nChiefExecutiveOfficer,GSKplc\\nTeriL.List1,3\\nFormerExecutiveVicePresidentand\\nChiefFinancialOfficer,TheGap,Inc.CharlesW.Scharf2,3\\nChiefExecutiveOfficerandPresident,\\nWellsFargo&CompanyPadmasreeWarrior2\\nFounder,PresidentandChiefExecutive\\nOfficer,FableGroup,Inc.\\nBoardCommittees\\n1.AuditCommittee\\n2.CompensationCommittee\\n3.GovernanceandNominatingCommittee\\n4.Environmental,Social,andPublicPolicyCommittee\\nEXECUTIVEOFFICERS\\nSatyaNadella', 'Alphabet Inc.\\nNOTES TO CONSOLIDATED FINANCIAL STATEMENTS\\nNote 1.    Summary of Significant Accounting Policies\\nNature of Operations\\nGoogle was incorporate d in California in September 1998 and re-incorporated in the State of Delaware in August \\n2003. In 2015, we implemented a holding company reorganization, and as a result, Alphabet Inc. (\"Alphabet\") became \\nthe successor issuer to Google.\\nWe generate revenues by delivering relevant, cost-effective online advertising; cloud-based solutions that provide \\nenterprise customers with infrastructure and platform services as well as communication and collaboration tools; sales \\nof other products and services, such as  fees received for consumer subscription-based products, apps and in-app \\npurchases, and devices .\\nBasis of Consolidation\\nThe consolidated financial statements of Alphabet include the accounts of Alphabet and entities consolid ated', 'technology platforms, including the Digital Markets Act in the European Union (EU); regulations and legal Table of Contents Alphabet Inc.\\n18.', 'SIGNATURES\\nPursuant to the requirements of Section 13 or 15(d) of the Securities Exchange Act of 1934, the Registrant has \\nduly caused this Annual Report on Form 10-K to be signed on its behalf by the undersigned, thereunto duly authorized.\\nDate: January 30, 2024  \\n ALPHABET INC.\\nBy: /S/    S UNDAR  PICHAI        \\nSundar Pichai\\nChief Executive Officer\\n(Principal Executive Officer of the Registrant)\\nPOWER OF ATTORNEY\\nKNOW ALL PERSONS BY THESE PRESENTS, that each person whose signature appears below constitutes \\nand appoints Sundar Pichai and Ruth M. Porat, jointly and severally, his or her attorney-in-fact, with the power of \\nsubstitution, for him or her in any and all capacities, to sign any amendments to this Annual Report on Form 10-K and \\nto file the same, with exhibits thereto and other documents in connection therewith, with the Securities and Exchange \\nCommission, hereby ratifying and confirming all that each of said attorneys-in-fact, or his or her substitute or', 'As of December 31, 2023 , Alphabet had 182,502  employees. We have work councils and statutory employee \\nrepresentation obligations in certain countries, and we are committed to supporting protected labor rights, maintaining \\nan open culture, and listening to all employees. Supporting healthy and open dialogue is central to how we work, and \\nwe communicate information about the company through multiple internal channels to our employees.\\nWhen necessary we contract with businesses around the world to provide specialized services where we do not \\nhave appropriate in-house expertise or resources, often in fields that require specialized training like cafe operations, \\ncontent moderation, customer support, and physical security. We also contract with temporary staffing agencies when \\nwe need to cover short-term leaves, when we have spikes in business needs, or when we need to quickly incubate', 'October 2, 2015, between the Registrant and \\nSergey Brin and certain of his affiliates Current Report on Form 8-K \\n(File No. 001-37580)October 2, 2015\\n4.06 Joinder Agreement, dated December 31, \\n2021, among the Registrant, Sergey Brin and \\ncertain of his affiliates  Annual Report on Form 10-K \\n(File No. 001-37580)February 2, 2022Exhibit\\nNumber DescriptionIncorporated by reference herein\\nForm DateTable of Contents Alphabet Inc.\\n91.', 'workforce that is representative of the users we serve. More information on Google’s approach to diversity can be \\nfound in our annual diversity reports, available publicly at diversity.google. The contents of our diversity reports are not \\nincorporated by reference into this Annual Report on Form 10-K or in any other report or document we file with the \\nSEC.Table of Contents Alphabet Inc.\\n9.', \"Reflecting DeepMind's increasing collaboration with Google Services, Google Cloud, and Other Bets, beginning in \\nthe first quarter of 2023 DeepMind is reported as part of Alphabet-level activities instead of within Other Bets. \\nAdditionally, beginning in the first quarter of 2023, we updated and simplified our cost allocation methodologies to \\nprovide our business leaders with increased transparency for decision-making. Prior periods have been recast to \\nconform to the current presentation.\\nAs announced on April 20, 2023, we brought together part of Google Research (the Brain team) and DeepMind to \\nsignificantly accelerate our progress in artificial intelligence (AI). The group, called Google DeepMind, is reported within \\nAlphabet-level activities prospectively beginning in the second quarter of 2023. Previously, the Brain team was \\nincluded within Google Services.\\nCertain costs are not allocated to our segments because they represent Alphabet-level activitie s. These costs\", '2022 2023\\nOperating income (loss):\\nGoogle Services $ 82,699 $ 95,858 \\nGoogle Cloud  (1,922)  1,716 \\nOther Bets  (4,636)  (4,095) \\nAlphabet-level activities(1) (1,299)  (9,186) \\nTotal income from operations $ 74,842 $ 84,293 \\n(1)In addition to the costs included in Alphabet-level activities , hedging gains (losses) related to revenue were $2.0 billion  and \\n$236 million  in 2022 and 2023 , respectively . For the year ended December 31, 2023, Alphabet-level activities include charges \\nrelated to the reduction  in force and our office space optimization efforts  totaling  $3.9 billion . In addition, for the year ended \\nDecember 31, 2023, we incurred $269 million  in accelerated rent and accelerated depreciation. For additional information \\nrelating to our workforce reduction and other initiatives, see Note 8  of the Notes to Consolidated Financial Statements included', 'take care of the diverse needs of our employees and their families, including opportunities for career growth and \\ndevelopment, resources to support their financial health, and access to excellent healthcare choices. Our competitive \\ncompensation programs help us to attract and retain top candidates, and we will continue to invest in recruiting \\ntalented people to technical and non-technical roles, and rewarding them well. We provide a variety of high quality \\ntraining and support to managers to build and strengthen their capabilities-–ranging from courses for new managers, to \\nlearning resources that help them provide feedback and manage performance, to coaching and individual support.\\nAt Alphabet, we are committed to making diversity, equity, and inclusion part of everything we do and to growing a \\nworkforce that is representative of the users we serve. More information on Google’s approach to diversity can be']\n",
      "Query: What was the balance at the end of the year for the allowance for credit losses and sales credits of Alphabet in 2022?\n",
      "<class 'str'>\n",
      "liabilities, for each of the next five years and thereafter were as follows (in millions):\n",
      "2024 $ 1,299 \n",
      "2025 1,163\n",
      "2026 2,165\n",
      "2027 1,143\n",
      "2028 132\n",
      "Thereafter 8,960\n",
      "Total $ 14,862 \n",
      "Credit Facility\n",
      "As of December 31, 2023 , we had $10.0 billion  of revolving credit facilities, of which $4.0 billion  expires in April \n",
      "2024  and $6.0 billion  expires in April 2028 . The interest rates for all credit facilities are determined based on a formula \n",
      "using certain market rates, as well as our progress toward the achievement of certain sustainability goals.  No amounts \n",
      "were outstanding under the credit facilities as of December 31, 2022  and 2023 .\n",
      "Note 7.        Supplemental Financial Statement Information  \n",
      "Accounts Receivable\n",
      "The allowance for credit losses on accounts receivable was $754 million  and $771 million  as of December 31, \n",
      "2022  and 2023 , respectively.Table of Contents Alphabet Inc.\n",
      "73.\n",
      "<class 'dict'>\n",
      "{'page': 73, 'source': '/Users/wenda/Downloads/RAGFinanceChatBot-main/data/docs/alphabet-2023.pdf'}\n",
      "Running gpt-3.5-turbo...\n",
      "Answer: # Retrieved content number: 3\n",
      "\n",
      "Operating income (loss):\n",
      "Google Services $ 82,699 $ 95,858 \n",
      "Google Cloud  (1,922)  1,716 \n",
      "Other Bets  (4,636)  (4,095) \n",
      "Alphabet-level activities(1) (1,299)  (9,186) \n",
      "Total income from operations $ 74,842 $ 84,293 \n",
      "(1)In addition to the costs included in Alphabet-level activities , hedging gains (losses) related to revenue were $2.0 billion  and \n",
      "$236 million  in 2022 and 2023 , respectively . For the year ended December 31, 2023, Alphabet-level activities include charges \n",
      "related to the reduction  in force and our office space optimization efforts  totaling  $3.9 billion . In addition, for the year ended \n",
      "December 31, 2023, we incurred $269 million  in accelerated rent and accelerated depreciation. For additional information \n",
      "relating to our workforce reduction and other initiatives, see Note 8  of the Notes to Consolidated Financial Statements included\n",
      "\n",
      "Source: Alphabet Inc. Annual Report\n",
      "\n",
      "New question: \n",
      "Based on the operating income figures provided for Google Services, Google Cloud, Other Bets, and Alphabet-level activities, how did the total income from operations change from 2022 to 2023?\n",
      "Context: ['Balance at\\nBeginning of Year Additions UsageBalance at\\nEnd of Year\\nYear ended December 31, 2021 $ 1,344 $ 2,092 $ (2,047) $ 1,389 \\nYear ended December 31, 2022 $ 1,389 $ 2,125 $ (2,301) $ 1,213 \\nYear ended December 31, 2023 $ 1,213 $ 3,115 $ (2,737) $ 1,591 \\nNote: Additions to the allowance for credit losses are charged to expense. Additions to the allowance for sales credits are charged against \\nrevenues.\\nAll other schedules have been omitted because they are not required, not applicable, or the required information \\nis otherwise included.\\n3. Exhibits\\n2.01 Agreement and Plan of Merger, dated \\nOctober 2, 2015, by and among Google Inc., \\nthe Registrant and Maple Technologies Inc.Current Report on Form 8-K \\n(File No. 001-37580) October 2, 2015\\n3.01 Amended and Restated Certificate of \\nIncorporation of the RegistrantCurrent Report on Form 8-K \\n(File No. 001-37580) June 3, 2022\\n3.02 Amended and Restated Bylaws of the \\nRegistrant, dated October 19, 2022Current Report on Form 8-K', 'liabilities, for each of the next five years and thereafter were as follows (in millions):\\n2024 $ 1,299 \\n2025 1,163\\n2026 2,165\\n2027 1,143\\n2028 132\\nThereafter 8,960\\nTotal $ 14,862 \\nCredit Facility\\nAs of December 31, 2023 , we had $10.0 billion  of revolving credit facilities, of which $4.0 billion  expires in April \\n2024  and $6.0 billion  expires in April 2028 . The interest rates for all credit facilities are determined based on a formula \\nusing certain market rates, as well as our progress toward the achievement of certain sustainability goals.  No amounts \\nwere outstanding under the credit facilities as of December 31, 2022  and 2023 .\\nNote 7.        Supplemental Financial Statement Information  \\nAccounts Receivable\\nThe allowance for credit losses on accounts receivable was $754 million  and $771 million  as of December 31, \\n2022  and 2023 , respectively.Table of Contents Alphabet Inc.\\n73.', 'Ended December 31,\\n 2022 2023\\nTotal sale price $ 1,784 $ 1,981 \\nTotal initial cost  937  1,512 \\nCumulative net gains (losses) $ 847 $ 469 \\nEquity  Securities Accounted for Under the Equity Method\\nAs of December 31, 2022  and 2023 , equity securities accounted for under the equity method had a carrying value \\nof approximately $1.5 billion  and $1.7 billion , respectively. Our share of gains and losses, including impairments, are \\nincluded as a component of OI&E, in the Consolidated Statements of Income. See Note 7  for further details on OI&E.  Table of Contents Alphabet Inc.\\n67.', 'balance.Wedeterminetheallowancebasedonknowntroubledaccounts,historicalexperience,andothercurrently\\navailableevidence.\\nActivityintheallowancefordoubtfulaccountswasasfollows:\\n(Inmillions)\\nYearEndedJune30, 2023 2022 2021\\nBalance,beginningofperiod $\\u2004°710$\\u2004°798$\\u2004°816\\nChargedtocostsandother 258 157 234\\nWrite-offs (252) (245) (252)\\nBalance,endofperiod $ 716$710$798', 'NVIDIA CORPORATION AND SUBSIDIARIES\\nSCHEDULE II – VALUATION AND QUALIFYING ACCOUNTS\\nDescriptionBalance\\xa0at\\nBeginning of \\nPeriod Additions \\xa0 Deductions \\xa0Balance at\\nEnd of Period\\n\\xa0 (In millions)\\nFiscal year 2023 \\xa0 \\xa0 \\xa0 \\xa0 \\xa0 \\xa0\\nAllowance for doubtful accounts $ 4 $ — (1) $ — (1) $ 4 \\nSales return allowance $ 13 $ 104 (2) $ (91) (4) $ 26 \\nDeferred tax valuation allowance $ 907 $ 577 (3) $ — $ 1,484 \\nFiscal year 2022 \\xa0 \\xa0 \\xa0 \\xa0 \\xa0 \\xa0\\nAllowance for doubtful accounts $ 4 $ — (1) $ — (1) $ 4 \\nSales return allowance $ 17 $ 19 (2) $ (23) (4) $ 13 \\nDeferred tax valuation allowance $ 728 $ 179 (3) $ — $ 907 \\nFiscal year 2021 \\xa0 \\xa0 \\xa0 \\xa0 \\xa0 \\xa0\\nAllowance for doubtful accounts $ 2 $ 2 (1) $ — (1) $ 4 \\nSales return allowance $ 9 $ 30 (2) $ (22) (4) $ 17 \\nDeferred tax valuation allowance $ 621 $ 107 (3) $ — $ 728 \\n(1) Additions represent  either expense or acquired balances and deductions represent write-offs .', '2022 2023\\nOperating income (loss):\\nGoogle Services $ 82,699 $ 95,858 \\nGoogle Cloud  (1,922)  1,716 \\nOther Bets  (4,636)  (4,095) \\nAlphabet-level activities(1) (1,299)  (9,186) \\nTotal income from operations $ 74,842 $ 84,293 \\n(1)In addition to the costs included in Alphabet-level activities , hedging gains (losses) related to revenue were $2.0 billion  and \\n$236 million  in 2022 and 2023 , respectively . For the year ended December 31, 2023, Alphabet-level activities include charges \\nrelated to the reduction  in force and our office space optimization efforts  totaling  $3.9 billion . In addition, for the year ended \\nDecember 31, 2023, we incurred $269 million  in accelerated rent and accelerated depreciation. For additional information \\nrelating to our workforce reduction and other initiatives, see Note 8  of the Notes to Consolidated Financial Statements included', 'addresses of our customers:\\n Year Ended December 31,\\n 2022 2023\\nUnited States  48 %  47 %\\nEMEA  29 %  30 %\\nAPAC  16 %  17 %\\nOther Americas  6 %  6 %\\nHedging gains (losses)  1 %  0 %\\nFor additional information, see Note 2  of the Notes to Consolidated Financial Statements included in Item 8 of this \\nAnnual Report on Form 10-K.Table of Contents Alphabet Inc.\\n36.', 'Alphabet Inc.\\nCONSOLIDATED STATEMENTS OF INCOME\\n(in millions, except per share amounts)\\n Year Ended December 31,\\n 2021 2022 2023\\nRevenues $ 257,637 $ 282,836 $ 307,394 \\nCosts and expenses:\\nCost of revenues  110,939  126,203  133,332 \\nResearch and development  31,562  39,500  45,427 \\nSales and marketing  22,912  26,567  27,917 \\nGeneral and administrative  13,510  15,724  16,425 \\nTotal costs and expenses  178,923  207,994  223,101 \\nIncome from operations  78,714  74,842  84,293 \\nOther income (expense), net  12,020  (3,514)  1,424 \\nIncome before income taxes  90,734  71,328  85,717 \\nProvision for income taxes  14,701  11,356  11,922 \\nNet income $ 76,033 $ 59,972 $ 73,795 \\nBasic net income per share of Class A, Class B, and Class C stock $ 5.69 $ 4.59 $ 5.84 \\nDiluted net income per share of Class A, Class B, and Class C stock $ 5.61 $ 4.56 $ 5.80 \\nSee accompanying notes.Table of Contents Alphabet Inc.\\n52.', '51Allowancefordoubtfulaccountsincludedinourconsolidatedbalancesheets:\\n(Inmillions)\\nJune30, 2023 2022 2021\\nAccountsreceivable,netofallowancefordoubtfulaccounts $ 650$633$751\\nOtherlong-termassets 66 77 47\\nTotal $ 716$710$798\\nAsofJune30,2023and2022,otherreceivablesrelatedtoactivitiestofacilitatethepurchaseofservercomponentswere\\n$9.2billionand$6.1billion,respectively,andareincludedinothercurrentassetsinourconsolidatedbalancesheets.\\nWerecordfinancingreceivableswhenweoffercertainofourcustomerstheoptiontoacquireoursoftwareproductsand\\nservicesofferingsthroughafinancingprograminalimitednumberofcountries.AsofJune30,2023and2022,our\\nfinancingreceivables,netwere$5.3billionand$4.1billion,respectively,forshort-termandlong-termfinancing\\nreceivables,whichareincludedinothercurrentassetsandotherlong-termassetsinourconsolidatedbalancesheets.We\\nrecordanallowancetocoverexpectedlossesbasedontroubledaccounts,historicalexperience,andothercurrently\\navailableevidence.', 'Note 9.        Goodwill\\nChanges in the carrying amount of goodwill for the years ended December 31, 2022  and 2023  were as follows \\n(in millions):\\nGoogle \\nServices Google Cloud Other Bets Total\\nBalance as of December 31, 2021 $ 19,826 $ 2,337 $ 793 $ 22,956 \\nAcquisitions  1,176  4,876  119  6,171 \\nForeign currency translation and other adjustments  (155)  (8)  (4)  (167) \\nBalance as of December 31, 2022  20,847  7,205  908  28,960 \\nAcquisitions  240  3  0  243 \\nForeign currency translation and other adjustments  31  (9)  (27)  (5) \\nBalance as of December 31, 2023 $ 21,118 $ 7,199 $ 881 $ 29,198 \\nNote 10.        Commitments and Contingencies  \\nCommitments\\nWe have content licensing agreements with future fixed or minimum guaranteed commitments of $10.6 billion  as \\nof December 31, 2023 , of which the majority is paid over  seven years  ending in the first quarter of 2030.\\nIndemnifications', '2021 2022 2023\\nRevenues:\\nGoogle Services $ 237,529 $ 253,528 $ 272,543 \\nGoogle Cloud  19,206  26,280  33,088 \\nOther Bets  753  1,068  1,527 \\nHedging gains (losses)  149  1,960  236 \\nTotal revenues $ 257,637 $ 282,836 $ 307,394 \\nOperating income (loss):\\nGoogle Services $ 88,132 $ 82,699 $ 95,858 \\nGoogle Cloud  (2,282)  (1,922)  1,716 \\nOther Bets  (4,051)  (4,636)  (4,095) \\nAlphabet-level activities  (3,085)  (1,299)  (9,186) \\nTotal income from operations $ 78,714 $ 74,842 $ 84,293 \\nSee Note 2  for information relating to revenues by geography.Table of Contents Alphabet Inc.\\n86.', 'following: \\nYear Ended\\nJanuary 29, January 30, January 31,\\n2023 2022 2021\\n(In millions)\\nBalance at beginning of period $ 46 $ 22 $ 15 \\nAdditions  145 40 28\\nUtilization  (109)  (16)  (21) \\nBalance at end of period $ 82 $ 46 $ 22 \\nIn the second quarter of fiscal year 2023, we recorded $122\\xa0million  in product warranty liabilities primarily related to a \\ndefect identified in a third-party component embedded in certain Data Center products. In the third quarter of fiscal year \\n2023, we recognized a warranty-related benefit of approximately $70\\xa0million  in cost of revenue due to favorable product \\nrecovery.\\nIn connection with certain agreements that we have entered in the past, we have provided indemnities for matters such \\nas tax, product, and employee liabilities. We have included intellectual property indemnification provisions in our \\ntechnology-related agreements with third parties. Maximum potential future payments cannot be estimated because', 'millions):\\nYear Ended December 31,\\n 2021 2022 2023\\nUnited States $ 117,854  46 % $ 134,814  48 % $ 146,286  47 %\\nEMEA(1) 79,107  31  82,062  29  91,038  30 \\nAPAC(1) 46,123  18  47,024  16  51,514  17 \\nOther Americas(1) 14,404  5  16,976  6  18,320  6 \\nHedging gains (losses)  149  0  1,960  1  236  0 \\nTotal revenues $ 257,637  100 % $ 282,836  100 % $ 307,394  100 %\\n(1)Regions represent Europe, the Middle East, and Africa (EMEA); Asia-Pacific (APAC); and Canada and Latin America (\"Other \\nAmericas\").\\nRevenue Backlog\\nAs of December 31, 2023 , we had $74.1 billion  of remaining performance obligations (“revenue backlog”), \\nprimarily related to Google Cloud. Our revenue backlog represents commitments in customer contracts for future \\nservices that have not yet been recognized as revenue. The estimated revenue backlog and timing of revenue \\nrecognition for these commitments is largely driven by our ability to deliver in accordance with relevant contract terms', 'accruals were as follows (in millions):\\nSeverance and \\nRelated\\nBalance as of December 31, 2022 $ 0 \\nCharges(1) 1,656 \\nCash payments  (1,579) \\nBalance as of December 31, 2023(2)$ 77 \\n(1)Excludes non-cash SBC of $432 million .\\n(2)Included in accrued compensation and benefits on the Consolidated Balance Sheets.Table of Contents Alphabet Inc.\\n76.', 'Alphabet 2021 Stock Plan.\\nStock-Based Compensation\\nFor the years ended December 31, 2021 , 2022 , and 2023 , total SBC expense was $15.7 billion , $19.5 billion , and \\n$22.1 billion , including amounts associated with awards we expect to settle in Alphabet stock of $15.0 billion , $18.8 \\nbillion , and $21.7 billion , respectively.\\nDuring the year ended December 31, 2023 , total SBC expense includes $432 million  associated with workforce \\nreduction costs. See Note 8  for further details.\\nFor the years ended December 31, 2021 , 2022 , and 2023 , we recognized tax benefits on total SBC expense, \\nwhich are reflected in the provision for income taxes in the Consolidated Statements of Income, of $3.1 billion , $3.9 \\nbillion , and $4.5 billion , respectively.\\nFor the years ended December 31, 2021 , 2022 , and 2023 , tax benefit realized related to awards vested or \\nexercised during the period was $5.9 billion , $4.7 billion , and $5.6 billion , respectively. These amounts do not include']\n",
      "Query: What was the median employee compensation at NVIDIA in Fiscal 2023?\n",
      "<class 'str'>\n",
      "Gross margin for fiscal year 2023 declined from a year ago, driven by $2.17 billion of inventory charges largely relating to \n",
      "excess supply of NVIDIA Ampere architecture Gaming and Data Center products as compared to the demand \n",
      "expectations for these products, particularly for the expected demand in China. The inventory charges were comprised of \n",
      "$1.04 billion for inventory on hand and $1.13 billion for inventory purchase obligations in excess of our demand \n",
      "expectations.\n",
      "Operating expenses, which included a $1.35 billion acquisition termination charge related to the Arm transaction, were up \n",
      "50% from a year ago. The increase also reflected compensation, data center infrastructure, and engineering development \n",
      "costs.\n",
      "Cash, cash equivalents and marketable securities were $13.30 billion.\n",
      "During fiscal year 2023, we returned $10.44 billion to shareholders in the form of share repurchases and cash dividends.\n",
      "<class 'dict'>\n",
      "{'page': 121, 'source': '/Users/wenda/Downloads/RAGFinanceChatBot-main/data/docs/nvidia-2023.pdf'}\n",
      "Running gpt-3.5-turbo...\n",
      "Answer: New question: \n",
      "\n",
      "Based on the information provided, can you calculate the median revenue and market capitalization for the peer group companies in fiscal 2023?\n",
      "Context: ['median of our peer group companies, which was as follows:\\nRevenue Market Capitalization\\nFiscal 2023 Peer Group Median $27.2 billion $218.5 billion\\nNVIDIA $24.3 billion $781.8 billion\\nOur CC reviews market practices and compensation data from the Radford Survey for peer companies’ comparably \\nsituated executives when determining the components of our executive compensation program, as well as total \\ncompensation.  We compare the total compensation opportunity for our NEOs and similarly situated executives at the \\n25th, 50th and 75th percentiles of peer company data where available, and the CC considers the factors below in \\ndetermining NEO compensation opportunities.\\n46', 'Gross margin for fiscal year 2023 declined from a year ago, driven by $2.17 billion of inventory charges largely relating to \\nexcess supply of NVIDIA Ampere architecture Gaming and Data Center products as compared to the demand \\nexpectations for these products, particularly for the expected demand in China. The inventory charges were comprised of \\n$1.04 billion for inventory on hand and $1.13 billion for inventory purchase obligations in excess of our demand \\nexpectations.\\nOperating expenses, which included a $1.35 billion acquisition termination charge related to the Arm transaction, were up \\n50% from a year ago. The increase also reflected compensation, data center infrastructure, and engineering development \\ncosts.\\nCash, cash equivalents and marketable securities were $13.30 billion.\\nDuring fiscal year 2023, we returned $10.44\\xa0billion to shareholders in the form of share repurchases and cash dividends.', 'company a better place to work. The anonymous third-party platform is designed to protect the identity of the reporter \\nand provide a mechanism for reporters to follow an investigation and receive responses.\\nWe want NVIDIA to be a place where people can build their careers over their lifetime. Our employees tend to come and \\nstay. In Fiscal 2023, our overall turnover rate was 5.3%.\\nCompensation, Benefits, and Well-Being\\nOur compensation program rewards performance and is structured to encourage employees to invest in the Company’s \\nfuture. Employees receive equity, except where unavailable due to local regulations, that is tied to our stock price and \\nvests over time to help retain employees while aligning their interests with those of our stockholders.\\nWe offer comprehensive benefits to support our employees’ and their families’ well-being, including physical, mental and', 'Components of Pay\\nTaking into account (i) the Company’s Fiscal 2023 outlook at the time of determining executive compensation, (ii) \\nstockholder feedback from our annual outreach efforts, and (iii) strong Fiscal 2022 say-on-pay approval, the CC \\nmaintained the same elements for our executive pay program for Fiscal 2023, with some adjustments to increase the \\nproportion of at-risk pay.  The primary components of NVIDIA’s Fiscal 2023 executive compensation program, which are \\ngranted or determined annually in March, are summarized below:  \\nFixed \\nCompensation At-Risk Compensation\\nBase Salary Variable Cash SY PSUs MY PSUs RSUs (1)\\nForm Cash Cash Equity Equity Equity\\nWho \\nReceivesNEOs NEOs NEOs NEOs NEOs except our \\nCEO\\nPerformance \\nMeasureN/A Revenue \\n(determines \\ncash payout)Non-GAAP Operating Income \\n(determines number of shares \\neligible to vest)TSR relative to the S&P 500 \\n(determines number of shares \\neligible to vest)N/A\\nPerformance \\nPeriodN/A 1 year 1 year 3 years N/A\\nVesting', 'security arrangements for Fiscal 2023 included (a) $565,305 for residential security, (b) $90,217 for security monitoring services, and (c) $13,483 for a \\ncar leased by NVIDIA; the match of 401(k) and health savings account contributions was $11,500; and imputed income from life insurance coverage \\nwas $13,206.\\n(4)Reflects matches of contributions to our 401(k) savings plan and imputed income from life insurance coverage. These benefits are available to all \\neligible NVIDIA employees. For Fiscal 2023, the match of 401(k) contributions was $10,500 for Ms. Kress, $9,250 for Mr. Puri, $9,000 for Ms. Shoquist \\nand $10,500 for Mr. Teter; and imputed income from life insurance coverage was $37,467 for Mr. Puri and $14,478 for Ms. Shoquist.\\n57', 'BUSINESS OVERVIEW\\nNVIDIA pioneered accelerated computing to help solve the most challenging computational problems. We specialize in \\nmarkets in which our computing platforms can provide tremendous acceleration for applications. \\nFiscal 2023 Results\\nRevenue Gross Margin Operating Income Diluted EPS\\n$27.0 billion 56.9% $4.2 billion $1.74\\nflat year on year  down 8.0 points year on year down 58%  year on year down 55%  year on year \\nFiscal 2023 Reportable Segments\\nOur two reportable segments are “Compute & Networking” and “Graphics”:  \\nCompute & Networking Graphics All Other* Consolidated\\nRevenue$15.1 billion $11.9 billion\\n—$27.0 billion\\nup 36%  year on year down 25%  year on year flat year on year\\nOperating \\nIncome (Loss)$5.1 billion $4.6 billion\\n$(5.5) billion$4.2 billion\\nup 11%  year on year down 46%  year on year down 58%  year on year\\n* Includes expenses that our chief operating decision maker does not assign to either Compute & Networking or Graphics for purposes', 'average closing stock price for the 60 trading days preceding the start, and preceding and including the last day, of the 3-year performance period.\\nFiscal 2023 Executive Compensation Program Elements, Adjustments, Achievement and Payouts \\nNVIDIA’s executive compensation program in Fiscal 2023 continued to be guided by a pay for performance philosophy to \\nalign NEO pay with our stockholders’ interests.  Approximately 96% of our CEO’s total target pay, and approximately 56% \\nof our other NEOs’ total target pay, was dependent on corporate performance.  Executive compensation elements were:\\nBase Salary + Variable Cash + Equity\\nCEO NEOs other than CEO\\nBased on annual \\nrevenueSY PSUs  based on annual Non-GAAP \\nOperating Income performance, vesting \\nover 4 yearsSY PSUs  based on annual Non-GAAP \\nOperating Income performance, vesting \\nover 4 years\\nMY PSUs  based on 3-year TSR relative \\nto the S&P 500, vesting over 3 yearsMY PSUs  based on 3-year TSR relative', 'Board periodically discusses these topics. We believe that our employees are our greatest assets, and they play a key role \\nin creating long-term value for our stakeholders. As of the end of Fiscal 2023, we had 26,196 employees in 35 countries, \\n19,532 were engaged in research and development and 6,664 were engaged in sales, marketing, operations, and \\nadministrative positions.\\nTo be competitive and execute our business strategy successfully, we must recruit, develop, and retain talented \\nemployees, including qualified executives, scientists, engineers, and technical and non-technical staff.\\nRecruitment\\nAs the demand for global technical talent continues to be competitive, we have grown our technical workforce and have \\nbeen successful in attracting top talent to NVIDIA. We have attracted strong talent globally with our differentiated hiring \\nstrategies for university, professional, executive and diverse recruits. The COVID-19 pandemic created expanded hiring', 'determined to maintain the same elements and metrics for our Fiscal 2023 NEO pay program, but (i) increased the target \\nequity value for each NEO by $2 million, which increased the proportion of “at-risk” target pay, and (ii) set the Threshold \\nperformance goals for revenue and Non-GAAP Operating Income above record-level Fiscal 2022 results, both of which \\nfurther aligned pay with performance, as described below.  Our CC believes that continuing to structure the performance-\\nbased components of our executive pay program solely around NVIDIA’s corporate financial performance goals \\nappropriately aligns the motivation of management with the interests of our stockholders.  \\nIn the Fall of 2022, members of management and the Board, including our Lead Director and a member of our CC, again \\nengaged in stockholder outreach.  The CC considered the feedback from these meetings in making decisions regarding \\nthe current Fiscal 2024 executive compensation program.', 'Directors that the Compensation Discussion and Analysis be included in the Annual Report on Form\\xa010-K of NVIDIA for \\nthe year ended January\\xa029, 2023 and in this proxy statement.\\nCompensation Committee\\nRobert K. Burgess, Tench Coxe, John O. Dabiri, Dawn Hudson and Harvey C. Jones\\n65', 'applied compensation measure which aggregated, for each employee employed by us on the last day of Fiscal 2022, or \\nJanuary 30, 2022: (i) target base salary as of January 30, 2022 (annualized for permanent employees who were employed \\nby us for less than the entire fiscal year), (ii) variable cash earned during Fiscal 2022, and (iii) aggregate full grant date fair \\nvalue of equity awards granted during Fiscal 2022, calculated in accordance with ASC 718 and assuming the probable \\noutcome of the conditions at Base Operating Plan for performance-based awards.  Compensation paid in foreign \\ncurrencies was converted to U.S. dollars based on exchange rates in effect on January 30, 2022.  \\nAfter applying the methodology described above, we determined the identity of our median employee for Fiscal 2022.  We \\nconcluded that because there have been no changes to our employee population or employee compensation', 'January 29,\\n2023January 30,\\n2022$\\nChange%\\nChange\\n($ in millions)\\nCompute & Networking $ 15,068 $ 11,046 $ 4,022  36 %\\nGraphics  11,906  15,868  (3,962)  (25) %\\nTotal $ 26,974 $ 26,914 $ 60  — %\\nCompute & Networking -  The year-on-year increase was led by growth from hyperscale customers and also reflects \\npurchases made by several CSP partners to support multi-year cloud service agreements for our new NVIDIA AI cloud \\nservice offerings and our research and development activities. The increase was also related to the growth in Automotive. \\nCMP contributed an insignificant amount in fiscal year 2023 compared to $550 million in fiscal year 2022.\\nGraphics -  The year-on-year decrease primarily reflects lower sell-in to partners to help reduce channel inventory levels as \\nglobal macro-economic conditions and COVID-19 related disruptions in China weighed on gaming demand.\\nConcentration of Revenue', 'costs.\\nCash, cash equivalents and marketable securities were $13.30 billion.\\nDuring fiscal year 2023, we returned $10.44\\xa0billion to shareholders in the form of share repurchases and cash dividends. \\nAs of the end of fiscal year 2023, we had $7.23 billion  remaining under our share repurchase authorization through \\nDecember 2023. \\nMarket Platform Highlights \\nData Center revenue for fiscal year 2023 was $15.01 billion , up 41% from fiscal year 2022. The strong growth in Data \\nCenter revenue was influenced by hyperscaler and cloud usage of our accelerated computing platforms and networking \\nportfolio. In Data Center, we announced the NVIDIA Hopper GPU architecture and began ramping the first products \\nbased on the architecture, including the NVIDIA H100 Tensor Core GPU. The NVIDIA OVX server reference design \\nlaunched for digital twins and other Omniverse applications. We completed two new large language models for cloud AI', 'the 2007 Plan, related to a change-in-control of NVIDIA.\\nDuring Fiscal 2023, we granted RSUs to our non-employee directors, and RSUs and PSUs to our executive officers. See \\nthe section above titled  Director Compensation  and the section below titled Executive Compensation .\\n40', 'concluded that because there have been no changes to our employee population or employee compensation \\narrangements since the end of Fiscal 2022 that would significantly impact our pay ratio disclosure for Fiscal 2023, we \\nwould use the same individual in our Fiscal 2023 pay ratio calculation.\\nOur median employee’s compensation for Fiscal 2023 was $228,078.  Our CEO’s compensation for Fiscal 2023 was \\n$21,356,924.  Therefore, our Fiscal 2023 CEO to median employee\\xa0pay ratio\\xa0was 94:1.\\nThis pay ratio represents our reasonable estimate calculated in a manner consistent with Item 402(u) of Regulation S-K \\nand applicable guidance, which provide significant flexibility in how companies identify the median employee. Each \\ncompany may use a different methodology and make different assumptions. As a result, and as explained by the SEC \\nwhen it adopted these rules, in considering the pay ratio disclosure, stockholders should keep in mind that the rule was']\n"
     ]
    }
   ],
   "source": [
    "from datasets import Dataset\n",
    "\n",
    "questions = [\"Who is the CEO of Alphabet?\",\n",
    "             \"What was the balance at the end of the year for the allowance for credit losses and sales credits of Alphabet in 2022?\", # Alphabet: USD 1,213 | pg 92\n",
    "             \"What was the median employee compensation at NVIDIA in Fiscal 2023?\",\n",
    "            ]\n",
    "ground_truths = [[\"The CEO of Alphabet is Sundar Pichai.\"],\n",
    "                [\"The balance at the end of the year for the allowance for credit losses and sales credits in 2022 was $1,213 million.\"],\n",
    "                [\"The median employee compensation at NVIDIA in Fiscal 2023 was $228,078.\"]]\n",
    "answers = []\n",
    "contexts = []\n",
    "\n",
    "# Inference\n",
    "for query in questions:\n",
    "  print(f\"Query: {query}\")\n",
    "  updated_query, _ = retrieve_merge_docs(query, vectordb, 10)\n",
    "  ans = query_chatgpt(system_prompt, updated_query)\n",
    "  answers.append(ans)\n",
    "  print(f\"Answer: {ans}\") # {ans)\n",
    "\n",
    "  cntxt = [docs.page_content for docs in retriever.get_relevant_documents(query)]\n",
    "  contexts.append(cntxt)\n",
    "  print(f\"Context: {cntxt}\")\n",
    "\n",
    "# To dict\n",
    "data = {\n",
    "    \"question\": questions,\n",
    "    \"answer\": answers,\n",
    "    \"contexts\": contexts,\n",
    "    \"ground_truths\": ground_truths\n",
    "}\n",
    "\n",
    "# Convert dict to dataset\n",
    "dataset = Dataset.from_dict(data)\n",
    "     "
   ]
  },
  {
   "cell_type": "markdown",
   "metadata": {},
   "source": [
    "Now evaluating with RAGAS"
   ]
  },
  {
   "cell_type": "code",
   "execution_count": 156,
   "metadata": {},
   "outputs": [
    {
     "name": "stderr",
     "output_type": "stream",
     "text": [
      "passing column names as 'ground_truths' is deprecated and will be removed in the next version, please use 'ground_truth' instead. Note that `ground_truth` should be of type string and not Sequence[string] like `ground_truths`\n"
     ]
    },
    {
     "data": {
      "application/vnd.jupyter.widget-view+json": {
       "model_id": "c955e783ef7c4366aa514ef6110f7a0e",
       "version_major": 2,
       "version_minor": 0
      },
      "text/plain": [
       "Evaluating:   0%|          | 0/12 [00:00<?, ?it/s]"
      ]
     },
     "metadata": {},
     "output_type": "display_data"
    }
   ],
   "source": [
    "from ragas import evaluate\n",
    "from ragas.metrics import (\n",
    "    faithfulness,\n",
    "    answer_relevancy,\n",
    "    context_recall,\n",
    "    context_precision,\n",
    ")\n",
    "\n",
    "result = evaluate(\n",
    "    dataset = dataset,\n",
    "    metrics=[\n",
    "        context_precision,\n",
    "        context_recall,\n",
    "        faithfulness,\n",
    "        answer_relevancy,\n",
    "    ],\n",
    ")\n",
    "\n",
    "df = result.to_pandas()"
   ]
  },
  {
   "cell_type": "code",
   "execution_count": 159,
   "metadata": {},
   "outputs": [
    {
     "data": {
      "text/html": [
       "<div>\n",
       "<style scoped>\n",
       "    .dataframe tbody tr th:only-of-type {\n",
       "        vertical-align: middle;\n",
       "    }\n",
       "\n",
       "    .dataframe tbody tr th {\n",
       "        vertical-align: top;\n",
       "    }\n",
       "\n",
       "    .dataframe thead th {\n",
       "        text-align: right;\n",
       "    }\n",
       "</style>\n",
       "<table border=\"1\" class=\"dataframe\">\n",
       "  <thead>\n",
       "    <tr style=\"text-align: right;\">\n",
       "      <th></th>\n",
       "      <th>question</th>\n",
       "      <th>answer</th>\n",
       "      <th>contexts</th>\n",
       "      <th>ground_truths</th>\n",
       "      <th>ground_truth</th>\n",
       "      <th>context_precision</th>\n",
       "      <th>context_recall</th>\n",
       "      <th>faithfulness</th>\n",
       "      <th>answer_relevancy</th>\n",
       "    </tr>\n",
       "  </thead>\n",
       "  <tbody>\n",
       "    <tr>\n",
       "      <th>0</th>\n",
       "      <td>Who is the CEO of Alphabet?</td>\n",
       "      <td>I'm sorry, but I couldn't find a specific ques...</td>\n",
       "      <td>[us to tackle big problems and invest in moons...</td>\n",
       "      <td>[The CEO of Alphabet is Sundar Pichai.]</td>\n",
       "      <td>The CEO of Alphabet is Sundar Pichai.</td>\n",
       "      <td>0.715278</td>\n",
       "      <td>1.0</td>\n",
       "      <td>NaN</td>\n",
       "      <td>0.000000</td>\n",
       "    </tr>\n",
       "    <tr>\n",
       "      <th>1</th>\n",
       "      <td>What was the balance at the end of the year fo...</td>\n",
       "      <td># Retrieved content number: 3\\n\\nOperating inc...</td>\n",
       "      <td>[Balance at\\nBeginning of Year Additions Usage...</td>\n",
       "      <td>[The balance at the end of the year for the al...</td>\n",
       "      <td>The balance at the end of the year for the all...</td>\n",
       "      <td>0.700000</td>\n",
       "      <td>1.0</td>\n",
       "      <td>1.0</td>\n",
       "      <td>0.838616</td>\n",
       "    </tr>\n",
       "    <tr>\n",
       "      <th>2</th>\n",
       "      <td>What was the median employee compensation at N...</td>\n",
       "      <td>New question: \\n\\nBased on the information pro...</td>\n",
       "      <td>[median of our peer group companies, which was...</td>\n",
       "      <td>[The median employee compensation at NVIDIA in...</td>\n",
       "      <td>The median employee compensation at NVIDIA in ...</td>\n",
       "      <td>0.066667</td>\n",
       "      <td>1.0</td>\n",
       "      <td>0.0</td>\n",
       "      <td>0.860674</td>\n",
       "    </tr>\n",
       "  </tbody>\n",
       "</table>\n",
       "</div>"
      ],
      "text/plain": [
       "                                            question  \\\n",
       "0                        Who is the CEO of Alphabet?   \n",
       "1  What was the balance at the end of the year fo...   \n",
       "2  What was the median employee compensation at N...   \n",
       "\n",
       "                                              answer  \\\n",
       "0  I'm sorry, but I couldn't find a specific ques...   \n",
       "1  # Retrieved content number: 3\\n\\nOperating inc...   \n",
       "2  New question: \\n\\nBased on the information pro...   \n",
       "\n",
       "                                            contexts  \\\n",
       "0  [us to tackle big problems and invest in moons...   \n",
       "1  [Balance at\\nBeginning of Year Additions Usage...   \n",
       "2  [median of our peer group companies, which was...   \n",
       "\n",
       "                                       ground_truths  \\\n",
       "0            [The CEO of Alphabet is Sundar Pichai.]   \n",
       "1  [The balance at the end of the year for the al...   \n",
       "2  [The median employee compensation at NVIDIA in...   \n",
       "\n",
       "                                        ground_truth  context_precision  \\\n",
       "0              The CEO of Alphabet is Sundar Pichai.           0.715278   \n",
       "1  The balance at the end of the year for the all...           0.700000   \n",
       "2  The median employee compensation at NVIDIA in ...           0.066667   \n",
       "\n",
       "   context_recall  faithfulness  answer_relevancy  \n",
       "0             1.0           NaN          0.000000  \n",
       "1             1.0           1.0          0.838616  \n",
       "2             1.0           0.0          0.860674  "
      ]
     },
     "execution_count": 159,
     "metadata": {},
     "output_type": "execute_result"
    }
   ],
   "source": [
    "df.head()"
   ]
  },
  {
   "cell_type": "markdown",
   "metadata": {},
   "source": [
    "**Observations: **\n",
    "We can see on a sample dataset we are getting results. This provides an insight on how we can evaluate the model's response and w.rt. golden data set. \n",
    "\n",
    "\n",
    "There is need to curate data using more care and we can also seek help from large LLMs, given them a portion of our page/section to generate questions and answers. "
   ]
  },
  {
   "cell_type": "markdown",
   "metadata": {},
   "source": []
  }
 ],
 "metadata": {
  "kernelspec": {
   "display_name": "base",
   "language": "python",
   "name": "python3"
  },
  "language_info": {
   "codemirror_mode": {
    "name": "ipython",
    "version": 3
   },
   "file_extension": ".py",
   "mimetype": "text/x-python",
   "name": "python",
   "nbconvert_exporter": "python",
   "pygments_lexer": "ipython3",
   "version": "3.8.11"
  }
 },
 "nbformat": 4,
 "nbformat_minor": 2
}
