{
 "cells": [
  {
   "cell_type": "markdown",
   "metadata": {},
   "source": [
    "Data Ingestion"
   ]
  },
  {
   "cell_type": "code",
   "execution_count": 1,
   "metadata": {},
   "outputs": [
    {
     "name": "stdout",
     "output_type": "stream",
     "text": [
      "Collecting unstructured\n",
      "  Downloading unstructured-0.11.8-py3-none-any.whl.metadata (26 kB)\n",
      "Requirement already satisfied: chardet in /Users/wenda/anaconda3/lib/python3.8/site-packages (from unstructured) (4.0.0)\n",
      "Collecting filetype (from unstructured)\n",
      "  Using cached filetype-1.2.0-py2.py3-none-any.whl.metadata (6.5 kB)\n",
      "Collecting python-magic (from unstructured)\n",
      "  Using cached python_magic-0.4.27-py2.py3-none-any.whl.metadata (5.8 kB)\n",
      "Requirement already satisfied: lxml in /Users/wenda/anaconda3/lib/python3.8/site-packages (from unstructured) (5.2.1)\n",
      "Requirement already satisfied: nltk in /Users/wenda/anaconda3/lib/python3.8/site-packages (from unstructured) (3.8.1)\n",
      "Requirement already satisfied: tabulate in /Users/wenda/anaconda3/lib/python3.8/site-packages (from unstructured) (0.9.0)\n",
      "Requirement already satisfied: requests in /Users/wenda/anaconda3/lib/python3.8/site-packages (from unstructured) (2.31.0)\n",
      "Requirement already satisfied: beautifulsoup4 in /Users/wenda/anaconda3/lib/python3.8/site-packages (from unstructured) (4.12.2)\n",
      "Collecting emoji (from unstructured)\n",
      "  Using cached emoji-2.12.1-py3-none-any.whl.metadata (5.4 kB)\n",
      "Requirement already satisfied: dataclasses-json in /Users/wenda/anaconda3/lib/python3.8/site-packages (from unstructured) (0.5.14)\n",
      "Collecting python-iso639 (from unstructured)\n",
      "  Using cached python_iso639-2024.4.27-py3-none-any.whl.metadata (13 kB)\n",
      "Collecting langdetect (from unstructured)\n",
      "  Using cached langdetect-1.0.9.tar.gz (981 kB)\n",
      "  Preparing metadata (setup.py) ... \u001b[?25ldone\n",
      "\u001b[?25hRequirement already satisfied: numpy in /Users/wenda/anaconda3/lib/python3.8/site-packages (from unstructured) (1.24.3)\n",
      "Collecting rapidfuzz (from unstructured)\n",
      "  Downloading rapidfuzz-3.9.4-cp38-cp38-macosx_11_0_arm64.whl.metadata (12 kB)\n",
      "Requirement already satisfied: backoff in /Users/wenda/anaconda3/lib/python3.8/site-packages (from unstructured) (2.2.1)\n",
      "Requirement already satisfied: typing-extensions in /Users/wenda/anaconda3/lib/python3.8/site-packages (from unstructured) (4.11.0)\n",
      "Collecting unstructured-client (from unstructured)\n",
      "  Using cached unstructured_client-0.24.1-py3-none-any.whl.metadata (12 kB)\n",
      "Requirement already satisfied: wrapt in /Users/wenda/anaconda3/lib/python3.8/site-packages (from unstructured) (1.14.1)\n",
      "Requirement already satisfied: soupsieve>1.2 in /Users/wenda/anaconda3/lib/python3.8/site-packages (from beautifulsoup4->unstructured) (2.5)\n",
      "Requirement already satisfied: marshmallow<4.0.0,>=3.18.0 in /Users/wenda/anaconda3/lib/python3.8/site-packages (from dataclasses-json->unstructured) (3.21.3)\n",
      "Requirement already satisfied: typing-inspect<1,>=0.4.0 in /Users/wenda/anaconda3/lib/python3.8/site-packages (from dataclasses-json->unstructured) (0.9.0)\n",
      "Requirement already satisfied: six in /Users/wenda/anaconda3/lib/python3.8/site-packages (from langdetect->unstructured) (1.16.0)\n",
      "Requirement already satisfied: click in /Users/wenda/anaconda3/lib/python3.8/site-packages (from nltk->unstructured) (8.1.7)\n",
      "Requirement already satisfied: joblib in /Users/wenda/anaconda3/lib/python3.8/site-packages (from nltk->unstructured) (1.4.2)\n",
      "Requirement already satisfied: regex>=2021.8.3 in /Users/wenda/anaconda3/lib/python3.8/site-packages (from nltk->unstructured) (2023.10.3)\n",
      "Requirement already satisfied: tqdm in /Users/wenda/anaconda3/lib/python3.8/site-packages (from nltk->unstructured) (4.66.4)\n",
      "Requirement already satisfied: charset-normalizer<4,>=2 in /Users/wenda/anaconda3/lib/python3.8/site-packages (from requests->unstructured) (2.0.4)\n",
      "Requirement already satisfied: idna<4,>=2.5 in /Users/wenda/anaconda3/lib/python3.8/site-packages (from requests->unstructured) (3.7)\n",
      "Requirement already satisfied: urllib3<3,>=1.21.1 in /Users/wenda/anaconda3/lib/python3.8/site-packages (from requests->unstructured) (2.2.2)\n",
      "Requirement already satisfied: certifi>=2017.4.17 in /Users/wenda/anaconda3/lib/python3.8/site-packages (from requests->unstructured) (2024.6.2)\n",
      "Collecting charset-normalizer<4,>=2 (from requests->unstructured)\n",
      "  Using cached charset_normalizer-3.3.2-cp38-cp38-macosx_11_0_arm64.whl.metadata (33 kB)\n",
      "Collecting dataclasses-json (from unstructured)\n",
      "  Using cached dataclasses_json-0.6.7-py3-none-any.whl.metadata (25 kB)\n",
      "Collecting deepdiff>=6.0 (from unstructured-client->unstructured)\n",
      "  Using cached deepdiff-7.0.1-py3-none-any.whl.metadata (6.8 kB)\n",
      "Requirement already satisfied: httpx>=0.27.0 in /Users/wenda/anaconda3/lib/python3.8/site-packages (from unstructured-client->unstructured) (0.27.0)\n",
      "Collecting jsonpath-python>=1.0.6 (from unstructured-client->unstructured)\n",
      "  Using cached jsonpath_python-1.0.6-py3-none-any.whl.metadata (12 kB)\n",
      "Requirement already satisfied: mypy-extensions>=1.0.0 in /Users/wenda/anaconda3/lib/python3.8/site-packages (from unstructured-client->unstructured) (1.0.0)\n",
      "Requirement already satisfied: nest-asyncio>=1.6.0 in /Users/wenda/anaconda3/lib/python3.8/site-packages (from unstructured-client->unstructured) (1.6.0)\n",
      "Requirement already satisfied: packaging>=23.1 in /Users/wenda/anaconda3/lib/python3.8/site-packages (from unstructured-client->unstructured) (23.2)\n",
      "Requirement already satisfied: pypdf>=4.0 in /Users/wenda/anaconda3/lib/python3.8/site-packages (from unstructured-client->unstructured) (4.2.0)\n",
      "Requirement already satisfied: python-dateutil>=2.8.2 in /Users/wenda/anaconda3/lib/python3.8/site-packages (from unstructured-client->unstructured) (2.9.0.post0)\n",
      "Requirement already satisfied: requests-toolbelt>=1.0.0 in /Users/wenda/anaconda3/lib/python3.8/site-packages (from unstructured-client->unstructured) (1.0.0)\n",
      "Collecting ordered-set<4.2.0,>=4.1.0 (from deepdiff>=6.0->unstructured-client->unstructured)\n",
      "  Using cached ordered_set-4.1.0-py3-none-any.whl.metadata (5.3 kB)\n",
      "Requirement already satisfied: anyio in /Users/wenda/anaconda3/lib/python3.8/site-packages (from httpx>=0.27.0->unstructured-client->unstructured) (4.2.0)\n",
      "Requirement already satisfied: httpcore==1.* in /Users/wenda/anaconda3/lib/python3.8/site-packages (from httpx>=0.27.0->unstructured-client->unstructured) (1.0.5)\n",
      "Requirement already satisfied: sniffio in /Users/wenda/anaconda3/lib/python3.8/site-packages (from httpx>=0.27.0->unstructured-client->unstructured) (1.3.0)\n",
      "Requirement already satisfied: h11<0.15,>=0.13 in /Users/wenda/anaconda3/lib/python3.8/site-packages (from httpcore==1.*->httpx>=0.27.0->unstructured-client->unstructured) (0.14.0)\n",
      "Requirement already satisfied: exceptiongroup>=1.0.2 in /Users/wenda/anaconda3/lib/python3.8/site-packages (from anyio->httpx>=0.27.0->unstructured-client->unstructured) (1.2.0)\n",
      "Downloading unstructured-0.11.8-py3-none-any.whl (1.8 MB)\n",
      "\u001b[2K   \u001b[90m━━━━━━━━━━━━━━━━━━━━━━━━━━━━━━━━━━━━━━━━\u001b[0m \u001b[32m1.8/1.8 MB\u001b[0m \u001b[31m13.9 MB/s\u001b[0m eta \u001b[36m0:00:00\u001b[0ma \u001b[36m0:00:01\u001b[0m\n",
      "\u001b[?25hUsing cached emoji-2.12.1-py3-none-any.whl (431 kB)\n",
      "Using cached filetype-1.2.0-py2.py3-none-any.whl (19 kB)\n",
      "Using cached python_iso639-2024.4.27-py3-none-any.whl (274 kB)\n",
      "Using cached python_magic-0.4.27-py2.py3-none-any.whl (13 kB)\n",
      "Downloading rapidfuzz-3.9.4-cp38-cp38-macosx_11_0_arm64.whl (1.5 MB)\n",
      "\u001b[2K   \u001b[90m━━━━━━━━━━━━━━━━━━━━━━━━━━━━━━━━━━━━━━━━\u001b[0m \u001b[32m1.5/1.5 MB\u001b[0m \u001b[31m17.8 MB/s\u001b[0m eta \u001b[36m0:00:00\u001b[0m00:01\u001b[0m00:01\u001b[0m\n",
      "\u001b[?25hUsing cached unstructured_client-0.24.1-py3-none-any.whl (41 kB)\n",
      "Using cached dataclasses_json-0.6.7-py3-none-any.whl (28 kB)\n",
      "Using cached charset_normalizer-3.3.2-cp38-cp38-macosx_11_0_arm64.whl (119 kB)\n",
      "Using cached deepdiff-7.0.1-py3-none-any.whl (80 kB)\n",
      "Using cached jsonpath_python-1.0.6-py3-none-any.whl (7.6 kB)\n",
      "Using cached ordered_set-4.1.0-py3-none-any.whl (7.6 kB)\n",
      "Building wheels for collected packages: langdetect\n",
      "  Building wheel for langdetect (setup.py) ... \u001b[?25ldone\n",
      "\u001b[?25h  Created wheel for langdetect: filename=langdetect-1.0.9-py3-none-any.whl size=993227 sha256=ac67e2f27d3f95e7269ebe90ac35a844ca2cdb370103c54ba11d8a842d4b97ea\n",
      "  Stored in directory: /Users/wenda/Library/Caches/pip/wheels/13/c7/b0/79f66658626032e78fc1a83103690ef6797d551cb22e56e734\n",
      "Successfully built langdetect\n",
      "Installing collected packages: filetype, rapidfuzz, python-magic, python-iso639, ordered-set, langdetect, jsonpath-python, emoji, charset-normalizer, deepdiff, dataclasses-json, unstructured-client, unstructured\n",
      "  Attempting uninstall: charset-normalizer\n",
      "    Found existing installation: charset-normalizer 2.0.4\n",
      "    Uninstalling charset-normalizer-2.0.4:\n",
      "      Successfully uninstalled charset-normalizer-2.0.4\n",
      "  Attempting uninstall: dataclasses-json\n",
      "    Found existing installation: dataclasses-json 0.5.14\n",
      "    Uninstalling dataclasses-json-0.5.14:\n",
      "      Successfully uninstalled dataclasses-json-0.5.14\n",
      "\u001b[31mERROR: pip's dependency resolver does not currently take into account all the packages that are installed. This behaviour is the source of the following dependency conflicts.\n",
      "langchain-community 0.0.38 requires langchain-core<0.2.0,>=0.1.52, but you have langchain-core 0.2.18 which is incompatible.\n",
      "llama-index-readers-file 0.1.29 requires beautifulsoup4<5.0.0,>=4.12.3, but you have beautifulsoup4 4.12.2 which is incompatible.\n",
      "nemoguardrails 0.9.0 requires langchain!=0.1.9,<0.2.0,>=0.1.0, but you have langchain 0.2.7 which is incompatible.\n",
      "streamlit 1.25.0 requires pillow<10,>=7.1.0, but you have pillow 10.4.0 which is incompatible.\n",
      "transformers 4.31.0 requires tokenizers!=0.11.3,<0.14,>=0.11.1, but you have tokenizers 0.19.1 which is incompatible.\u001b[0m\u001b[31m\n",
      "\u001b[0mSuccessfully installed charset-normalizer-3.3.2 dataclasses-json-0.6.7 deepdiff-7.0.1 emoji-2.12.1 filetype-1.2.0 jsonpath-python-1.0.6 langdetect-1.0.9 ordered-set-4.1.0 python-iso639-2024.4.27 python-magic-0.4.27 rapidfuzz-3.9.4 unstructured-0.11.8 unstructured-client-0.24.1\n",
      "Requirement already satisfied: pdfminer.six in /Users/wenda/anaconda3/lib/python3.8/site-packages (20221105)\n",
      "Requirement already satisfied: charset-normalizer>=2.0.0 in /Users/wenda/anaconda3/lib/python3.8/site-packages (from pdfminer.six) (3.3.2)\n",
      "Requirement already satisfied: cryptography>=36.0.0 in /Users/wenda/anaconda3/lib/python3.8/site-packages (from pdfminer.six) (41.0.3)\n",
      "Requirement already satisfied: cffi>=1.12 in /Users/wenda/anaconda3/lib/python3.8/site-packages (from cryptography>=36.0.0->pdfminer.six) (1.16.0)\n",
      "Requirement already satisfied: pycparser in /Users/wenda/anaconda3/lib/python3.8/site-packages (from cffi>=1.12->cryptography>=36.0.0->pdfminer.six) (2.21)\n",
      "Collecting pillow-heif\n",
      "  Downloading pillow_heif-0.17.0.tar.gz (14.9 MB)\n",
      "\u001b[2K     \u001b[90m━━━━━━━━━━━━━━━━━━━━━━━━━━━━━━━━━━━━━━━━\u001b[0m \u001b[32m14.9/14.9 MB\u001b[0m \u001b[31m18.4 MB/s\u001b[0m eta \u001b[36m0:00:00\u001b[0m00:01\u001b[0m00:01\u001b[0m\n",
      "\u001b[?25h  Installing build dependencies ... \u001b[?25ldone\n",
      "\u001b[?25h  Getting requirements to build wheel ... \u001b[?25ldone\n",
      "\u001b[?25h  Preparing metadata (pyproject.toml) ... \u001b[?25ldone\n",
      "\u001b[?25hCollecting pillow>=10.1.0 (from pillow-heif)\n",
      "  Obtaining dependency information for pillow>=10.1.0 from https://files.pythonhosted.org/packages/f4/5f/491dafc7bbf5a3cc1845dc0430872e8096eb9e2b6f8161509d124594ec2d/pillow-10.4.0-cp311-cp311-macosx_11_0_arm64.whl.metadata\n",
      "  Downloading pillow-10.4.0-cp311-cp311-macosx_11_0_arm64.whl.metadata (9.2 kB)\n",
      "Downloading pillow-10.4.0-cp311-cp311-macosx_11_0_arm64.whl (3.4 MB)\n",
      "\u001b[2K   \u001b[90m━━━━━━━━━━━━━━━━━━━━━━━━━━━━━━━━━━━━━━━━\u001b[0m \u001b[32m3.4/3.4 MB\u001b[0m \u001b[31m20.6 MB/s\u001b[0m eta \u001b[36m0:00:00\u001b[0m00:01\u001b[0m00:01\u001b[0m\n",
      "\u001b[?25hBuilding wheels for collected packages: pillow-heif\n",
      "  Building wheel for pillow-heif (pyproject.toml) ... \u001b[?25lerror\n",
      "  \u001b[1;31merror\u001b[0m: \u001b[1msubprocess-exited-with-error\u001b[0m\n",
      "  \n",
      "  \u001b[31m×\u001b[0m \u001b[32mBuilding wheel for pillow-heif \u001b[0m\u001b[1;32m(\u001b[0m\u001b[32mpyproject.toml\u001b[0m\u001b[1;32m)\u001b[0m did not run successfully.\n",
      "  \u001b[31m│\u001b[0m exit code: \u001b[1;36m1\u001b[0m\n",
      "  \u001b[31m╰─>\u001b[0m \u001b[31m[62 lines of output]\u001b[0m\n",
      "  \u001b[31m   \u001b[0m running bdist_wheel\n",
      "  \u001b[31m   \u001b[0m running build\n",
      "  \u001b[31m   \u001b[0m running build_py\n",
      "  \u001b[31m   \u001b[0m creating build\n",
      "  \u001b[31m   \u001b[0m creating build/lib.macosx-10.9-universal2-cpython-311\n",
      "  \u001b[31m   \u001b[0m creating build/lib.macosx-10.9-universal2-cpython-311/pillow_heif\n",
      "  \u001b[31m   \u001b[0m copying pillow_heif/AvifImagePlugin.py -> build/lib.macosx-10.9-universal2-cpython-311/pillow_heif\n",
      "  \u001b[31m   \u001b[0m copying pillow_heif/options.py -> build/lib.macosx-10.9-universal2-cpython-311/pillow_heif\n",
      "  \u001b[31m   \u001b[0m copying pillow_heif/misc.py -> build/lib.macosx-10.9-universal2-cpython-311/pillow_heif\n",
      "  \u001b[31m   \u001b[0m copying pillow_heif/_version.py -> build/lib.macosx-10.9-universal2-cpython-311/pillow_heif\n",
      "  \u001b[31m   \u001b[0m copying pillow_heif/constants.py -> build/lib.macosx-10.9-universal2-cpython-311/pillow_heif\n",
      "  \u001b[31m   \u001b[0m copying pillow_heif/__init__.py -> build/lib.macosx-10.9-universal2-cpython-311/pillow_heif\n",
      "  \u001b[31m   \u001b[0m copying pillow_heif/_lib_info.py -> build/lib.macosx-10.9-universal2-cpython-311/pillow_heif\n",
      "  \u001b[31m   \u001b[0m copying pillow_heif/_deffered_error.py -> build/lib.macosx-10.9-universal2-cpython-311/pillow_heif\n",
      "  \u001b[31m   \u001b[0m copying pillow_heif/heif.py -> build/lib.macosx-10.9-universal2-cpython-311/pillow_heif\n",
      "  \u001b[31m   \u001b[0m copying pillow_heif/as_plugin.py -> build/lib.macosx-10.9-universal2-cpython-311/pillow_heif\n",
      "  \u001b[31m   \u001b[0m copying pillow_heif/HeifImagePlugin.py -> build/lib.macosx-10.9-universal2-cpython-311/pillow_heif\n",
      "  \u001b[31m   \u001b[0m running build_ext\n",
      "  \u001b[31m   \u001b[0m Checking for include file 'heif.h' in '/Library/Frameworks/Python.framework/Versions/3.11/include'\n",
      "  \u001b[31m   \u001b[0m Checking for include file 'heif.h' in '/Library/Frameworks/Python.framework/Versions/3.11/include/libheif'\n",
      "  \u001b[31m   \u001b[0m Checking for include file 'heif.h' in '/opt/homebrew/include'\n",
      "  \u001b[31m   \u001b[0m Checking for include file 'heif.h' in '/opt/homebrew/include/libheif'\n",
      "  \u001b[31m   \u001b[0m Checking for include file 'heif.h' in '/Library/Developer/CommandLineTools/SDKs/MacOSX14.0.sdk/usr/include'\n",
      "  \u001b[31m   \u001b[0m Checking for include file 'heif.h' in '/Library/Developer/CommandLineTools/SDKs/MacOSX14.0.sdk/usr/include/libheif'\n",
      "  \u001b[31m   \u001b[0m Checking for include file 'heif.h' in '/Library/Frameworks/Python.framework/Versions/3.11/include/python3.11'\n",
      "  \u001b[31m   \u001b[0m Checking for include file 'heif.h' in '/Library/Frameworks/Python.framework/Versions/3.11/include/python3.11/libheif'\n",
      "  \u001b[31m   \u001b[0m \n",
      "  \u001b[31m   \u001b[0m \n",
      "  \u001b[31m   \u001b[0m The headers or library files could not be found for libheif,\n",
      "  \u001b[31m   \u001b[0m a required dependency when compiling Pillow-Heif from source.\n",
      "  \u001b[31m   \u001b[0m \n",
      "  \u001b[31m   \u001b[0m Please see the install instructions at:\n",
      "  \u001b[31m   \u001b[0m    https://pillow-heif.readthedocs.io/en/latest/installation.html\n",
      "  \u001b[31m   \u001b[0m \n",
      "  \u001b[31m   \u001b[0m Traceback (most recent call last):\n",
      "  \u001b[31m   \u001b[0m   File \"/Library/Frameworks/Python.framework/Versions/3.11/lib/python3.11/site-packages/pip/_vendor/pyproject_hooks/_in_process/_in_process.py\", line 353, in <module>\n",
      "  \u001b[31m   \u001b[0m     main()\n",
      "  \u001b[31m   \u001b[0m   File \"/Library/Frameworks/Python.framework/Versions/3.11/lib/python3.11/site-packages/pip/_vendor/pyproject_hooks/_in_process/_in_process.py\", line 335, in main\n",
      "  \u001b[31m   \u001b[0m     json_out['return_val'] = hook(**hook_input['kwargs'])\n",
      "  \u001b[31m   \u001b[0m                              ^^^^^^^^^^^^^^^^^^^^^^^^^^^^\n",
      "  \u001b[31m   \u001b[0m   File \"/Library/Frameworks/Python.framework/Versions/3.11/lib/python3.11/site-packages/pip/_vendor/pyproject_hooks/_in_process/_in_process.py\", line 251, in build_wheel\n",
      "  \u001b[31m   \u001b[0m     return _build_backend().build_wheel(wheel_directory, config_settings,\n",
      "  \u001b[31m   \u001b[0m            ^^^^^^^^^^^^^^^^^^^^^^^^^^^^^^^^^^^^^^^^^^^^^^^^^^^^^^^^^^^^^^\n",
      "  \u001b[31m   \u001b[0m   File \"/private/var/folders/9z/1zsbrjl17xj_76sy78736hmr0000gn/T/pip-build-env-sifidgut/overlay/lib/python3.11/site-packages/setuptools/build_meta.py\", line 415, in build_wheel\n",
      "  \u001b[31m   \u001b[0m     return self._build_with_temp_dir(\n",
      "  \u001b[31m   \u001b[0m            ^^^^^^^^^^^^^^^^^^^^^^^^^^\n",
      "  \u001b[31m   \u001b[0m   File \"/private/var/folders/9z/1zsbrjl17xj_76sy78736hmr0000gn/T/pip-build-env-sifidgut/overlay/lib/python3.11/site-packages/setuptools/build_meta.py\", line 397, in _build_with_temp_dir\n",
      "  \u001b[31m   \u001b[0m     self.run_setup()\n",
      "  \u001b[31m   \u001b[0m   File \"/private/var/folders/9z/1zsbrjl17xj_76sy78736hmr0000gn/T/pip-build-env-sifidgut/overlay/lib/python3.11/site-packages/setuptools/build_meta.py\", line 497, in run_setup\n",
      "  \u001b[31m   \u001b[0m     super().run_setup(setup_script=setup_script)\n",
      "  \u001b[31m   \u001b[0m   File \"/private/var/folders/9z/1zsbrjl17xj_76sy78736hmr0000gn/T/pip-build-env-sifidgut/overlay/lib/python3.11/site-packages/setuptools/build_meta.py\", line 313, in run_setup\n",
      "  \u001b[31m   \u001b[0m     exec(code, locals())\n",
      "  \u001b[31m   \u001b[0m   File \"<string>\", line 288, in <module>\n",
      "  \u001b[31m   \u001b[0m RequiredDependencyException:\n",
      "  \u001b[31m   \u001b[0m \n",
      "  \u001b[31m   \u001b[0m The headers or library files could not be found for libheif,\n",
      "  \u001b[31m   \u001b[0m a required dependency when compiling Pillow-Heif from source.\n",
      "  \u001b[31m   \u001b[0m \n",
      "  \u001b[31m   \u001b[0m Please see the install instructions at:\n",
      "  \u001b[31m   \u001b[0m    https://pillow-heif.readthedocs.io/en/latest/installation.html\n",
      "  \u001b[31m   \u001b[0m \n",
      "  \u001b[31m   \u001b[0m \n",
      "  \u001b[31m   \u001b[0m \u001b[31m[end of output]\u001b[0m\n",
      "  \n",
      "  \u001b[1;35mnote\u001b[0m: This error originates from a subprocess, and is likely not a problem with pip.\n",
      "\u001b[?25h\u001b[31m  ERROR: Failed building wheel for pillow-heif\u001b[0m\u001b[31m\n",
      "\u001b[0mFailed to build pillow-heif\n",
      "\u001b[31mERROR: Could not build wheels for pillow-heif, which is required to install pyproject.toml-based projects\u001b[0m\u001b[31m\n",
      "\u001b[0m\n",
      "\u001b[1m[\u001b[0m\u001b[34;49mnotice\u001b[0m\u001b[1;39;49m]\u001b[0m\u001b[39;49m A new release of pip is available: \u001b[0m\u001b[31;49m23.2.1\u001b[0m\u001b[39;49m -> \u001b[0m\u001b[32;49m24.1.2\u001b[0m\n",
      "\u001b[1m[\u001b[0m\u001b[34;49mnotice\u001b[0m\u001b[1;39;49m]\u001b[0m\u001b[39;49m To update, run: \u001b[0m\u001b[32;49mpython3 -m pip install --upgrade pip\u001b[0m\n"
     ]
    }
   ],
   "source": [
    "!pip install -qU langchain-text-splitters\n",
    "!pip install unstructured\n",
    "!pip install pdfminer.six\n",
    "!python3 -m pip install pillow-heif"
   ]
  },
  {
   "cell_type": "code",
   "execution_count": 2,
   "metadata": {},
   "outputs": [],
   "source": [
    "import os\n",
    "from typing import List\n",
    "from langchain.document_loaders import PyPDFLoader\n",
    "from langchain_text_splitters import RecursiveCharacterTextSplitter\n",
    "from langchain.vectorstores import Chroma\n",
    "from langchain.embeddings import OpenAIEmbeddings\n",
    "\n",
    "from pyprojroot import here\n",
    "import warnings; warnings.filterwarnings(\"ignore\")\n",
    "import time\n",
    "\n",
    "%load_ext autoreload\n",
    "%autoreload 2"
   ]
  },
  {
   "cell_type": "code",
   "execution_count": 3,
   "metadata": {},
   "outputs": [
    {
     "data": {
      "text/plain": [
       "True"
      ]
     },
     "execution_count": 3,
     "metadata": {},
     "output_type": "execute_result"
    }
   ],
   "source": [
    "from dotenv import load_dotenv\n",
    "load_dotenv(dotenv_path=here(\".env\"))"
   ]
  },
  {
   "cell_type": "code",
   "execution_count": 4,
   "metadata": {},
   "outputs": [],
   "source": [
    "api_key = os.getenv(\"OPENAI_API_KEY\")\n",
    "if api_key is None:\n",
    "    raise ValueError(\"The OPENAI_API_KEY environment variable is not set.\")\n",
    "os.environ[\"OPENAI_API_KEY\"] = api_key"
   ]
  },
  {
   "cell_type": "markdown",
   "metadata": {},
   "source": [
    "# Setting up Directory Paths, Loading and processing docs"
   ]
  },
  {
   "cell_type": "code",
   "execution_count": 5,
   "metadata": {},
   "outputs": [],
   "source": [
    "\n",
    "# Replace these with your actual paths\n",
    "directory_path = here(\"data/docs\")"
   ]
  },
  {
   "cell_type": "code",
   "execution_count": 6,
   "metadata": {},
   "outputs": [],
   "source": [
    "def load_docs(directory_path):\n",
    "    \"\"\"Loads all PDF files from the directory and splits them into chunks.\"\"\"\n",
    "    pdf_files = [f for f in os.listdir(directory_path) if f.endswith(\".pdf\")]\n",
    "    print(\"Number of PDF files:\", len(pdf_files))\n",
    "    \n",
    "    docs = []\n",
    "    document_file_paths = []  # Initialize the list to store file paths\n",
    "    \n",
    "    for pdf_file in pdf_files:\n",
    "        file_path = os.path.join(directory_path, pdf_file)\n",
    "        loader = PyPDFLoader(file_path)\n",
    "        docs.extend(loader.load())\n",
    "        document_file_paths.append(file_path)  # Add the file path to the list\n",
    "    \n",
    "    print(\"Number of documents:\", len(docs))\n",
    "\n",
    "    return docs, document_file_paths"
   ]
  },
  {
   "cell_type": "code",
   "execution_count": 7,
   "metadata": {},
   "outputs": [
    {
     "name": "stdout",
     "output_type": "stream",
     "text": [
      "Number of PDF files: 1\n"
     ]
    },
    {
     "name": "stdout",
     "output_type": "stream",
     "text": [
      "Number of documents: 97\n"
     ]
    }
   ],
   "source": [
    "doc_pages, doc_file_paths =load_docs(directory_path)"
   ]
  },
  {
   "cell_type": "code",
   "execution_count": 64,
   "metadata": {},
   "outputs": [],
   "source": [
    "import matplotlib.pyplot as plt\n",
    "\n",
    "def split_documentsRCTS(docs: List, chunk_size: int = 1000, chunk_overlap: int = 200):\n",
    "    \"\"\"Splits documents into chunks of specified size.\"\"\"\n",
    "    text_splitter = RecursiveCharacterTextSplitter(\n",
    "        chunk_size=chunk_size,\n",
    "        chunk_overlap=chunk_overlap,\n",
    "        separators=[\"\\n\\n\", \"\\n\", \" \", \"\"]\n",
    "    )\n",
    "    chunked_documents = text_splitter.split_documents(docs)\n",
    "    len_chunk = []\n",
    "    for chunk in chunked_documents:\n",
    "        len_chunk.append(len(chunk.page_content))\n",
    "    return chunked_documents, len_chunk\n",
    "\n",
    "def plot_chunks(len_chunk, heading):\n",
    "    plt.figure(figsize=(10, 5))\n",
    "    plt.hist(len_chunk, bins=100)\n",
    "    plt.title(heading)\n",
    "    \n",
    "    # Calculate min and max values of len_chunk\n",
    "    min_len = min(len_chunk)\n",
    "    max_len = max(len_chunk)\n",
    "    \n",
    "    # Define the box properties\n",
    "    box_props = dict(boxstyle='round', facecolor='yellow', alpha=0.5)\n",
    "    \n",
    "    # Add text annotations for min and max values in the top right corner\n",
    "    plt.text(0.95, 0.95, f'Min: {min_len}', transform=plt.gca().transAxes, verticalalignment='top', horizontalalignment='right', color='red', bbox=box_props)\n",
    "    plt.text(0.95, 0.90, f'Max: {max_len}', transform=plt.gca().transAxes, verticalalignment='top', horizontalalignment='right', color='red', bbox=box_props)\n",
    "    \n",
    "    plt.show()"
   ]
  },
  {
   "cell_type": "code",
   "execution_count": 65,
   "metadata": {},
   "outputs": [
    {
     "data": {
      "image/png": "[encoded data removed]",
      "text/plain": [
       "<Figure size 1000x500 with 1 Axes>"
      ]
     },
     "metadata": {},
     "output_type": "display_data"
    }
   ],
   "source": [
    "RCTS_chunked_documents, RCTS_len_chunks = split_documentsRCTS(doc_pages, chunk_size=1000, chunk_overlap=200)\n",
    "plot_chunks(RCTS_len_chunks, \"Chunks created by RecursiveCharacterTextSplitter\")"
   ]
  },
  {
   "cell_type": "markdown",
   "metadata": {},
   "source": [
    "## Chunking and Processing data with UNStRCUCTRED.io"
   ]
  },
  {
   "cell_type": "markdown",
   "metadata": {},
   "source": [
    "- It's able to extract tables, and read within the images in pdf too. \n",
    "- It incorporated the OCR features to achieve this feat. For complex and high quality data preparation `unstrcutured.io` can be used. \n",
    "- Lets see how Unstructured.io extracts infromation from pdfs. "
   ]
  },
  {
   "cell_type": "code",
   "execution_count": 10,
   "metadata": {},
   "outputs": [
    {
     "name": "stdout",
     "output_type": "stream",
     "text": [
      "zsh:1: command not found: pdfminer.six\n"
     ]
    }
   ],
   "source": [
    "!pdfminer.six"
   ]
  },
  {
   "cell_type": "code",
   "execution_count": 11,
   "metadata": {},
   "outputs": [
    {
     "data": {
      "text/plain": [
       "'/Users/wenda/Documents/github/case_study_financialReport/data/docs/alphabet-2023.pdf'"
      ]
     },
     "execution_count": 11,
     "metadata": {},
     "output_type": "execute_result"
    }
   ],
   "source": [
    "doc_file_paths[0]"
   ]
  },
  {
   "cell_type": "code",
   "execution_count": 12,
   "metadata": {},
   "outputs": [],
   "source": [
    "from unstructured.partition.pdf import partition_pdf\n",
    "elements = partition_pdf(doc_file_paths[0])"
   ]
  },
  {
   "cell_type": "code",
   "execution_count": 22,
   "metadata": {},
   "outputs": [
    {
     "name": "stdout",
     "output_type": "stream",
     "text": [
      "Numer of elements formed from the document:  4187\n"
     ]
    }
   ],
   "source": [
    "print(\"Numer of elements formed from the document: \", len(elements))"
   ]
  },
  {
   "cell_type": "code",
   "execution_count": 44,
   "metadata": {},
   "outputs": [
    {
     "data": {
      "text/plain": [
       "{'type': 'ListItem',\n",
       " 'coordinates': ((61.2, 465.85913059999996),\n",
       "  (61.2, 475.85913059999996),\n",
       "  (64.7, 475.85913059999996),\n",
       "  (64.7, 465.85913059999996)),\n",
       " 'coordinate_system': 'PixelSpace',\n",
       " 'layout_width': 612.0,\n",
       " 'layout_height': 792.0,\n",
       " 'element_id': 'e3b0c44298fc1c149afbf4c8996fb924',\n",
       " 'metadata': {'filename': 'alphabet-2023.pdf',\n",
       "  'file_directory': '/Users/wenda/Documents/github/case_study_financialReport/data/docs',\n",
       "  'filetype': 'application/pdf',\n",
       "  'page_number': 4},\n",
       " 'text': ''}"
      ]
     },
     "execution_count": 44,
     "metadata": {},
     "output_type": "execute_result"
    }
   ],
   "source": [
    "elements[100].to_dict()"
   ]
  },
  {
   "cell_type": "code",
   "execution_count": 66,
   "metadata": {},
   "outputs": [
    {
     "data": {
      "image/png": "[encoded data removed]",
      "text/plain": [
       "<Figure size 1000x500 with 1 Axes>"
      ]
     },
     "metadata": {},
     "output_type": "display_data"
    }
   ],
   "source": [
    "chunk_len = []\n",
    "for element in elements:\n",
    "    chunk_len.append(len(str(element)))\n",
    "\n",
    "plot_chunks(chunk_len, \"Chunks created by UNSTRUCTURED.io\")"
   ]
  },
  {
   "cell_type": "markdown",
   "metadata": {},
   "source": [
    "# Embeddings and Vectordb"
   ]
  },
  {
   "cell_type": "code",
   "execution_count": 9,
   "metadata": {},
   "outputs": [
    {
     "name": "stderr",
     "output_type": "stream",
     "text": [
      "/Users/wenda/anaconda3/envs/temus2/lib/python3.12/site-packages/langchain_core/_api/deprecation.py:139: LangChainDeprecationWarning: The class `OpenAIEmbeddings` was deprecated in LangChain 0.0.9 and will be removed in 0.3.0. An updated version of the class exists in the langchain-openai package and should be used instead. To use it run `pip install -U langchain-openai` and import as `from langchain_openai import OpenAIEmbeddings`.\n",
      "  warn_deprecated(\n"
     ]
    },
    {
     "name": "stdout",
     "output_type": "stream",
     "text": [
      "Vector database created successfully!\n"
     ]
    },
    {
     "name": "stderr",
     "output_type": "stream",
     "text": [
      "/Users/wenda/anaconda3/envs/temus2/lib/python3.12/site-packages/langchain_core/_api/deprecation.py:139: LangChainDeprecationWarning: Since Chroma 0.4.x the manual persistence method is no longer supported as docs are automatically persisted.\n",
      "  warn_deprecated(\n"
     ]
    }
   ],
   "source": [
    "# 4. Create Chroma Vector Database:\n",
    "chroma_persist_directory = \"chroma/processed_data\"  # storing Chroma database\n",
    "embeddings = OpenAIEmbeddings()\n",
    "vectordb = Chroma.from_documents(\n",
    "    documents=documents, \n",
    "    embedding=embeddings,\n",
    "    persist_directory=chroma_persist_directory\n",
    ")\n",
    "vectordb.persist()  # Save the database to disk\n",
    "\n",
    "print(\"Vector database created successfully!\")"
   ]
  },
  {
   "cell_type": "markdown",
   "metadata": {},
   "source": []
  }
 ],
 "metadata": {
  "kernelspec": {
   "display_name": "base",
   "language": "python",
   "name": "python3"
  },
  "language_info": {
   "codemirror_mode": {
    "name": "ipython",
    "version": 3
   },
   "file_extension": ".py",
   "mimetype": "text/x-python",
   "name": "python",
   "nbconvert_exporter": "python",
   "pygments_lexer": "ipython3",
   "version": "3.10.11"
  }
 },
 "nbformat": 4,
 "nbformat_minor": 2
}
