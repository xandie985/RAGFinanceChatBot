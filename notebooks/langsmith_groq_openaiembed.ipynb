{
 "cells": [
  {
   "cell_type": "markdown",
   "metadata": {},
   "source": [
    "## Data Ingestion"
   ]
  },
  {
   "cell_type": "code",
   "execution_count": 1,
   "metadata": {},
   "outputs": [
    {
     "name": "stdout",
     "output_type": "stream",
     "text": [
      "\u001b[31mERROR: pip's dependency resolver does not currently take into account all the packages that are installed. This behaviour is the source of the following dependency conflicts.\n",
      "langchain 0.1.20 requires langchain-core<0.2.0,>=0.1.52, but you have langchain-core 0.2.18 which is incompatible.\n",
      "langchain 0.1.20 requires langchain-text-splitters<0.1,>=0.0.1, but you have langchain-text-splitters 0.2.2 which is incompatible.\n",
      "ragatouille 0.0.8.post2 requires langchain_core<0.2.0,>=0.1.4, but you have langchain-core 0.2.18 which is incompatible.\u001b[0m\u001b[31m\n",
      "\u001b[0mRequirement already satisfied: unstructured in /Users/wenda/anaconda3/envs/temus2/lib/python3.12/site-packages (0.14.10)\n",
      "Requirement already satisfied: chardet in /Users/wenda/anaconda3/envs/temus2/lib/python3.12/site-packages (from unstructured) (5.2.0)\n",
      "Requirement already satisfied: filetype in /Users/wenda/anaconda3/envs/temus2/lib/python3.12/site-packages (from unstructured) (1.2.0)\n",
      "Requirement already satisfied: python-magic in /Users/wenda/anaconda3/envs/temus2/lib/python3.12/site-packages (from unstructured) (0.4.27)\n",
      "Requirement already satisfied: lxml in /Users/wenda/anaconda3/envs/temus2/lib/python3.12/site-packages (from unstructured) (5.2.2)\n",
      "Requirement already satisfied: nltk in /Users/wenda/anaconda3/envs/temus2/lib/python3.12/site-packages (from unstructured) (3.8.1)\n",
      "Requirement already satisfied: tabulate in /Users/wenda/anaconda3/envs/temus2/lib/python3.12/site-packages (from unstructured) (0.9.0)\n",
      "Requirement already satisfied: requests in /Users/wenda/anaconda3/envs/temus2/lib/python3.12/site-packages (from unstructured) (2.32.3)\n",
      "Requirement already satisfied: beautifulsoup4 in /Users/wenda/anaconda3/envs/temus2/lib/python3.12/site-packages (from unstructured) (4.12.3)\n",
      "Requirement already satisfied: emoji in /Users/wenda/anaconda3/envs/temus2/lib/python3.12/site-packages (from unstructured) (2.12.1)\n",
      "Requirement already satisfied: dataclasses-json in /Users/wenda/anaconda3/envs/temus2/lib/python3.12/site-packages (from unstructured) (0.6.7)\n",
      "Requirement already satisfied: python-iso639 in /Users/wenda/anaconda3/envs/temus2/lib/python3.12/site-packages (from unstructured) (2024.4.27)\n",
      "Requirement already satisfied: langdetect in /Users/wenda/anaconda3/envs/temus2/lib/python3.12/site-packages (from unstructured) (1.0.9)\n",
      "Requirement already satisfied: numpy<2 in /Users/wenda/anaconda3/envs/temus2/lib/python3.12/site-packages (from unstructured) (1.26.4)\n",
      "Requirement already satisfied: rapidfuzz in /Users/wenda/anaconda3/envs/temus2/lib/python3.12/site-packages (from unstructured) (3.9.4)\n",
      "Requirement already satisfied: backoff in /Users/wenda/anaconda3/envs/temus2/lib/python3.12/site-packages (from unstructured) (2.2.1)\n",
      "Requirement already satisfied: typing-extensions in /Users/wenda/anaconda3/envs/temus2/lib/python3.12/site-packages (from unstructured) (4.12.2)\n",
      "Requirement already satisfied: unstructured-client in /Users/wenda/anaconda3/envs/temus2/lib/python3.12/site-packages (from unstructured) (0.24.1)\n",
      "Requirement already satisfied: wrapt in /Users/wenda/anaconda3/envs/temus2/lib/python3.12/site-packages (from unstructured) (1.16.0)\n",
      "Requirement already satisfied: tqdm in /Users/wenda/anaconda3/envs/temus2/lib/python3.12/site-packages (from unstructured) (4.66.4)\n",
      "Requirement already satisfied: psutil in /Users/wenda/anaconda3/envs/temus2/lib/python3.12/site-packages (from unstructured) (5.9.0)\n",
      "Requirement already satisfied: soupsieve>1.2 in /Users/wenda/anaconda3/envs/temus2/lib/python3.12/site-packages (from beautifulsoup4->unstructured) (2.5)\n",
      "Requirement already satisfied: marshmallow<4.0.0,>=3.18.0 in /Users/wenda/anaconda3/envs/temus2/lib/python3.12/site-packages (from dataclasses-json->unstructured) (3.21.3)\n",
      "Requirement already satisfied: typing-inspect<1,>=0.4.0 in /Users/wenda/anaconda3/envs/temus2/lib/python3.12/site-packages (from dataclasses-json->unstructured) (0.9.0)\n",
      "Requirement already satisfied: six in /Users/wenda/anaconda3/envs/temus2/lib/python3.12/site-packages (from langdetect->unstructured) (1.16.0)\n",
      "Requirement already satisfied: click in /Users/wenda/anaconda3/envs/temus2/lib/python3.12/site-packages (from nltk->unstructured) (8.1.7)\n",
      "Requirement already satisfied: joblib in /Users/wenda/anaconda3/envs/temus2/lib/python3.12/site-packages (from nltk->unstructured) (1.4.2)\n",
      "Requirement already satisfied: regex>=2021.8.3 in /Users/wenda/anaconda3/envs/temus2/lib/python3.12/site-packages (from nltk->unstructured) (2024.5.15)\n",
      "Requirement already satisfied: charset-normalizer<4,>=2 in /Users/wenda/anaconda3/envs/temus2/lib/python3.12/site-packages (from requests->unstructured) (3.3.2)\n",
      "Requirement already satisfied: idna<4,>=2.5 in /Users/wenda/anaconda3/envs/temus2/lib/python3.12/site-packages (from requests->unstructured) (3.7)\n",
      "Requirement already satisfied: urllib3<3,>=1.21.1 in /Users/wenda/anaconda3/envs/temus2/lib/python3.12/site-packages (from requests->unstructured) (2.2.2)\n",
      "Requirement already satisfied: certifi>=2017.4.17 in /Users/wenda/anaconda3/envs/temus2/lib/python3.12/site-packages (from requests->unstructured) (2024.7.4)\n",
      "Requirement already satisfied: deepdiff>=6.0 in /Users/wenda/anaconda3/envs/temus2/lib/python3.12/site-packages (from unstructured-client->unstructured) (7.0.1)\n",
      "Requirement already satisfied: httpx>=0.27.0 in /Users/wenda/anaconda3/envs/temus2/lib/python3.12/site-packages (from unstructured-client->unstructured) (0.27.0)\n",
      "Requirement already satisfied: jsonpath-python>=1.0.6 in /Users/wenda/anaconda3/envs/temus2/lib/python3.12/site-packages (from unstructured-client->unstructured) (1.0.6)\n",
      "Requirement already satisfied: mypy-extensions>=1.0.0 in /Users/wenda/anaconda3/envs/temus2/lib/python3.12/site-packages (from unstructured-client->unstructured) (1.0.0)\n",
      "Requirement already satisfied: nest-asyncio>=1.6.0 in /Users/wenda/anaconda3/envs/temus2/lib/python3.12/site-packages (from unstructured-client->unstructured) (1.6.0)\n",
      "Requirement already satisfied: packaging>=23.1 in /Users/wenda/anaconda3/envs/temus2/lib/python3.12/site-packages (from unstructured-client->unstructured) (23.2)\n",
      "Requirement already satisfied: pypdf>=4.0 in /Users/wenda/anaconda3/envs/temus2/lib/python3.12/site-packages (from unstructured-client->unstructured) (4.2.0)\n",
      "Requirement already satisfied: python-dateutil>=2.8.2 in /Users/wenda/anaconda3/envs/temus2/lib/python3.12/site-packages (from unstructured-client->unstructured) (2.9.0)\n",
      "Requirement already satisfied: requests-toolbelt>=1.0.0 in /Users/wenda/anaconda3/envs/temus2/lib/python3.12/site-packages (from unstructured-client->unstructured) (1.0.0)\n",
      "Requirement already satisfied: ordered-set<4.2.0,>=4.1.0 in /Users/wenda/anaconda3/envs/temus2/lib/python3.12/site-packages (from deepdiff>=6.0->unstructured-client->unstructured) (4.1.0)\n",
      "Requirement already satisfied: anyio in /Users/wenda/anaconda3/envs/temus2/lib/python3.12/site-packages (from httpx>=0.27.0->unstructured-client->unstructured) (4.4.0)\n",
      "Requirement already satisfied: httpcore==1.* in /Users/wenda/anaconda3/envs/temus2/lib/python3.12/site-packages (from httpx>=0.27.0->unstructured-client->unstructured) (1.0.5)\n",
      "Requirement already satisfied: sniffio in /Users/wenda/anaconda3/envs/temus2/lib/python3.12/site-packages (from httpx>=0.27.0->unstructured-client->unstructured) (1.3.1)\n",
      "Requirement already satisfied: h11<0.15,>=0.13 in /Users/wenda/anaconda3/envs/temus2/lib/python3.12/site-packages (from httpcore==1.*->httpx>=0.27.0->unstructured-client->unstructured) (0.14.0)\n",
      "Requirement already satisfied: pdfminer.six in /Users/wenda/anaconda3/envs/temus2/lib/python3.12/site-packages (20240706)\n",
      "Requirement already satisfied: charset-normalizer>=2.0.0 in /Users/wenda/anaconda3/envs/temus2/lib/python3.12/site-packages (from pdfminer.six) (3.3.2)\n",
      "Requirement already satisfied: cryptography>=36.0.0 in /Users/wenda/anaconda3/envs/temus2/lib/python3.12/site-packages (from pdfminer.six) (42.0.8)\n",
      "Requirement already satisfied: cffi>=1.12 in /Users/wenda/anaconda3/envs/temus2/lib/python3.12/site-packages (from cryptography>=36.0.0->pdfminer.six) (1.16.0)\n",
      "Requirement already satisfied: pycparser in /Users/wenda/anaconda3/envs/temus2/lib/python3.12/site-packages (from cffi>=1.12->cryptography>=36.0.0->pdfminer.six) (2.22)\n",
      "Collecting pillow-heif\n",
      "  Using cached pillow_heif-0.17.0.tar.gz (14.9 MB)\n",
      "  Installing build dependencies ... \u001b[?25ldone\n",
      "\u001b[?25h  Getting requirements to build wheel ... \u001b[?25ldone\n",
      "\u001b[?25h  Preparing metadata (pyproject.toml) ... \u001b[?25ldone\n",
      "\u001b[?25hRequirement already satisfied: pillow>=10.1.0 in /Users/wenda/anaconda3/envs/temus2/lib/python3.12/site-packages (from pillow-heif) (10.4.0)\n",
      "Building wheels for collected packages: pillow-heif\n",
      "  Building wheel for pillow-heif (pyproject.toml) ... \u001b[?25lerror\n",
      "  \u001b[1;31merror\u001b[0m: \u001b[1msubprocess-exited-with-error\u001b[0m\n",
      "  \n",
      "  \u001b[31m×\u001b[0m \u001b[32mBuilding wheel for pillow-heif \u001b[0m\u001b[1;32m(\u001b[0m\u001b[32mpyproject.toml\u001b[0m\u001b[1;32m)\u001b[0m did not run successfully.\n",
      "  \u001b[31m│\u001b[0m exit code: \u001b[1;36m1\u001b[0m\n",
      "  \u001b[31m╰─>\u001b[0m \u001b[31m[62 lines of output]\u001b[0m\n",
      "  \u001b[31m   \u001b[0m running bdist_wheel\n",
      "  \u001b[31m   \u001b[0m running build\n",
      "  \u001b[31m   \u001b[0m running build_py\n",
      "  \u001b[31m   \u001b[0m creating build\n",
      "  \u001b[31m   \u001b[0m creating build/lib.macosx-11.1-arm64-cpython-312\n",
      "  \u001b[31m   \u001b[0m creating build/lib.macosx-11.1-arm64-cpython-312/pillow_heif\n",
      "  \u001b[31m   \u001b[0m copying pillow_heif/AvifImagePlugin.py -> build/lib.macosx-11.1-arm64-cpython-312/pillow_heif\n",
      "  \u001b[31m   \u001b[0m copying pillow_heif/options.py -> build/lib.macosx-11.1-arm64-cpython-312/pillow_heif\n",
      "  \u001b[31m   \u001b[0m copying pillow_heif/misc.py -> build/lib.macosx-11.1-arm64-cpython-312/pillow_heif\n",
      "  \u001b[31m   \u001b[0m copying pillow_heif/_version.py -> build/lib.macosx-11.1-arm64-cpython-312/pillow_heif\n",
      "  \u001b[31m   \u001b[0m copying pillow_heif/constants.py -> build/lib.macosx-11.1-arm64-cpython-312/pillow_heif\n",
      "  \u001b[31m   \u001b[0m copying pillow_heif/__init__.py -> build/lib.macosx-11.1-arm64-cpython-312/pillow_heif\n",
      "  \u001b[31m   \u001b[0m copying pillow_heif/_lib_info.py -> build/lib.macosx-11.1-arm64-cpython-312/pillow_heif\n",
      "  \u001b[31m   \u001b[0m copying pillow_heif/_deffered_error.py -> build/lib.macosx-11.1-arm64-cpython-312/pillow_heif\n",
      "  \u001b[31m   \u001b[0m copying pillow_heif/heif.py -> build/lib.macosx-11.1-arm64-cpython-312/pillow_heif\n",
      "  \u001b[31m   \u001b[0m copying pillow_heif/as_plugin.py -> build/lib.macosx-11.1-arm64-cpython-312/pillow_heif\n",
      "  \u001b[31m   \u001b[0m copying pillow_heif/HeifImagePlugin.py -> build/lib.macosx-11.1-arm64-cpython-312/pillow_heif\n",
      "  \u001b[31m   \u001b[0m running build_ext\n",
      "  \u001b[31m   \u001b[0m Checking for include file 'heif.h' in '/Users/wenda/anaconda3/envs/temus2/include'\n",
      "  \u001b[31m   \u001b[0m Checking for include file 'heif.h' in '/Users/wenda/anaconda3/envs/temus2/include/libheif'\n",
      "  \u001b[31m   \u001b[0m Checking for include file 'heif.h' in '/opt/homebrew/include'\n",
      "  \u001b[31m   \u001b[0m Checking for include file 'heif.h' in '/opt/homebrew/include/libheif'\n",
      "  \u001b[31m   \u001b[0m Checking for include file 'heif.h' in '/Library/Developer/CommandLineTools/SDKs/MacOSX14.0.sdk/usr/include'\n",
      "  \u001b[31m   \u001b[0m Checking for include file 'heif.h' in '/Library/Developer/CommandLineTools/SDKs/MacOSX14.0.sdk/usr/include/libheif'\n",
      "  \u001b[31m   \u001b[0m Checking for include file 'heif.h' in '/Users/wenda/anaconda3/envs/temus2/include/python3.12'\n",
      "  \u001b[31m   \u001b[0m Checking for include file 'heif.h' in '/Users/wenda/anaconda3/envs/temus2/include/python3.12/libheif'\n",
      "  \u001b[31m   \u001b[0m \n",
      "  \u001b[31m   \u001b[0m \n",
      "  \u001b[31m   \u001b[0m The headers or library files could not be found for libheif,\n",
      "  \u001b[31m   \u001b[0m a required dependency when compiling Pillow-Heif from source.\n",
      "  \u001b[31m   \u001b[0m \n",
      "  \u001b[31m   \u001b[0m Please see the install instructions at:\n",
      "  \u001b[31m   \u001b[0m    https://pillow-heif.readthedocs.io/en/latest/installation.html\n",
      "  \u001b[31m   \u001b[0m \n",
      "  \u001b[31m   \u001b[0m Traceback (most recent call last):\n",
      "  \u001b[31m   \u001b[0m   File \"/Users/wenda/anaconda3/envs/temus2/lib/python3.12/site-packages/pip/_vendor/pyproject_hooks/_in_process/_in_process.py\", line 353, in <module>\n",
      "  \u001b[31m   \u001b[0m     main()\n",
      "  \u001b[31m   \u001b[0m   File \"/Users/wenda/anaconda3/envs/temus2/lib/python3.12/site-packages/pip/_vendor/pyproject_hooks/_in_process/_in_process.py\", line 335, in main\n",
      "  \u001b[31m   \u001b[0m     json_out['return_val'] = hook(**hook_input['kwargs'])\n",
      "  \u001b[31m   \u001b[0m                              ^^^^^^^^^^^^^^^^^^^^^^^^^^^^\n",
      "  \u001b[31m   \u001b[0m   File \"/Users/wenda/anaconda3/envs/temus2/lib/python3.12/site-packages/pip/_vendor/pyproject_hooks/_in_process/_in_process.py\", line 251, in build_wheel\n",
      "  \u001b[31m   \u001b[0m     return _build_backend().build_wheel(wheel_directory, config_settings,\n",
      "  \u001b[31m   \u001b[0m            ^^^^^^^^^^^^^^^^^^^^^^^^^^^^^^^^^^^^^^^^^^^^^^^^^^^^^^^^^^^^^^\n",
      "  \u001b[31m   \u001b[0m   File \"/private/var/folders/9z/1zsbrjl17xj_76sy78736hmr0000gn/T/pip-build-env-q_f4mixi/overlay/lib/python3.12/site-packages/setuptools/build_meta.py\", line 415, in build_wheel\n",
      "  \u001b[31m   \u001b[0m     return self._build_with_temp_dir(\n",
      "  \u001b[31m   \u001b[0m            ^^^^^^^^^^^^^^^^^^^^^^^^^^\n",
      "  \u001b[31m   \u001b[0m   File \"/private/var/folders/9z/1zsbrjl17xj_76sy78736hmr0000gn/T/pip-build-env-q_f4mixi/overlay/lib/python3.12/site-packages/setuptools/build_meta.py\", line 397, in _build_with_temp_dir\n",
      "  \u001b[31m   \u001b[0m     self.run_setup()\n",
      "  \u001b[31m   \u001b[0m   File \"/private/var/folders/9z/1zsbrjl17xj_76sy78736hmr0000gn/T/pip-build-env-q_f4mixi/overlay/lib/python3.12/site-packages/setuptools/build_meta.py\", line 497, in run_setup\n",
      "  \u001b[31m   \u001b[0m     super().run_setup(setup_script=setup_script)\n",
      "  \u001b[31m   \u001b[0m   File \"/private/var/folders/9z/1zsbrjl17xj_76sy78736hmr0000gn/T/pip-build-env-q_f4mixi/overlay/lib/python3.12/site-packages/setuptools/build_meta.py\", line 313, in run_setup\n",
      "  \u001b[31m   \u001b[0m     exec(code, locals())\n",
      "  \u001b[31m   \u001b[0m   File \"<string>\", line 288, in <module>\n",
      "  \u001b[31m   \u001b[0m RequiredDependencyException:\n",
      "  \u001b[31m   \u001b[0m \n",
      "  \u001b[31m   \u001b[0m The headers or library files could not be found for libheif,\n",
      "  \u001b[31m   \u001b[0m a required dependency when compiling Pillow-Heif from source.\n",
      "  \u001b[31m   \u001b[0m \n",
      "  \u001b[31m   \u001b[0m Please see the install instructions at:\n",
      "  \u001b[31m   \u001b[0m    https://pillow-heif.readthedocs.io/en/latest/installation.html\n",
      "  \u001b[31m   \u001b[0m \n",
      "  \u001b[31m   \u001b[0m \n",
      "  \u001b[31m   \u001b[0m \u001b[31m[end of output]\u001b[0m\n",
      "  \n",
      "  \u001b[1;35mnote\u001b[0m: This error originates from a subprocess, and is likely not a problem with pip.\n",
      "\u001b[?25h\u001b[31m  ERROR: Failed building wheel for pillow-heif\u001b[0m\u001b[31m\n",
      "\u001b[0mFailed to build pillow-heif\n",
      "\u001b[31mERROR: Could not build wheels for pillow-heif, which is required to install pyproject.toml-based projects\u001b[0m\u001b[31m\n",
      "\u001b[0m"
     ]
    }
   ],
   "source": [
    "!pip install -qU langchain-text-splitters\n",
    "!pip install unstructured\n",
    "!pip install pdfminer.six\n",
    "!python3 -m pip install pillow-heif"
   ]
  },
  {
   "cell_type": "code",
   "execution_count": 2,
   "metadata": {},
   "outputs": [],
   "source": [
    "import os\n",
    "from typing import List\n",
    "from langchain.document_loaders import PyPDFLoader\n",
    "from langchain_text_splitters import RecursiveCharacterTextSplitter\n",
    "from langchain.vectorstores import Chroma\n",
    "from langchain.embeddings import OpenAIEmbeddings\n",
    "\n",
    "from pyprojroot import here\n",
    "import warnings; warnings.filterwarnings(\"ignore\")\n",
    "import time\n",
    "\n",
    "%load_ext autoreload\n",
    "%autoreload 2"
   ]
  },
  {
   "cell_type": "code",
   "execution_count": 3,
   "metadata": {},
   "outputs": [
    {
     "data": {
      "text/plain": [
       "True"
      ]
     },
     "execution_count": 3,
     "metadata": {},
     "output_type": "execute_result"
    }
   ],
   "source": [
    "from dotenv import load_dotenv\n",
    "load_dotenv(dotenv_path=here(\".env\"))"
   ]
  },
  {
   "cell_type": "code",
   "execution_count": 4,
   "metadata": {},
   "outputs": [],
   "source": [
    "api_key = os.getenv(\"OPENAI_API_KEY\")\n",
    "if api_key is None:\n",
    "    raise ValueError(\"The OPENAI_API_KEY environment variable is not set.\")\n",
    "os.environ[\"OPENAI_API_KEY\"] = api_key"
   ]
  },
  {
   "cell_type": "markdown",
   "metadata": {},
   "source": [
    "Setting Prompts for LLM"
   ]
  },
  {
   "cell_type": "code",
   "execution_count": 21,
   "metadata": {},
   "outputs": [],
   "source": [
    "system_prompt = \"\"\"You are the The Best Financial Research Analyst. \\\n",
    "    You are expert in analyzing financial statements, forecasting financial performance, \\\n",
    "    valuing the company, assessing investment opportunities and preparing research reports. \\\n",
    "    You will recieve a chat history, retrieved content from the vectorDB based on the user's question, and the source.\\ \n",
    "    Your task is to respond to the user's question using the information \\\n",
    "    from the vectorDB and Chat history, without relying on your own knowledge. \\\n",
    "    Your output should contain only your response, and if you can't find relevant context say that you don't know. \\\n",
    "    You will receive a input prompt enclosed in triple backtics:\n",
    "\n",
    "    # Retrieved content number:\\n\n",
    "    Content\\n\\n\n",
    "    Source\\n\\n\n",
    "\n",
    "    # User question:\\n\n",
    "    New question: \n",
    "    \"\"\"\n",
    "# order of difficulty\n",
    "message = \"Who is the CEO of Alphabet Inc?\"\n",
    "message1 = \"What is the Commission file number on Alphabet's report?\" #001-37580 \n",
    "message2 = \"What was the balance at Beginning at Year December 31, 2021 for Alphabet?\" #USD 1,344 | pg 91\n",
    "message4 = \"What was the Total Fees Billed by the Independent Registered Public Accounting Firm in Fiscal 2023 for NVIDIA?\" # [NVIDIA: USD 8,308,800 |pg 68]\n",
    "message3 = \"What was the balance at End at Year December 31, 2021 for Alphabet and by what margin did the Revenue increased $13.6 billion for Microsoft in 2023 compare to fiscal 2022?\" #[GOOGL: USD 1,389 | pg 91] [MSFT: 7% | pg31]"
   ]
  },
  {
   "cell_type": "code",
   "execution_count": 42,
   "metadata": {},
   "outputs": [],
   "source": [
    "# settings for models and other config\n",
    "\n",
    "llm_model=\"gpt-3.5-turbo\"\n",
    "temperature = 0.2\n",
    "embeddings = OpenAIEmbeddings()"
   ]
  },
  {
   "cell_type": "markdown",
   "metadata": {},
   "source": [
    "# Setting up Directory Paths, Loading and processing docs"
   ]
  },
  {
   "cell_type": "code",
   "execution_count": 23,
   "metadata": {},
   "outputs": [],
   "source": [
    "\n",
    "# Replace these with your actual paths\n",
    "directory_path = here(\"data/docs\")"
   ]
  },
  {
   "cell_type": "code",
   "execution_count": 24,
   "metadata": {},
   "outputs": [],
   "source": [
    "def load_docs(directory_path):\n",
    "    \"\"\"Loads all PDF files from the directory and splits them into chunks.\"\"\"\n",
    "    pdf_files = [f for f in os.listdir(directory_path) if f.endswith(\".pdf\")]\n",
    "    print(\"Number of PDF files:\", len(pdf_files))\n",
    "    \n",
    "    docs = []\n",
    "    document_file_paths = []  # Initialize the list to store file paths\n",
    "    \n",
    "    for pdf_file in pdf_files:\n",
    "        file_path = os.path.join(directory_path, pdf_file)\n",
    "        loader = PyPDFLoader(file_path)\n",
    "        docs.extend(loader.load())\n",
    "        document_file_paths.append(file_path)  # Add the file path to the list\n",
    "    \n",
    "    print(\"Number of documents:\", len(docs))\n",
    "\n",
    "    return docs, document_file_paths"
   ]
  },
  {
   "cell_type": "code",
   "execution_count": 18,
   "metadata": {},
   "outputs": [
    {
     "name": "stdout",
     "output_type": "stream",
     "text": [
      "Number of PDF files: 3\n",
      "Number of documents: 351\n"
     ]
    }
   ],
   "source": [
    "doc_pages, doc_file_paths =load_docs(directory_path)"
   ]
  },
  {
   "cell_type": "code",
   "execution_count": 44,
   "metadata": {},
   "outputs": [],
   "source": [
    "import matplotlib.pyplot as plt\n",
    "\n",
    "def split_documentsRCTS(docs: List, chunk_size: int = 1000, chunk_overlap: int = 200):\n",
    "    \"\"\"Splits documents into chunks of specified size.\"\"\"\n",
    "    text_splitter = RecursiveCharacterTextSplitter(\n",
    "        chunk_size=chunk_size,\n",
    "        chunk_overlap=chunk_overlap,\n",
    "        separators=[\"\\n\\n\", \"\\n\", \" \", \"\"]\n",
    "    )\n",
    "    chunked_documents = text_splitter.split_documents(docs)\n",
    "    len_chunk = []\n",
    "    for chunk in chunked_documents:\n",
    "        len_chunk.append(len(chunk.page_content))\n",
    "    return chunked_documents, len_chunk\n",
    "\n",
    "def plot_chunks(len_chunk, heading):\n",
    "    plt.figure(figsize=(10, 5))\n",
    "    plt.hist(len_chunk, bins=100)\n",
    "    plt.title(heading)\n",
    "    \n",
    "    # Calculate min and max values of len_chunk\n",
    "    min_len = min(len_chunk)\n",
    "    max_len = max(len_chunk)\n",
    "    \n",
    "    # Define the box properties\n",
    "    box_props = dict(boxstyle='round', facecolor='yellow', alpha=0.5)\n",
    "    \n",
    "    # Add text annotations for min and max values in the top right corner\n",
    "    plt.text(0.95, 0.95, f'Min: {min_len}', transform=plt.gca().transAxes, verticalalignment='top', horizontalalignment='right', color='red', bbox=box_props)\n",
    "    plt.text(0.95, 0.90, f'Max: {max_len}', transform=plt.gca().transAxes, verticalalignment='top', horizontalalignment='right', color='red', bbox=box_props)\n",
    "    \n",
    "    plt.show()"
   ]
  },
  {
   "cell_type": "code",
   "execution_count": 45,
   "metadata": {},
   "outputs": [
    {
     "data": {
      "image/png": "[encoded data removed]",
      "text/plain": [
       "<Figure size 1000x500 with 1 Axes>"
      ]
     },
     "metadata": {},
     "output_type": "display_data"
    }
   ],
   "source": [
    "RCTS_chunked_documents, RCTS_len_chunks = split_documentsRCTS(doc_pages, chunk_size=1000, chunk_overlap=200)\n",
    "plot_chunks(RCTS_len_chunks, \"Chunks created by RecursiveCharacterTextSplitter\")"
   ]
  },
  {
   "cell_type": "markdown",
   "metadata": {},
   "source": [
    "## Chunking and Processing data with UNStRCUCTRED.io"
   ]
  },
  {
   "cell_type": "markdown",
   "metadata": {},
   "source": [
    "- It's able to extract tables, and read within the images in pdf too. \n",
    "- It incorporated the OCR features to achieve this feat. For complex and high quality data preparation `unstrcutured.io` can be used. \n",
    "- Lets see how Unstructured.io extracts infromation from pdfs. "
   ]
  },
  {
   "cell_type": "code",
   "execution_count": 10,
   "metadata": {},
   "outputs": [
    {
     "name": "stdout",
     "output_type": "stream",
     "text": [
      "zsh:1: command not found: pdfminer.six\n"
     ]
    }
   ],
   "source": [
    "!pdfminer.six"
   ]
  },
  {
   "cell_type": "code",
   "execution_count": 11,
   "metadata": {},
   "outputs": [
    {
     "data": {
      "text/plain": [
       "'/Users/wenda/Documents/github/case_study_financialReport/data/docs/alphabet-2023.pdf'"
      ]
     },
     "execution_count": 11,
     "metadata": {},
     "output_type": "execute_result"
    }
   ],
   "source": [
    "doc_file_paths[0]"
   ]
  },
  {
   "cell_type": "code",
   "execution_count": 12,
   "metadata": {},
   "outputs": [],
   "source": [
    "from unstructured.partition.pdf import partition_pdf\n",
    "elements = partition_pdf(doc_file_paths[0])"
   ]
  },
  {
   "cell_type": "code",
   "execution_count": 22,
   "metadata": {},
   "outputs": [
    {
     "name": "stdout",
     "output_type": "stream",
     "text": [
      "Numer of elements formed from the document:  4187\n"
     ]
    }
   ],
   "source": [
    "print(\"Numer of elements formed from the document: \", len(elements))"
   ]
  },
  {
   "cell_type": "code",
   "execution_count": 44,
   "metadata": {},
   "outputs": [
    {
     "data": {
      "text/plain": [
       "{'type': 'ListItem',\n",
       " 'coordinates': ((61.2, 465.85913059999996),\n",
       "  (61.2, 475.85913059999996),\n",
       "  (64.7, 475.85913059999996),\n",
       "  (64.7, 465.85913059999996)),\n",
       " 'coordinate_system': 'PixelSpace',\n",
       " 'layout_width': 612.0,\n",
       " 'layout_height': 792.0,\n",
       " 'element_id': 'e3b0c44298fc1c149afbf4c8996fb924',\n",
       " 'metadata': {'filename': 'alphabet-2023.pdf',\n",
       "  'file_directory': '/Users/wenda/Documents/github/case_study_financialReport/data/docs',\n",
       "  'filetype': 'application/pdf',\n",
       "  'page_number': 4},\n",
       " 'text': ''}"
      ]
     },
     "execution_count": 44,
     "metadata": {},
     "output_type": "execute_result"
    }
   ],
   "source": [
    "elements[100].to_dict()"
   ]
  },
  {
   "cell_type": "code",
   "execution_count": 66,
   "metadata": {},
   "outputs": [
    {
     "data": {
      "image/png": "[encoded data removed]",
      "text/plain": [
       "<Figure size 1000x500 with 1 Axes>"
      ]
     },
     "metadata": {},
     "output_type": "display_data"
    }
   ],
   "source": [
    "chunk_len = []\n",
    "for element in elements:\n",
    "    chunk_len.append(len(str(element)))\n",
    "\n",
    "plot_chunks(chunk_len, \"Chunks created by UNSTRUCTURED.io\")"
   ]
  },
  {
   "cell_type": "markdown",
   "metadata": {},
   "source": [
    "# Embeddings and Vectordb"
   ]
  },
  {
   "cell_type": "code",
   "execution_count": 54,
   "metadata": {},
   "outputs": [
    {
     "name": "stdout",
     "output_type": "stream",
     "text": [
      "Creating new Chroma database...\n",
      "Vector database loaded successfully!\n"
     ]
    }
   ],
   "source": [
    "import shutil\n",
    "\n",
    "chroma_persist_directory = \"processed_data\"\n",
    "db_path = os.path.join(chroma_persist_directory)\n",
    "\n",
    "# Create or load Chroma Vector Database, checking is location is empty\n",
    "if os.path.exists(db_path) and not os.listdir(db_path): \n",
    "    print(\"Creating new Chroma database...\")\n",
    "    vectordb = Chroma.from_documents(\n",
    "            documents=RCTS_chunked_documents,\n",
    "            embedding=embeddings,\n",
    "            persist_directory=chroma_persist_directory\n",
    "        )\n",
    "    vectordb.persist()\n",
    "else:\n",
    "    print(\"Loading existing Chroma database...\")\n",
    "    vectordb = Chroma(persist_directory=chroma_persist_directory)\n",
    "    \n",
    "\n",
    "print(\"Vector database loaded successfully!\")"
   ]
  },
  {
   "cell_type": "code",
   "execution_count": 55,
   "metadata": {},
   "outputs": [],
   "source": [
    "import re\n",
    "def retrieve_merge_docs(message,vectordb, k=5):\n",
    "    \"\"\"\n",
    "    Retrieves similar documents from a vector database, merges them into a single string, and removes extra spaces and newlines.\n",
    "\n",
    "    Args:\n",
    "        message (str): The query to search for.\n",
    "        vectordb (Chroma): The Chroma vector database instance.\n",
    "        k (int, optional): The number of documents to retrieve. Defaults to 5.\n",
    "\n",
    "    Returns:\n",
    "        str: The merged and cleaned document text.\n",
    "    \"\"\"\n",
    "    docs = vectordb.similarity_search(message, k)\n",
    "\n",
    "    # Printing document metadata (for debugging/understanding)\n",
    "    print(type(docs[1].page_content))\n",
    "    print(docs[1].page_content)\n",
    "    print(type(docs[1].metadata))\n",
    "    print(docs[1].metadata)\n",
    "    \n",
    "\n",
    "    merged_docs = \" \".join([doc.page_content for doc in docs]).strip()\n",
    "    merged_docs = re.sub(r'\\s+', ' ', merged_docs)  # Remove extra spaces\n",
    "    return merged_docs, docs"
   ]
  },
  {
   "cell_type": "markdown",
   "metadata": {},
   "source": [
    "testing retrieval with message4"
   ]
  },
  {
   "cell_type": "code",
   "execution_count": 56,
   "metadata": {},
   "outputs": [
    {
     "name": "stdout",
     "output_type": "stream",
     "text": [
      "<class 'dict'>\n",
      "{'page': 86, 'source': '/Users/wenda/Downloads/RAGFinanceChatBot-main/data/docs/nvidia-2023.pdf'}\n",
      "<class 'str'>\n",
      "Fees Billed by the Independent Registered Public Accounting Firm \n",
      "The following is a summary of fees billed by PwC for Fiscal 2023 and 2022 for audit, tax and other professional services \n",
      "during each fiscal year: \n",
      "Fiscal 2023 Fiscal 2022\n",
      "Audit Fees (1)\n",
      "$ 6,858,279 $ 6,762,002 \n",
      "Audit Related Fees (2)\n",
      " 243,400  491,100 \n",
      "Tax Fees (3)\n",
      " 1,189,263  708,680 \n",
      "All Other Fees (4)\n",
      " 17,858  12,900 \n",
      "Total Fees$ 8,308,800 $ 7,974,682 \n",
      "(1)For the audit of our consolidated financial statements, including business combination activities during the year, the audit of our internal control over \n",
      "financial reporting, review of our quarterly financial statements and annual reports, review of SEC registration statements and related consents, review \n",
      "of SEC filings for public debt financing and related comfort letters, and fees related to statutory audits of some of our international entities.\n",
      "Report of Independent Registered Public Accounting Firm To the Board of Directors and Shareholders of NVIDIA Corporation Opinions on the Financial Statements and Internal Control over Financial Reporting We have audited the accompanying consolidated balance sheets of NVIDIA Corporation and its subsidiaries (the “Company”) as of January 29, 2023 and January 30, 2022, and the related consolidated statements of income, comprehensive income, shareholders' equity and cash flows for each of the three years in the period ended January 29, 2023, including the related notes and financial statement schedule listed in the index appearing under Item 15(a)(2) (collectively referred to as the “consolidated financial statements”). We also have audited the Company's internal control over financial reporting as of January 29, 2023, based on criteria established in Internal Control - Integrated Framewor k (2013) issued by the Committee of Sponsoring Organizations of the Treadway Commission (COSO). Fees Billed by the Independent Registered Public Accounting Firm The following is a summary of fees billed by PwC for Fiscal 2023 and 2022 for audit, tax and other professional services during each fiscal year: Fiscal 2023 Fiscal 2022 Audit Fees (1) $ 6,858,279 $ 6,762,002 Audit Related Fees (2) 243,400 491,100 Tax Fees (3) 1,189,263 708,680 All Other Fees (4) 17,858 12,900 Total Fees$ 8,308,800 $ 7,974,682 (1)For the audit of our consolidated financial statements, including business combination activities during the year, the audit of our internal control over financial reporting, review of our quarterly financial statements and annual reports, review of SEC registration statements and related consents, review of SEC filings for public debt financing and related comfort letters, and fees related to statutory audits of some of our international entities. Gross margin for fiscal year 2023 declined from a year ago, driven by $2.17 billion of inventory charges largely relating to excess supply of NVIDIA Ampere architecture Gaming and Data Center products as compared to the demand expectations for these products, particularly for the expected demand in China. The inventory charges were comprised of $1.04 billion for inventory on hand and $1.13 billion for inventory purchase obligations in excess of our demand expectations. Operating expenses, which included a $1.35 billion acquisition termination charge related to the Arm transaction, were up 50% from a year ago. The increase also reflected compensation, data center infrastructure, and engineering development costs. Cash, cash equivalents and marketable securities were $13.30 billion. During fiscal year 2023, we returned $10.44 billion to shareholders in the form of share repurchases and cash dividends. accounting policies followed by NVIDIA prior to the issuance of the financial statements with both management and the independent registered public accounting firm. Management is responsible for the financial reporting process, the preparation of consolidated financial statements in accordance with accounting principles generally accepted in the United States, or GAAP, the system of internal control over financial reporting, and the procedures designed to facilitate compliance with accounting standards and applicable laws and regulations. PricewaterhouseCoopers LLP, or PwC, our independent registered public accounting firm for Fiscal 2023, was responsible for performing an independent audit of the consolidated financial statements and issuing a report on the consolidated financial statements and of the effectiveness of our internal control over financial reporting as of concerning independence. The AC also considered whether the provision of certain permitted non-audit services by PwC is compatible with PwC’s independence and discussed PwC’s independence with PwC. Based on the AC’s review and discussions, the AC recommended to the Board of Directors that the audited consolidated financial statements be included in the Annual Report on Form 10-K of NVIDIA for the fiscal year ended January 29, 2023. Audit Committee Michael G. McCaffery, Mark L. Perry, A. Brooke Seawell, Aarti Shah and Mark A. Stevens 69\n"
     ]
    }
   ],
   "source": [
    "# Example Usage (assuming you have a 'vectordb' instance):\n",
    "docs_str, _ = retrieve_merge_docs(message4,vectordb, 5)\n",
    "print(docs_str)"
   ]
  },
  {
   "cell_type": "markdown",
   "metadata": {},
   "source": [
    "Testing LLM outputs "
   ]
  },
  {
   "cell_type": "code",
   "execution_count": 57,
   "metadata": {},
   "outputs": [
    {
     "name": "stdout",
     "output_type": "stream",
     "text": [
      "For the Question:  What was the Total Fees Billed by the Independent Registered Public Accounting Firm in Fiscal 2023 for NVIDIA?\n"
     ]
    }
   ],
   "source": [
    "print(\"For the Question: \", message4)"
   ]
  },
  {
   "cell_type": "code",
   "execution_count": 124,
   "metadata": {},
   "outputs": [
    {
     "name": "stdout",
     "output_type": "stream",
     "text": [
      "Running gpt-3.5-turbo...\n",
      "New question: \n",
      "\n",
      "I'm sorry, but I couldn't find the information regarding the total fees billed by the Independent Registered Public Accounting Firm in Fiscal 2023 for NVIDIA in the retrieved content provided.\n"
     ]
    }
   ],
   "source": [
    "from openai import OpenAI\n",
    "\n",
    "client = OpenAI()\n",
    "response = client.chat.completions.create(model=llm_model,\n",
    "                                        messages=[\n",
    "                                            {\"role\": \"system\", \"content\": system_prompt},\n",
    "                                            {\"role\": \"user\", \"content\": \"Retrived Content: \"+docs_str+\"\\nUser Question:\"+message4}\n",
    "                                            ],\n",
    "                                            temperature=temperature)\n",
    "print(f\"Running {llm_model}...\")\n",
    "print(response.choices[0].message.content)"
   ]
  },
  {
   "cell_type": "markdown",
   "metadata": {},
   "source": [
    "#### Testing Reranking"
   ]
  },
  {
   "cell_type": "code",
   "execution_count": 13,
   "metadata": {},
   "outputs": [],
   "source": [
    "!pip install --quiet transformers torch"
   ]
  },
  {
   "cell_type": "code",
   "execution_count": 14,
   "metadata": {},
   "outputs": [],
   "source": [
    "from transformers import AutoTokenizer, AutoModel\n",
    "\n",
    "# Load the tokenizer and the model\n",
    "tokenizer = AutoTokenizer.from_pretrained(\"colbert-ir/colbertv2.0\")\n",
    "model = AutoModel.from_pretrained(\"colbert-ir/colbertv2.0\")"
   ]
  },
  {
   "cell_type": "code",
   "execution_count": 131,
   "metadata": {},
   "outputs": [
    {
     "name": "stdout",
     "output_type": "stream",
     "text": [
      "<class 'dict'>\n",
      "{'page': 132, 'source': '/Users/wenda/Downloads/RAGFinanceChatBot-main/data/docs/nvidia-2023.pdf'}\n",
      "<class 'str'>\n",
      "Report of Independent Registered Public Accounting Firm\n",
      "To the Board of Directors and Shareholders of NVIDIA Corporation\n",
      "Opinions on the Financial Statements and Internal Control over Financial Reporting\n",
      "We have audited the accompanying consolidated balance sheets of NVIDIA Corporation and its subsidiaries (the \n",
      "“Company”) as of January 29, 2023 and January 30, 2022, and the related consolidated statements of income, \n",
      "comprehensive income, shareholders' equity and cash flows for each of the three years in the period ended January 29, \n",
      "2023, including the related notes and financial statement schedule listed in the index appearing under Item 15(a)(2) \n",
      "(collectively referred to as the “consolidated financial statements”). We also have audited the Company's internal control \n",
      "over financial reporting as of January 29, 2023, based on criteria established in Internal Control - Integrated Framewor k \n",
      "(2013) issued by the Committee of Sponsoring Organizations of the Treadway Commission (COSO).\n",
      "Took 3.5150017738342285 seconds to re-rank documents with ColBERT.\n"
     ]
    }
   ],
   "source": [
    "import torch\n",
    "\n",
    "start = time.time()\n",
    "scores = []\n",
    "\n",
    "# Function to compute MaxSim\n",
    "def maxsim(query_embedding, document_embedding):\n",
    "    # Expand dimensions for broadcasting\n",
    "    # Query: [batch_size, query_length, embedding_size] -> [batch_size, query_length, 1, embedding_size]\n",
    "    # Document: [batch_size, doc_length, embedding_size] -> [batch_size, 1, doc_length, embedding_size]\n",
    "    expanded_query = query_embedding.unsqueeze(2)\n",
    "    expanded_doc = document_embedding.unsqueeze(1)\n",
    "\n",
    "    # Compute cosine similarity across the embedding dimension\n",
    "    sim_matrix = torch.nn.functional.cosine_similarity(expanded_query, expanded_doc, dim=-1)\n",
    "\n",
    "    # Take the maximum similarity for each query token (across all document tokens)\n",
    "    # sim_matrix shape: [batch_size, query_length, doc_length]\n",
    "    max_sim_scores, _ = torch.max(sim_matrix, dim=2)\n",
    "\n",
    "    # Average these maximum scores across all query tokens\n",
    "    avg_max_sim = torch.mean(max_sim_scores, dim=1)\n",
    "    return avg_max_sim\n",
    "\n",
    "# Encode the query\n",
    "query_encoding = tokenizer(message, return_tensors='pt')\n",
    "query_embedding = model(**query_encoding).last_hidden_state.mean(dim=1)\n",
    "\n",
    "_, docs = retrieve_merge_docs(message4, vectordb, 15)\n",
    "# Get score for each document\n",
    "for document in docs:\n",
    "    document_encoding = tokenizer(document.page_content, return_tensors='pt', truncation=True, max_length=512)\n",
    "    document_embedding = model(**document_encoding).last_hidden_state\n",
    "\n",
    "    # Calculate MaxSim score\n",
    "    score = maxsim(query_embedding.unsqueeze(0), document_embedding)\n",
    "    scores.append({\n",
    "        \"score\": score.item(),\n",
    "        \"document\": document.page_content,\n",
    "    })\n",
    "\n",
    "print(f\"Took {time.time() - start} seconds to re-rank documents with ColBERT.\")"
   ]
  },
  {
   "cell_type": "code",
   "execution_count": 134,
   "metadata": {},
   "outputs": [
    {
     "name": "stdout",
     "output_type": "stream",
     "text": [
      "[\n",
      "  {\n",
      "    \"score\": 0.5484880805015564,\n",
      "    \"document\": \"concerning independence. The AC also considered whether the provision of certain permitted non-audit services by PwC \\nis compatible with PwC\\u2019s independence and discussed PwC\\u2019s independence with PwC. \\nBased on the AC\\u2019s review and discussions, the AC recommended to the Board of Directors that the audited consolidated \\nfinancial statements be included in the Annual Report on Form\\u00a010-K of NVIDIA for the fiscal year ended January\\u00a029, 2023.\\nAudit Committee\\nMichael G. McCaffery, Mark L. Perry, A. Brooke Seawell, Aarti Shah and Mark A. Stevens\\n69\"\n",
      "  },\n",
      "  {\n",
      "    \"score\": 0.5484880805015564,\n",
      "    \"document\": \"concerning independence. The AC also considered whether the provision of certain permitted non-audit services by PwC \\nis compatible with PwC\\u2019s independence and discussed PwC\\u2019s independence with PwC. \\nBased on the AC\\u2019s review and discussions, the AC recommended to the Board of Directors that the audited consolidated \\nfinancial statements be included in the Annual Report on Form\\u00a010-K of NVIDIA for the fiscal year ended January\\u00a029, 2023.\\nAudit Committee\\nMichael G. McCaffery, Mark L. Perry, A. Brooke Seawell, Aarti Shah and Mark A. Stevens\\n69\"\n",
      "  },\n",
      "  {\n",
      "    \"score\": 0.5279490351676941,\n",
      "    \"document\": \"Report of Independent Registered Public Accounting Firm\\nTo the Board of Directors and Shareholders of NVIDIA Corporation\\nOpinions on the Financial Statements and Internal Control over Financial Reporting\\nWe have audited the accompanying consolidated balance sheets of NVIDIA Corporation and its subsidiaries (the \\n\\u201cCompany\\u201d) as of January 29, 2023 and January 30, 2022, and the related consolidated statements of income, \\ncomprehensive income, shareholders' equity and cash flows for each of the three years in the period ended January 29, \\n2023, including the related notes and financial statement schedule listed in the index appearing under Item 15(a)(2) \\n(collectively referred to as the \\u201cconsolidated financial statements\\u201d). We also have audited the Company's internal control \\nover financial reporting as of January 29, 2023, based on criteria established in Internal Control - Integrated Framewor k \\n(2013) issued by the Committee of Sponsoring Organizations of the Treadway Commission (COSO).\"\n",
      "  },\n",
      "  {\n",
      "    \"score\": 0.5279490351676941,\n",
      "    \"document\": \"Report of Independent Registered Public Accounting Firm\\nTo the Board of Directors and Shareholders of NVIDIA Corporation\\nOpinions on the Financial Statements and Internal Control over Financial Reporting\\nWe have audited the accompanying consolidated balance sheets of NVIDIA Corporation and its subsidiaries (the \\n\\u201cCompany\\u201d) as of January 29, 2023 and January 30, 2022, and the related consolidated statements of income, \\ncomprehensive income, shareholders' equity and cash flows for each of the three years in the period ended January 29, \\n2023, including the related notes and financial statement schedule listed in the index appearing under Item 15(a)(2) \\n(collectively referred to as the \\u201cconsolidated financial statements\\u201d). We also have audited the Company's internal control \\nover financial reporting as of January 29, 2023, based on criteria established in Internal Control - Integrated Framewor k \\n(2013) issued by the Committee of Sponsoring Organizations of the Treadway Commission (COSO).\"\n",
      "  },\n",
      "  {\n",
      "    \"score\": 0.5279490351676941,\n",
      "    \"document\": \"Report of Independent Registered Public Accounting Firm\\nTo the Board of Directors and Shareholders of NVIDIA Corporation\\nOpinions on the Financial Statements and Internal Control over Financial Reporting\\nWe have audited the accompanying consolidated balance sheets of NVIDIA Corporation and its subsidiaries (the \\n\\u201cCompany\\u201d) as of January 29, 2023 and January 30, 2022, and the related consolidated statements of income, \\ncomprehensive income, shareholders' equity and cash flows for each of the three years in the period ended January 29, \\n2023, including the related notes and financial statement schedule listed in the index appearing under Item 15(a)(2) \\n(collectively referred to as the \\u201cconsolidated financial statements\\u201d). We also have audited the Company's internal control \\nover financial reporting as of January 29, 2023, based on criteria established in Internal Control - Integrated Framewor k \\n(2013) issued by the Committee of Sponsoring Organizations of the Treadway Commission (COSO).\"\n",
      "  }\n",
      "]\n"
     ]
    }
   ],
   "source": [
    "import json\n",
    "# Sort the scores by highest to lowest and print\n",
    "sorted_data = sorted(scores, key=lambda x: x['score'], reverse=True)\n",
    "top5_data = sorted_data[:5]\n",
    "print(json.dumps(top5_data, indent=2))"
   ]
  },
  {
   "cell_type": "markdown",
   "metadata": {},
   "source": [
    "### Performing prompt compression and rank relevant docs"
   ]
  },
  {
   "cell_type": "code",
   "execution_count": 144,
   "metadata": {},
   "outputs": [
    {
     "name": "stderr",
     "output_type": "stream",
     "text": [
      "huggingface/tokenizers: The current process just got forked, after parallelism has already been used. Disabling parallelism to avoid deadlocks...\n",
      "To disable this warning, you can either:\n",
      "\t- Avoid using `tokenizers` before the fork if possible\n",
      "\t- Explicitly set the environment variable TOKENIZERS_PARALLELISM=(true | false)\n"
     ]
    },
    {
     "name": "stdout",
     "output_type": "stream",
     "text": [
      "Requirement already satisfied: accelerate in /Users/wenda/anaconda3/envs/temus2/lib/python3.12/site-packages (0.32.1)\n",
      "Requirement already satisfied: numpy<2.0.0,>=1.17 in /Users/wenda/anaconda3/envs/temus2/lib/python3.12/site-packages (from accelerate) (1.26.4)\n",
      "Requirement already satisfied: packaging>=20.0 in /Users/wenda/anaconda3/envs/temus2/lib/python3.12/site-packages (from accelerate) (23.2)\n",
      "Requirement already satisfied: psutil in /Users/wenda/anaconda3/envs/temus2/lib/python3.12/site-packages (from accelerate) (5.9.0)\n",
      "Requirement already satisfied: pyyaml in /Users/wenda/anaconda3/envs/temus2/lib/python3.12/site-packages (from accelerate) (6.0.1)\n",
      "Requirement already satisfied: torch>=1.10.0 in /Users/wenda/anaconda3/envs/temus2/lib/python3.12/site-packages (from accelerate) (2.3.1)\n",
      "Requirement already satisfied: huggingface-hub in /Users/wenda/anaconda3/envs/temus2/lib/python3.12/site-packages (from accelerate) (0.23.4)\n",
      "Requirement already satisfied: safetensors>=0.3.1 in /Users/wenda/anaconda3/envs/temus2/lib/python3.12/site-packages (from accelerate) (0.4.3)\n",
      "Requirement already satisfied: filelock in /Users/wenda/anaconda3/envs/temus2/lib/python3.12/site-packages (from torch>=1.10.0->accelerate) (3.15.4)\n",
      "Requirement already satisfied: typing-extensions>=4.8.0 in /Users/wenda/anaconda3/envs/temus2/lib/python3.12/site-packages (from torch>=1.10.0->accelerate) (4.12.2)\n",
      "Requirement already satisfied: sympy in /Users/wenda/anaconda3/envs/temus2/lib/python3.12/site-packages (from torch>=1.10.0->accelerate) (1.13.0)\n",
      "Requirement already satisfied: networkx in /Users/wenda/anaconda3/envs/temus2/lib/python3.12/site-packages (from torch>=1.10.0->accelerate) (3.3)\n",
      "Requirement already satisfied: jinja2 in /Users/wenda/anaconda3/envs/temus2/lib/python3.12/site-packages (from torch>=1.10.0->accelerate) (3.1.4)\n",
      "Requirement already satisfied: fsspec in /Users/wenda/anaconda3/envs/temus2/lib/python3.12/site-packages (from torch>=1.10.0->accelerate) (2024.5.0)\n",
      "Requirement already satisfied: requests in /Users/wenda/anaconda3/envs/temus2/lib/python3.12/site-packages (from huggingface-hub->accelerate) (2.32.3)\n",
      "Requirement already satisfied: tqdm>=4.42.1 in /Users/wenda/anaconda3/envs/temus2/lib/python3.12/site-packages (from huggingface-hub->accelerate) (4.66.4)\n",
      "Requirement already satisfied: MarkupSafe>=2.0 in /Users/wenda/anaconda3/envs/temus2/lib/python3.12/site-packages (from jinja2->torch>=1.10.0->accelerate) (2.1.5)\n",
      "Requirement already satisfied: charset-normalizer<4,>=2 in /Users/wenda/anaconda3/envs/temus2/lib/python3.12/site-packages (from requests->huggingface-hub->accelerate) (3.3.2)\n",
      "Requirement already satisfied: idna<4,>=2.5 in /Users/wenda/anaconda3/envs/temus2/lib/python3.12/site-packages (from requests->huggingface-hub->accelerate) (3.7)\n",
      "Requirement already satisfied: urllib3<3,>=1.21.1 in /Users/wenda/anaconda3/envs/temus2/lib/python3.12/site-packages (from requests->huggingface-hub->accelerate) (2.2.2)\n",
      "Requirement already satisfied: certifi>=2017.4.17 in /Users/wenda/anaconda3/envs/temus2/lib/python3.12/site-packages (from requests->huggingface-hub->accelerate) (2024.7.4)\n",
      "Requirement already satisfied: mpmath<1.4,>=1.1.0 in /Users/wenda/anaconda3/envs/temus2/lib/python3.12/site-packages (from sympy->torch>=1.10.0->accelerate) (1.3.0)\n"
     ]
    },
    {
     "name": "stderr",
     "output_type": "stream",
     "text": [
      "huggingface/tokenizers: The current process just got forked, after parallelism has already been used. Disabling parallelism to avoid deadlocks...\n",
      "To disable this warning, you can either:\n",
      "\t- Avoid using `tokenizers` before the fork if possible\n",
      "\t- Explicitly set the environment variable TOKENIZERS_PARALLELISM=(true | false)\n"
     ]
    },
    {
     "name": "stdout",
     "output_type": "stream",
     "text": [
      "Requirement already satisfied: llmlingua in /Users/wenda/anaconda3/envs/temus2/lib/python3.12/site-packages (0.2.2)\n",
      "Requirement already satisfied: transformers>=4.26.0 in /Users/wenda/anaconda3/envs/temus2/lib/python3.12/site-packages (from llmlingua) (4.42.4)\n",
      "Requirement already satisfied: accelerate in /Users/wenda/anaconda3/envs/temus2/lib/python3.12/site-packages (from llmlingua) (0.32.1)\n",
      "Requirement already satisfied: torch in /Users/wenda/anaconda3/envs/temus2/lib/python3.12/site-packages (from llmlingua) (2.3.1)\n",
      "Requirement already satisfied: tiktoken in /Users/wenda/anaconda3/envs/temus2/lib/python3.12/site-packages (from llmlingua) (0.7.0)\n",
      "Requirement already satisfied: nltk in /Users/wenda/anaconda3/envs/temus2/lib/python3.12/site-packages (from llmlingua) (3.8.1)\n",
      "Requirement already satisfied: numpy in /Users/wenda/anaconda3/envs/temus2/lib/python3.12/site-packages (from llmlingua) (1.26.4)\n",
      "Requirement already satisfied: filelock in /Users/wenda/anaconda3/envs/temus2/lib/python3.12/site-packages (from transformers>=4.26.0->llmlingua) (3.15.4)\n",
      "Requirement already satisfied: huggingface-hub<1.0,>=0.23.2 in /Users/wenda/anaconda3/envs/temus2/lib/python3.12/site-packages (from transformers>=4.26.0->llmlingua) (0.23.4)\n",
      "Requirement already satisfied: packaging>=20.0 in /Users/wenda/anaconda3/envs/temus2/lib/python3.12/site-packages (from transformers>=4.26.0->llmlingua) (23.2)\n",
      "Requirement already satisfied: pyyaml>=5.1 in /Users/wenda/anaconda3/envs/temus2/lib/python3.12/site-packages (from transformers>=4.26.0->llmlingua) (6.0.1)\n",
      "Requirement already satisfied: regex!=2019.12.17 in /Users/wenda/anaconda3/envs/temus2/lib/python3.12/site-packages (from transformers>=4.26.0->llmlingua) (2024.5.15)\n",
      "Requirement already satisfied: requests in /Users/wenda/anaconda3/envs/temus2/lib/python3.12/site-packages (from transformers>=4.26.0->llmlingua) (2.32.3)\n",
      "Requirement already satisfied: safetensors>=0.4.1 in /Users/wenda/anaconda3/envs/temus2/lib/python3.12/site-packages (from transformers>=4.26.0->llmlingua) (0.4.3)\n",
      "Requirement already satisfied: tokenizers<0.20,>=0.19 in /Users/wenda/anaconda3/envs/temus2/lib/python3.12/site-packages (from transformers>=4.26.0->llmlingua) (0.19.1)\n",
      "Requirement already satisfied: tqdm>=4.27 in /Users/wenda/anaconda3/envs/temus2/lib/python3.12/site-packages (from transformers>=4.26.0->llmlingua) (4.66.4)\n",
      "Requirement already satisfied: psutil in /Users/wenda/anaconda3/envs/temus2/lib/python3.12/site-packages (from accelerate->llmlingua) (5.9.0)\n",
      "Requirement already satisfied: typing-extensions>=4.8.0 in /Users/wenda/anaconda3/envs/temus2/lib/python3.12/site-packages (from torch->llmlingua) (4.12.2)\n",
      "Requirement already satisfied: sympy in /Users/wenda/anaconda3/envs/temus2/lib/python3.12/site-packages (from torch->llmlingua) (1.13.0)\n",
      "Requirement already satisfied: networkx in /Users/wenda/anaconda3/envs/temus2/lib/python3.12/site-packages (from torch->llmlingua) (3.3)\n",
      "Requirement already satisfied: jinja2 in /Users/wenda/anaconda3/envs/temus2/lib/python3.12/site-packages (from torch->llmlingua) (3.1.4)\n",
      "Requirement already satisfied: fsspec in /Users/wenda/anaconda3/envs/temus2/lib/python3.12/site-packages (from torch->llmlingua) (2024.5.0)\n",
      "Requirement already satisfied: click in /Users/wenda/anaconda3/envs/temus2/lib/python3.12/site-packages (from nltk->llmlingua) (8.1.7)\n",
      "Requirement already satisfied: joblib in /Users/wenda/anaconda3/envs/temus2/lib/python3.12/site-packages (from nltk->llmlingua) (1.4.2)\n",
      "Requirement already satisfied: charset-normalizer<4,>=2 in /Users/wenda/anaconda3/envs/temus2/lib/python3.12/site-packages (from requests->transformers>=4.26.0->llmlingua) (3.3.2)\n",
      "Requirement already satisfied: idna<4,>=2.5 in /Users/wenda/anaconda3/envs/temus2/lib/python3.12/site-packages (from requests->transformers>=4.26.0->llmlingua) (3.7)\n",
      "Requirement already satisfied: urllib3<3,>=1.21.1 in /Users/wenda/anaconda3/envs/temus2/lib/python3.12/site-packages (from requests->transformers>=4.26.0->llmlingua) (2.2.2)\n",
      "Requirement already satisfied: certifi>=2017.4.17 in /Users/wenda/anaconda3/envs/temus2/lib/python3.12/site-packages (from requests->transformers>=4.26.0->llmlingua) (2024.7.4)\n",
      "Requirement already satisfied: MarkupSafe>=2.0 in /Users/wenda/anaconda3/envs/temus2/lib/python3.12/site-packages (from jinja2->torch->llmlingua) (2.1.5)\n",
      "Requirement already satisfied: mpmath<1.4,>=1.1.0 in /Users/wenda/anaconda3/envs/temus2/lib/python3.12/site-packages (from sympy->torch->llmlingua) (1.3.0)\n"
     ]
    }
   ],
   "source": [
    "!pip install accelerate\n",
    "!pip install llmlingua"
   ]
  },
  {
   "cell_type": "code",
   "execution_count": 1,
   "metadata": {},
   "outputs": [
    {
     "name": "stderr",
     "output_type": "stream",
     "text": [
      "/Users/wenda/anaconda3/envs/temus2/lib/python3.12/site-packages/tqdm/auto.py:21: TqdmWarning: IProgress not found. Please update jupyter and ipywidgets. See https://ipywidgets.readthedocs.io/en/stable/user_install.html\n",
      "  from .autonotebook import tqdm as notebook_tqdm\n"
     ]
    }
   ],
   "source": [
    "from llmlingua import PromptCompressor\n",
    "\n",
    "llm_lingua = PromptCompressor(\n",
    "    model_name=\"microsoft/llmlingua-2-bert-base-multilingual-cased-meetingbank\",\n",
    "    model_config={\"revision\": \"main\"},\n",
    "    use_llmlingua2=True,\n",
    "    device_map=\"cpu\",\n",
    ")\n",
    "\n",
    "# Function definition\n",
    "def compress_query_prompt(query):\n",
    "\n",
    "    demonstration_str = query['demonstration_str']\n",
    "    instruction = query['instruction']\n",
    "    question = query['question']\n",
    "\n",
    "    # 6x Compression\n",
    "    compressed_prompt = llm_lingua.compress_prompt(\n",
    "        demonstration_str.split(\"\\n\"), \n",
    "        instruction=instruction,\n",
    "        question=question,\n",
    "        target_token=500,\n",
    "        rank_method=\"longllmlingua\", \n",
    "        context_budget=\"+100\",\n",
    "        dynamic_context_compression_ratio=0.4,\n",
    "        reorder_context=\"sort\",\n",
    "    )\n",
    "\n",
    "    return json.dumps(compressed_prompt, indent=4)\n"
   ]
  },
  {
   "cell_type": "code",
   "execution_count": 60,
   "metadata": {},
   "outputs": [
    {
     "name": "stdout",
     "output_type": "stream",
     "text": [
      "<class 'dict'>\n",
      "{'page': 86, 'source': '/Users/wenda/Downloads/RAGFinanceChatBot-main/data/docs/nvidia-2023.pdf'}\n",
      "<class 'str'>\n",
      "Fees Billed by the Independent Registered Public Accounting Firm \n",
      "The following is a summary of fees billed by PwC for Fiscal 2023 and 2022 for audit, tax and other professional services \n",
      "during each fiscal year: \n",
      "Fiscal 2023 Fiscal 2022\n",
      "Audit Fees (1)\n",
      "$ 6,858,279 $ 6,762,002 \n",
      "Audit Related Fees (2)\n",
      " 243,400  491,100 \n",
      "Tax Fees (3)\n",
      " 1,189,263  708,680 \n",
      "All Other Fees (4)\n",
      " 17,858  12,900 \n",
      "Total Fees$ 8,308,800 $ 7,974,682 \n",
      "(1)For the audit of our consolidated financial statements, including business combination activities during the year, the audit of our internal control over \n",
      "financial reporting, review of our quarterly financial statements and annual reports, review of SEC registration statements and related consents, review \n",
      "of SEC filings for public debt financing and related comfort letters, and fees related to statutory audits of some of our international entities.\n",
      "Numebr of docs retrieved:  20\n"
     ]
    }
   ],
   "source": [
    "_, docs = retrieve_merge_docs(message4, vectordb, 20)\n",
    "print(\"Numebr of docs retrieved: \", len(docs))"
   ]
  },
  {
   "cell_type": "markdown",
   "metadata": {},
   "source": []
  }
 ],
 "metadata": {
  "kernelspec": {
   "display_name": "base",
   "language": "python",
   "name": "python3"
  },
  "language_info": {
   "codemirror_mode": {
    "name": "ipython",
    "version": 3
   },
   "file_extension": ".py",
   "mimetype": "text/x-python",
   "name": "python",
   "nbconvert_exporter": "python",
   "pygments_lexer": "ipython3",
   "version": "3.12.4"
  }
 },
 "nbformat": 4,
 "nbformat_minor": 2
}
