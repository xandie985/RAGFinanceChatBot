{
 "cells": [
  {
   "cell_type": "code",
   "execution_count": 4,
   "metadata": {},
   "outputs": [
    {
     "data": {
      "text/plain": [
       "True"
      ]
     },
     "execution_count": 4,
     "metadata": {},
     "output_type": "execute_result"
    }
   ],
   "source": [
    "from langchain_groq import ChatGroq\n",
    "from pyprojroot import here\n",
    "#reading GROQ_API_KEY from .env file\n",
    "import os\n",
    "from openai import OpenAI\n",
    "from dotenv import load_dotenv\n",
    "load_dotenv(dotenv_path=here(\".env\"))\n",
    "load_dotenv()"
   ]
  },
  {
   "cell_type": "code",
   "execution_count": 16,
   "metadata": {},
   "outputs": [],
   "source": [
    "model = ChatGroq(\n",
    "    api_key=os.getenv(\"GROQ_API_KEY\"), \n",
    "    model_name=\"mixtral-8x7b-32768\")"
   ]
  },
  {
   "cell_type": "code",
   "execution_count": 18,
   "metadata": {},
   "outputs": [
    {
     "data": {
      "text/plain": [
       "AIMessage(content='I cannot provide real-time information, but as of my last update, the President of the United States is Joe Biden. He assumed office on January 20, 2021. However, I recommend checking the latest sources to confirm, as this information may have changed.', response_metadata={'token_usage': {'completion_tokens': 59, 'prompt_tokens': 19, 'total_tokens': 78, 'completion_time': 0.093053271, 'prompt_time': 0.002550518, 'queue_time': None, 'total_time': 0.09560378900000001}, 'model_name': 'mixtral-8x7b-32768', 'system_fingerprint': 'fp_c5f20b5bb1', 'finish_reason': 'stop', 'logprobs': None}, id='run-d6767b73-ef08-4c04-896a-8d93ab643e43-0', usage_metadata={'input_tokens': 19, 'output_tokens': 59, 'total_tokens': 78})"
      ]
     },
     "execution_count": 18,
     "metadata": {},
     "output_type": "execute_result"
    }
   ],
   "source": [
    "response = model.invoke(\"Who is the president of the United States?\")\n",
    "response"
   ]
  },
  {
   "cell_type": "code",
   "execution_count": 19,
   "metadata": {},
   "outputs": [
    {
     "data": {
      "text/plain": [
       "'I cannot provide real-time information, but as of my last update, the President of the United States is Joe Biden. He assumed office on January 20, 2021. However, I recommend checking the latest sources to confirm, as this information may have changed.'"
      ]
     },
     "execution_count": 19,
     "metadata": {},
     "output_type": "execute_result"
    }
   ],
   "source": [
    "response.content\n"
   ]
  },
  {
   "cell_type": "code",
   "execution_count": null,
   "metadata": {},
   "outputs": [],
   "source": [
    "response."
   ]
  },
  {
   "cell_type": "markdown",
   "metadata": {},
   "source": [
    "ChatGPT testing"
   ]
  },
  {
   "cell_type": "code",
   "execution_count": 6,
   "metadata": {},
   "outputs": [
    {
     "data": {
      "text/plain": [
       "'The Sun is a star at the center of our solar system. It is a massive ball of hot gas that provides light and heat to the planets in our solar system, including Earth. The Sun is essential for life on Earth as it provides the energy needed for plants to grow through the process of photosynthesis.'"
      ]
     },
     "execution_count": 6,
     "metadata": {},
     "output_type": "execute_result"
    }
   ],
   "source": [
    "client = OpenAI()\n",
    "response = client.chat.completions.create(model=\"gpt-3.5-turbo\",\n",
    "                                    messages=[\n",
    "                                        {\"role\": \"system\", \"content\": \"Helpful chatbot\"},\n",
    "                                        {\"role\": \"user\", \"content\": \"what is Sun?\"}\n",
    "                                        ],\n",
    "                                        temperature=0.1)\n",
    "response.choices[0].message.content"
   ]
  },
  {
   "cell_type": "markdown",
   "metadata": {},
   "source": []
  }
 ],
 "metadata": {
  "kernelspec": {
   "display_name": "temus2",
   "language": "python",
   "name": "python3"
  },
  "language_info": {
   "codemirror_mode": {
    "name": "ipython",
    "version": 3
   },
   "file_extension": ".py",
   "mimetype": "text/x-python",
   "name": "python",
   "nbconvert_exporter": "python",
   "pygments_lexer": "ipython3",
   "version": "3.12.4"
  }
 },
 "nbformat": 4,
 "nbformat_minor": 2
}
